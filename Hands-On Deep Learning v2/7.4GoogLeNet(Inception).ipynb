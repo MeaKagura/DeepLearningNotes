{
 "cells": [
  {
   "cell_type": "code",
   "execution_count": null,
   "metadata": {
    "collapsed": true
   },
   "outputs": [],
   "source": [
    "import torch\n",
    "import torch.nn as nn\n",
    "import d2l.torch as d2l"
   ]
  },
  {
   "cell_type": "markdown",
   "source": [
    "## Incepton块"
   ],
   "metadata": {
    "collapsed": false
   }
  },
  {
   "cell_type": "code",
   "execution_count": null,
   "outputs": [],
   "source": [
    "class InceptionBlock(nn.Module):\n",
    "    def __init__(self, in_channels, c1, c2, c3, c4):\n",
    "        super().__init__()\n",
    "        self.path1 = nn.Sequential(\n",
    "            nn.Conv2d(in_channels, c1, kernel_size=1),\n",
    "            nn.ReLU()\n",
    "        )\n",
    "        self.path2 = nn.Sequential(\n",
    "            nn.Conv2d(in_channels, c2[0], kernel_size=1),\n",
    "            nn.ReLU(),\n",
    "            nn.Conv2d(c2[0], c2[1], kernel_size=3, padding=1),\n",
    "            nn.ReLU()\n",
    "        )\n",
    "        self.path3 = nn.Sequential(\n",
    "            nn.Conv2d(in_channels, c3[0], kernel_size=1),\n",
    "            nn.ReLU(),\n",
    "            nn.Conv2d(c3[0], c3[1], kernel_size=5, padding=2),\n",
    "            nn.ReLU()\n",
    "        )\n",
    "        self.path4 = nn.Sequential(\n",
    "            nn.MaxPool2d(3, 1, 1),\n",
    "            nn.Conv2d(in_channels, c4, 1),\n",
    "            nn.ReLU()\n",
    "        )\n",
    "\n",
    "    def forward(self, X):\n",
    "        Y_1 = self.path1(X)\n",
    "        Y_2 = self.path2(X)\n",
    "        Y_3 = self.path3(X)\n",
    "        Y_4 = self.path4(X)\n",
    "        Y = torch.cat((Y_1, Y_2, Y_3, Y_4), dim=1)\n",
    "        return Y"
   ],
   "metadata": {
    "collapsed": false
   }
  },
  {
   "cell_type": "code",
   "execution_count": 1,
   "outputs": [
    {
     "ename": "SyntaxError",
     "evalue": "invalid syntax (1754348667.py, line 12)",
     "output_type": "error",
     "traceback": [
      "\u001B[0;36m  Cell \u001B[0;32mIn[1], line 12\u001B[0;36m\u001B[0m\n\u001B[0;31m    )\u001B[0m\n\u001B[0m    ^\u001B[0m\n\u001B[0;31mSyntaxError\u001B[0m\u001B[0;31m:\u001B[0m invalid syntax\n"
     ]
    }
   ],
   "source": [
    "class Inception(nn.Module):\n",
    "    def __init__(self):\n",
    "        super().__init__()\n",
    "        self.block1 = nn.Sequential(\n",
    "            nn.Conv2d(1, 64, kernel_size=7, stride=2, padding=3),  # [64, 112, 112]\n",
    "            nn.ReLU(),\n",
    "            nn.MaxPool2d(3, 2, 1)  # [64, 56, 56]\n",
    "        )\n",
    "        self.block2 = nn.Sequential(\n",
    "            nn.Conv2d(64, 64, kernel_size=1, stride=1),  # [64, 56, 56]\n",
    "            nn.ReLU(),\n",
    "            nn.Conv2d(64, 192, kernel_size=3, stride=1, padding=1),  # [192, 56, 56]\n",
    "            nn.ReLU(),\n",
    "            nn.MaxPool2d(3, 2, 1)  # [192, 28, 28]\n",
    "        )\n",
    "        self.block3 = nn.Sequential(\n",
    "            InceptionBlock(192, 64, (96, 128), (16, 32), 32),  # [256, 28, 28]\n",
    "            InceptionBlock(256, 128, (128, 192), (32, 96), 64),  # [480, 28, 28]\n",
    "            nn.MaxPool2d(3, 2, 1)  # [480, 14, 14]\n",
    "        )\n",
    "        self.block4 = nn.Sequential(\n",
    "            InceptionBlock(480, 192, (96, 208), (16, 48), 64),  # [512, 14, 14]\n",
    "            InceptionBlock(512, 160, (112, 224), (24, 64), 64),  # [512, 14, 14]\n",
    "            InceptionBlock(512, 160, (112, 224), (24, 64), 64),  # [512, 14, 14]\n",
    "            InceptionBlock(512, 160, (112, 224), (24, 64), 64),  # [512, 14, 14]\n",
    "            InceptionBlock(528, 256, (160, 320), (32, 128), 128),  # [832, 14, 14]\n",
    "            nn.MaxPool2d(3, 2, 1)  # [832, 7, 7]\n",
    "        )\n",
    "        self.block5 = nn.Sequential(\n",
    "            InceptionBlock(832, 256, (160, 320), (32, 128), 128),  # [832, 7, 7]\n",
    "            InceptionBlock(832, 384, (192, 384), (48, 128), 128),  # [1024, 7, 7]\n",
    "            nn.AdaptiveAvgPool2d((1, 1))  # [1024, 1, 1]\n",
    "        )\n",
    "        self.fc = nn.Sequential(\n",
    "            nn.Flatten(),  # [1024]\n",
    "            nn.Linear(1024, 10)  #[10]\n",
    "        )\n",
    "\n",
    "    def forward(self, X):\n",
    "        X = X.reshape(-1, 1, 224, 224)\n",
    "        X = self.block1(X)\n",
    "        X = self.block2(X)\n",
    "        X = self.block3(X)\n",
    "        X = self.block4(X)\n",
    "        X = self.block5(X)\n",
    "        y = self.fc(X)\n",
    "        return y"
   ],
   "metadata": {
    "collapsed": false
   }
  },
  {
   "cell_type": "code",
   "execution_count": null,
   "outputs": [],
   "source": [],
   "metadata": {
    "collapsed": false
   }
  }
 ],
 "metadata": {
  "kernelspec": {
   "display_name": "Python 3",
   "language": "python",
   "name": "python3"
  },
  "language_info": {
   "codemirror_mode": {
    "name": "ipython",
    "version": 2
   },
   "file_extension": ".py",
   "mimetype": "text/x-python",
   "name": "python",
   "nbconvert_exporter": "python",
   "pygments_lexer": "ipython2",
   "version": "2.7.6"
  }
 },
 "nbformat": 4,
 "nbformat_minor": 0
}
