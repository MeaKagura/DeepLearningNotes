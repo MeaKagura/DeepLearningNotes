{
 "cells": [
  {
   "cell_type": "code",
   "execution_count": null,
   "metadata": {
    "collapsed": true
   },
   "outputs": [],
   "source": [
    "import torch\n",
    "import torch.nn as nn\n",
    "import d2l.torch as d2l"
   ]
  },
  {
   "cell_type": "markdown",
   "source": [
    "## 定义模型"
   ],
   "metadata": {
    "collapsed": false
   }
  },
  {
   "cell_type": "code",
   "execution_count": null,
   "outputs": [],
   "source": [
    "class NiNBlock(nn.Module):\n",
    "    def __init__(self, in_features, out_features, kernel_size, stride, padding):\n",
    "        super().__init__()\n",
    "        self.block = nn.Sequential(\n",
    "            nn.Conv2d(in_features, out_features, kernel_size, stride, padding),\n",
    "            nn.ReLU(),\n",
    "            nn.Conv2d(out_features, out_features, 1),\n",
    "            nn.ReLU(),\n",
    "            nn.Conv2d(out_features, out_features, 1),\n",
    "            nn.ReLU(),\n",
    "        )\n",
    "\n",
    "    def forward(self, X):\n",
    "        Y = self.block(X)\n",
    "        return Y"
   ],
   "metadata": {
    "collapsed": false
   }
  },
  {
   "cell_type": "code",
   "execution_count": null,
   "outputs": [],
   "source": [
    "class NiN(nn.Module):\n",
    "    def __init__(self):\n",
    "        super().__init__()\n",
    "        self.block1 = nn.Sequential(\n",
    "            NiNBlock(1, 96, 11, 4, 1),  # [96, 54, 54]\n",
    "            nn.MaxPool2d(3, 2),  # [96, 26, 26]\n",
    "        )\n",
    "        self.block2 = nn.Sequential(\n",
    "            NiNBlock(96, 256, 5, 1, 2),  # [256, 26, 26]\n",
    "            nn.MaxPool2d(3, 2),  # [256, 12, 12]\n",
    "        )\n",
    "        self.block3 = nn.Sequential(\n",
    "            NiNBlock(256, 384, 3, 1, 1),  # [384, 12, 12]\n",
    "            nn.MaxPool2d(3, 2),  # [384, 5, 5]\n",
    "        )\n",
    "        self.block4 = nn.Sequential(\n",
    "            NiNBlock(384, 10, 3, 1, 1),  # [10, 5, 5]\n",
    "            nn.AdaptiveAvgPool2d((1, 1)),  # [10, 1, 1]\n",
    "            nn.Flatten()  # [10]\n",
    "        )\n",
    "\n",
    "    def forward(self, X):\n",
    "        X = X.reshape(-1, 1, 224, 224)\n",
    "        X = self.block1(X)\n",
    "        X = self.block2(X)\n",
    "        X = self.block3(X)\n",
    "        y = self.block4(X)\n",
    "        return y"
   ],
   "metadata": {
    "collapsed": false
   }
  }
 ],
 "metadata": {
  "kernelspec": {
   "display_name": "Python 3",
   "language": "python",
   "name": "python3"
  },
  "language_info": {
   "codemirror_mode": {
    "name": "ipython",
    "version": 2
   },
   "file_extension": ".py",
   "mimetype": "text/x-python",
   "name": "python",
   "nbconvert_exporter": "python",
   "pygments_lexer": "ipython2",
   "version": "2.7.6"
  }
 },
 "nbformat": 4,
 "nbformat_minor": 0
}
