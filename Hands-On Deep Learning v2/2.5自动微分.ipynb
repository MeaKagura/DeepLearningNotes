{
 "cells": [
  {
   "cell_type": "markdown",
   "source": [
    "## 对函数$y=2\\mathbf {x}^\\mathrm T\\mathbf x$关于列向量$\\mathbf x$求导"
   ],
   "metadata": {
    "collapsed": false
   }
  },
  {
   "cell_type": "code",
   "execution_count": 2,
   "outputs": [],
   "source": [
    "import torch"
   ],
   "metadata": {
    "collapsed": false
   }
  },
  {
   "cell_type": "code",
   "execution_count": 3,
   "outputs": [
    {
     "name": "stdout",
     "output_type": "stream",
     "text": [
      "tensor([0., 1., 2., 3.], requires_grad=True)\n"
     ]
    }
   ],
   "source": [
    "x = torch.arange(4.0)\n",
    "x.requires_grad_(True)\n",
    "print(x)\n"
   ],
   "metadata": {
    "collapsed": false
   }
  },
  {
   "cell_type": "code",
   "execution_count": 5,
   "outputs": [
    {
     "name": "stdout",
     "output_type": "stream",
     "text": [
      "tensor(14., grad_fn=<DotBackward0>)\n"
     ]
    }
   ],
   "source": [
    "y = torch.dot(x, x)  # y = x_1^2 + x_2^2 + x_3^2 + x_4^2\n",
    "print(y)"
   ],
   "metadata": {
    "collapsed": false
   }
  },
  {
   "cell_type": "code",
   "execution_count": 6,
   "outputs": [
    {
     "name": "stdout",
     "output_type": "stream",
     "text": [
      "tensor([0., 2., 4., 6.])\n"
     ]
    }
   ],
   "source": [
    "y.backward()\n",
    "print(x.grad)  # x.grad = 2 * x"
   ],
   "metadata": {
    "collapsed": false
   }
  },
  {
   "cell_type": "markdown",
   "source": [
    "## 对函数$y=\\sum(\\mathbf x)$关于列向量$\\mathbf x$求导"
   ],
   "metadata": {
    "collapsed": false
   }
  },
  {
   "cell_type": "code",
   "execution_count": 19,
   "outputs": [
    {
     "name": "stdout",
     "output_type": "stream",
     "text": [
      "tensor([1., 1., 1., 1.])\n"
     ]
    }
   ],
   "source": [
    "x.grad.zero_()\n",
    "y = x.sum()  # y = x_1 + x_2 + x_3 + x_4\n",
    "y.backward()\n",
    "print(x.grad)"
   ],
   "metadata": {
    "collapsed": false
   }
  },
  {
   "cell_type": "markdown",
   "source": [
    "## 深度学习中 ，我们的目的不是计算微分矩阵，而是批量中每个样本单独计算的偏导数之和"
   ],
   "metadata": {
    "collapsed": false
   }
  },
  {
   "cell_type": "code",
   "execution_count": 22,
   "outputs": [
    {
     "name": "stdout",
     "output_type": "stream",
     "text": [
      "tensor([0., 2., 4., 6.])\n"
     ]
    }
   ],
   "source": [
    "x.grad.zero_()\n",
    "y = x * x  # y = tensor(0., 1., 4., 9.)\n",
    "# y.backward()  # RuntimeError: grad can be implicitly created only for scalar outputs\n",
    "y.sum().backward()  # y.sum() = x_1^2 + x_2^2 + x_3^2 + x_4^2\n",
    "print(x.grad)"
   ],
   "metadata": {
    "collapsed": false
   }
  },
  {
   "cell_type": "markdown",
   "source": [
    "## 将某些计算移动到记录的计算图之外"
   ],
   "metadata": {
    "collapsed": false
   }
  },
  {
   "cell_type": "code",
   "execution_count": 31,
   "outputs": [
    {
     "name": "stdout",
     "output_type": "stream",
     "text": [
      "tensor([0., 1., 4., 9.])\n"
     ]
    }
   ],
   "source": [
    "x.grad.zero_()\n",
    "y = x * x  # y = tensor(0., 1., 4., 9.)\n",
    "z = y.detach() * x  # z = tensor(0.*x_1, 1.*x_2, 4.*x_3, 9.*x_4)\n",
    "z.sum().backward()  # z.sum() = 0.*x_1 + 1.*x_2 + 4.*x_3 + 9.*x_4\n",
    "print(x.grad)"
   ],
   "metadata": {
    "collapsed": false
   }
  },
  {
   "cell_type": "markdown",
   "source": [
    "## 即使构建函数的计算图需要通过Python控制流（例如，条件、循环或任意函数调用），我们仍然可以计算得到的变量的梯度"
   ],
   "metadata": {
    "collapsed": false
   }
  },
  {
   "cell_type": "code",
   "execution_count": 10,
   "outputs": [
    {
     "name": "stdout",
     "output_type": "stream",
     "text": [
      "tensor([0., 1., 2., 3.], requires_grad=True)\n",
      "tensor([   0.,  512., 1024., 1536.], grad_fn=<MulBackward0>)\n",
      "tensor([512., 512., 512., 512.])\n"
     ]
    }
   ],
   "source": [
    "def f(a):\n",
    "    b = a * 2\n",
    "    while b.norm() < 1000:\n",
    "        b = b * 2\n",
    "    if b.sum() > 0:\n",
    "        c = b\n",
    "    else:\n",
    "        c = 100 * b\n",
    "    return c\n",
    "\n",
    "x.grad.zero_()\n",
    "y = f(x)  # y = x_1^k + x_2^k + x_3^k + x_4^k\n",
    "print(x)\n",
    "print(y)\n",
    "y.sum().backward()\n",
    "print(x.grad)"
   ],
   "metadata": {
    "collapsed": false
   }
  }
 ],
 "metadata": {
  "kernelspec": {
   "display_name": "Python 3",
   "language": "python",
   "name": "python3"
  },
  "language_info": {
   "codemirror_mode": {
    "name": "ipython",
    "version": 2
   },
   "file_extension": ".py",
   "mimetype": "text/x-python",
   "name": "python",
   "nbconvert_exporter": "python",
   "pygments_lexer": "ipython2",
   "version": "2.7.6"
  }
 },
 "nbformat": 4,
 "nbformat_minor": 0
}
