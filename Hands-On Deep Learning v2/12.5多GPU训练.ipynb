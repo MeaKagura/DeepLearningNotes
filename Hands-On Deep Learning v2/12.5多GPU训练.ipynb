{
 "cells": [
  {
   "cell_type": "code",
   "execution_count": null,
   "metadata": {
    "collapsed": true
   },
   "outputs": [],
   "source": [
    "%matplotlib inline\n",
    "import torch\n",
    "from torch import nn\n",
    "from torch.nn import functional as F\n",
    "from d2l import torch as d2l"
   ]
  },
  {
   "cell_type": "markdown",
   "source": [
    "## 多卡训练-从零实现"
   ],
   "metadata": {
    "collapsed": false
   }
  },
  {
   "cell_type": "code",
   "execution_count": null,
   "outputs": [],
   "source": [
    "# 向多个设备分发参数\n",
    "def get_params(params, devices):\n",
    "    new_params = [params.clone().to(device) for device in devices]\n",
    "    for params in new_params:\n",
    "        params.require_grad_()\n",
    "    return new_params"
   ],
   "metadata": {
    "collapsed": false
   }
  },
  {
   "cell_type": "code",
   "execution_count": null,
   "outputs": [],
   "source": [
    "# 将所有向量相加，并将结果广播给所有设备\n",
    "def allreduce(data):\n",
    "    for i in range(1, len(data)):\n",
    "        data[0][:] += data[i].to(data[0].device)\n",
    "    for i in range(1, len(data)):\n",
    "        data[i] = data[0].to(data[i].device)"
   ],
   "metadata": {
    "collapsed": false
   }
  },
  {
   "cell_type": "code",
   "execution_count": null,
   "outputs": [],
   "source": [
    "# 将一个小批量数据均匀地分布在多个设备上\n",
    "def split_batch(X, y, devices):\n",
    "    assert len(X) == len(y)\n",
    "    X = nn.parallel.scatter(X, devices)\n",
    "    y = nn.parallel.scatter(y. devices)\n",
    "    return X, y"
   ],
   "metadata": {
    "collapsed": false
   }
  },
  {
   "cell_type": "code",
   "execution_count": null,
   "outputs": [],
   "source": [
    "# 模型准确率评估函数\n",
    "def evaluate_accuracy(model, test_iter, device):\n",
    "    metrics = d2l.Accumulator(2)\n",
    "    model.to(device)\n",
    "    model.eval()\n",
    "    for X, y in test_iter:\n",
    "        X, y = X.to(device), y.to(device)\n",
    "        y_hat = model(X)\n",
    "        metrics.add(d2l.accuracy(y_hat, y), y.numel())\n",
    "    return metrics[0] / metrics[1]"
   ],
   "metadata": {
    "collapsed": false
   }
  },
  {
   "cell_type": "code",
   "execution_count": null,
   "outputs": [],
   "source": [
    "# 训练函数\n",
    "def train(model, train_iter, test_iter, loss_fn, optimizer, num_epochs, devices):\n",
    "    animator = d2l.Animator(xlabel='epoch', xlim=[1, num_epochs], ylim=[0, 1],\n",
    "                            legend=['train_loss', 'train_acc', 'test_acc'])\n",
    "    metrics = d2l.Accumulator(3)\n",
    "    timer = d2l.Timer()\n",
    "    model.train()\n",
    "    models = [model.clone().to(device) for device in devices]\n",
    "    for epoch in range(num_epochs):\n",
    "        metrics.reset()\n",
    "        timer.start()\n",
    "        for X, y in train_iter:\n",
    "            X_shards, y_shards = split_batch(X, y, devices)\n",
    "            y_hats = [model(X_shard) for X_shard, model in zip(X_shards, models)]\n",
    "            losses = [loss_fn(y_hat, y_shard) for y_hat, y_shard in zip(y_hats, y_shards)]\n",
    "            allreduce(losses)\n",
    "            total_loss = 0\n",
    "            for loss in losses:\n",
    "                optimizer.zero_grad()\n",
    "                loss.backward()\n",
    "                optimizer.step()\n",
    "                total_loss += loss\n",
    "            with torch.no_grad():\n",
    "                metrics.add(total_loss * y.numel(), d2l.accuracy(y_hat, y), y.numel())\n",
    "        timer.stop()\n",
    "        print(f'speed: {metrics[2] / timer.times[-1]:.1f} samples/sec')\n",
    "        test_acc = evaluate_accuracy(model, test_iter, device)\n",
    "        print(f'train_acc: {metrics[1] / metrics[2]:.3f}, test_acc: {test_acc}')\n",
    "        animator.add(epoch + 1,\n",
    "                     (metrics[0] / metrics[2], metrics[1] / metrics[2], test_acc))\n",
    "    print(f'speed: {metrics[2] / timer.avg():.1f} samples/sec on {device}.')\n",
    "    print(f'train_acc: {metrics[1] / metrics[2]:.3f}, test_acc: {test_acc}.')"
   ],
   "metadata": {
    "collapsed": false
   }
  },
  {
   "cell_type": "code",
   "execution_count": null,
   "outputs": [],
   "source": [
    "lr = 0.001\n",
    "num_epochs = 10\n",
    "\n",
    "model = ResNet()\n",
    "loss_fn = nn.CrossEntropyLoss()\n",
    "optimizer = torch.optim.SGD(model.parameters(), lr)\n",
    "\n",
    "train(model, train_iter, val_iter, loss_fn, optimizer, num_epochs, d2l.try_gpu(3))"
   ],
   "metadata": {
    "collapsed": false
   }
  },
  {
   "cell_type": "markdown",
   "source": [
    "## 多卡训练-简洁实现"
   ],
   "metadata": {
    "collapsed": false
   }
  },
  {
   "cell_type": "code",
   "execution_count": null,
   "outputs": [],
   "source": [
    "# 模型准确率评估函数\n",
    "def evaluate_accuracy(model, test_iter, device):\n",
    "    metrics = d2l.Accumulator(2)\n",
    "    model.to(device)\n",
    "    model.eval()\n",
    "    for X, y in test_iter:\n",
    "        X, y = X.to(device), y.to(device)\n",
    "        y_hat = model(X)\n",
    "        metrics.add(d2l.accuracy(y_hat, y), y.numel())\n",
    "    return metrics[0] / metrics[1]"
   ],
   "metadata": {
    "collapsed": false
   }
  },
  {
   "cell_type": "code",
   "execution_count": null,
   "outputs": [],
   "source": [
    "# 训练函数\n",
    "def train(model, train_iter, test_iter, loss_fn, optimizer, num_epochs, devices):\n",
    "    animator = d2l.Animator(xlabel='epoch', xlim=[1, num_epochs], ylim=[0, 1],\n",
    "                            legend=['train_loss', 'train_acc', 'test_acc'])\n",
    "    metrics = d2l.Accumulator(3)\n",
    "    devices = [d2l.try_gpu(i) for i in devices]\n",
    "    timer = d2l.Timer()\n",
    "    model.to(devices[0])\n",
    "    model = nn.parallel.DataParallel(model, devices)\n",
    "    model.train()\n",
    "    for epoch in range(num_epochs):\n",
    "        metrics.reset()\n",
    "        timer.start()\n",
    "        for X, y in train_iter:\n",
    "            X, y = X.to(devices[0]), y.to(devices[0])\n",
    "            y_hat = model(X)\n",
    "            loss = loss_fn(y_hat, y)\n",
    "            optimizer.zero_grad()\n",
    "            loss.backward()\n",
    "            optimizer.step()\n",
    "            with torch.no_grad():\n",
    "                metrics.add(loss * y.numel(), d2l.accuracy(y_hat, y), y.numel())\n",
    "        timer.stop()\n",
    "        print(f'speed: {metrics[2] / timer.times[-1]:.1f} samples/sec')\n",
    "        test_acc = evaluate_accuracy(model, test_iter, devices[0])\n",
    "        print(f'train_acc: {metrics[1] / metrics[2]:.3f}, test_acc: {test_acc}')\n",
    "        animator.add(epoch + 1,\n",
    "                     (metrics[0] / metrics[2], metrics[1] / metrics[2], test_acc))\n",
    "    print(f'speed: {metrics[2] / timer.avg():.1f} samples/sec on {devices}.')\n",
    "    print(f'train_acc: {metrics[1] / metrics[2]:.3f}, test_acc: {test_acc}.')"
   ],
   "metadata": {
    "collapsed": false
   }
  },
  {
   "cell_type": "code",
   "execution_count": null,
   "outputs": [],
   "source": [
    "lr = 0.001\n",
    "num_epochs = 10\n",
    "devices = [2, 3]\n",
    "\n",
    "model = ResNet()\n",
    "loss_fn = nn.CrossEntropyLoss()\n",
    "optimizer = torch.optim.SGD(model.parameters(), lr)\n",
    "\n",
    "train(model, train_iter, val_iter, loss_fn, optimizer, num_epochs, devices)"
   ],
   "metadata": {
    "collapsed": false
   }
  }
 ],
 "metadata": {
  "kernelspec": {
   "display_name": "Python 3",
   "language": "python",
   "name": "python3"
  },
  "language_info": {
   "codemirror_mode": {
    "name": "ipython",
    "version": 2
   },
   "file_extension": ".py",
   "mimetype": "text/x-python",
   "name": "python",
   "nbconvert_exporter": "python",
   "pygments_lexer": "ipython2",
   "version": "2.7.6"
  }
 },
 "nbformat": 4,
 "nbformat_minor": 0
}
