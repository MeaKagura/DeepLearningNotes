{
 "cells": [
  {
   "cell_type": "code",
   "execution_count": 1,
   "metadata": {},
   "outputs": [],
   "source": [
    "import os\n",
    "import numpy as np\n",
    "import pandas as pd\n",
    "import torch\n",
    "import torch.nn.functional as F\n",
    "import torchvision\n",
    "\n",
    "from torch import nn\n",
    "from torch.utils.data import DataLoader, Dataset\n",
    "from torchvision.models import ResNet18_Weights, ResNeXt50_32X4D_Weights\n",
    "import torchvision.transforms as transforms\n",
    "from PIL import Image\n",
    "from d2l import torch as d2l\n",
    "\n",
    "# os.environ[\"CUDA_VISIBLE_DEVICES\"] = \"2, 3\""
   ]
  },
  {
   "cell_type": "code",
   "execution_count": 2,
   "metadata": {},
   "outputs": [],
   "source": [
    "my_seed = 6666  # set a random seed for reproducibility\n",
    "torch.backends.cudnn.deterministic = True\n",
    "torch.backends.cudnn.benchmark = False\n",
    "np.random.seed(my_seed)\n",
    "torch.manual_seed(my_seed)\n",
    "if torch.cuda.is_available():\n",
    "    torch.cuda.manual_seed_all(my_seed)"
   ]
  },
  {
   "cell_type": "markdown",
   "metadata": {},
   "source": [
    "# 一、数据"
   ]
  },
  {
   "cell_type": "markdown",
   "metadata": {},
   "source": [
    "## 数据读取"
   ]
  },
  {
   "cell_type": "code",
   "execution_count": 3,
   "metadata": {},
   "outputs": [],
   "source": [
    "data_path = \"../data/classify-leaves\"\n",
    "train_data = pd.read_csv(os.path.join(data_path, \"train.csv\"))\n",
    "test_data = pd.read_csv(os.path.join(data_path, \"test.csv\"))\n",
    "\n",
    "train_files = []\n",
    "test_files = []\n",
    "labels = []\n",
    "for file_name, label in train_data.values:\n",
    "    train_files.append(file_name)\n",
    "    labels.append(label)\n",
    "for file_name, in test_data.values:\n",
    "    test_files.append(file_name)\n",
    "\n",
    "label2id = {}\n",
    "id2label = {}\n",
    "for idx, label in enumerate(set(labels)):\n",
    "    label2id[label] = idx\n",
    "    id2label[idx] = label\n",
    "labels = [label2id[label] for label in labels]\n",
    "\n",
    "num_samples = len(train_files)\n",
    "num_train = int(0.9 * num_samples)\n",
    "val_files, val_labels = train_files[num_train:], labels[num_train:]\n",
    "train_files, train_labels = train_files[:num_train], labels[:num_train]"
   ]
  },
  {
   "cell_type": "markdown",
   "metadata": {},
   "source": [
    "## 数据增强"
   ]
  },
  {
   "cell_type": "code",
   "execution_count": 4,
   "metadata": {},
   "outputs": [],
   "source": [
    "train_tfm = transforms.Compose([\n",
    "    transforms.Resize((224, 224)),\n",
    "    # You may add some transforms here.\n",
    "    transforms.RandomHorizontalFlip(p=0.5),  # 随机水平翻转\n",
    "    transforms.RandomResizedCrop((224, 224), scale=(0.35, 1.0)),  # 随机裁剪图像\n",
    "    # transforms.RandomRotation((-180, 180)),  # 随机旋转图像\n",
    "    transforms.RandomAffine(degrees=(-180, 180), shear=(-30, 30)),  # 图像保持中心不变的随机仿射变换\n",
    "    transforms.ColorJitter(brightness=(0.5, 1.5), contrast=(0.5, 1.5), saturation=(0.5, 1.5), hue=(-0.1, 0.1)),  # 修改亮度、对比度和饱和度\n",
    "    # transforms.RandomInvert(0.2),  # 随机反转图像\n",
    "    # transforms.RandomGrayscale(0.2),  # 随机转换为灰度图像\n",
    "    # ToTensor() should be the last one of the transforms.\n",
    "    transforms.ToTensor(),\n",
    "    transforms.Normalize([0.485, 0.456, 0.406],\n",
    "                         [0.229, 0.224, 0.225])\n",
    "])\n",
    "\n",
    "test_tfm = transforms.Compose([\n",
    "    transforms.Resize((256, 256)),\n",
    "    transforms.CenterCrop((224, 224)),  # 中心裁剪\n",
    "    transforms.RandomResizedCrop((224, 224), scale=(0.5, 1.0)),  # 随机裁剪图像\n",
    "    transforms.RandomRotation((-180, 180)),  # 随机旋转图像\n",
    "    transforms.ToTensor(),\n",
    "    transforms.Normalize([0.485, 0.456, 0.406],\n",
    "                         [0.229, 0.224, 0.225])\n",
    "])"
   ]
  },
  {
   "cell_type": "markdown",
   "metadata": {},
   "source": [
    "## 数据封装"
   ]
  },
  {
   "cell_type": "code",
   "execution_count": 18,
   "metadata": {},
   "outputs": [
    {
     "data": {
      "text/plain": [
       "((tensor([[[-2.1179, -2.1179, -2.1179,  ...,  2.2489,  2.2489,  2.2489],\n",
       "           [-2.1179, -2.1179, -2.1179,  ...,  2.2489,  2.2489,  2.2489],\n",
       "           [-2.1179, -2.1179, -2.1179,  ...,  2.2489,  2.2489,  2.2489],\n",
       "           ...,\n",
       "           [ 2.2489,  2.2489,  2.2489,  ..., -2.1179, -2.1179, -2.1179],\n",
       "           [ 2.2489,  2.2489,  2.2489,  ..., -2.1179, -2.1179, -2.1179],\n",
       "           [ 2.2489,  2.2489,  2.2489,  ..., -2.1179, -2.1179, -2.1179]],\n",
       "  \n",
       "          [[-2.0357, -2.0357, -2.0357,  ...,  2.4286,  2.4286,  2.4286],\n",
       "           [-2.0357, -2.0357, -2.0357,  ...,  2.4286,  2.4286,  2.4286],\n",
       "           [-2.0357, -2.0357, -2.0357,  ...,  2.4286,  2.4286,  2.4286],\n",
       "           ...,\n",
       "           [ 2.4286,  2.4286,  2.4286,  ..., -2.0357, -2.0357, -2.0357],\n",
       "           [ 2.4286,  2.4286,  2.4286,  ..., -2.0357, -2.0357, -2.0357],\n",
       "           [ 2.4286,  2.4286,  2.4286,  ..., -2.0357, -2.0357, -2.0357]],\n",
       "  \n",
       "          [[-1.8044, -1.8044, -1.8044,  ...,  2.6400,  2.6400,  2.6400],\n",
       "           [-1.8044, -1.8044, -1.8044,  ...,  2.6400,  2.6400,  2.6400],\n",
       "           [-1.8044, -1.8044, -1.8044,  ...,  2.6400,  2.6400,  2.6400],\n",
       "           ...,\n",
       "           [ 2.6400,  2.6400,  2.6400,  ..., -1.8044, -1.8044, -1.8044],\n",
       "           [ 2.6400,  2.6400,  2.6400,  ..., -1.8044, -1.8044, -1.8044],\n",
       "           [ 2.6400,  2.6400,  2.6400,  ..., -1.8044, -1.8044, -1.8044]]]),\n",
       "  36),\n",
       " (tensor([[[1.1872, 1.1872, 1.1872,  ..., 1.2557, 1.2385, 1.2385],\n",
       "           [1.1872, 1.1872, 1.1872,  ..., 1.2557, 1.2385, 1.2385],\n",
       "           [1.1872, 1.1872, 1.1872,  ..., 1.2557, 1.2385, 1.2385],\n",
       "           ...,\n",
       "           [1.1015, 1.1015, 1.1015,  ..., 1.2557, 1.2557, 1.2557],\n",
       "           [1.1015, 1.1015, 1.1015,  ..., 1.2557, 1.2557, 1.2557],\n",
       "           [1.1015, 1.1015, 1.1015,  ..., 1.2557, 1.2557, 1.2557]],\n",
       "  \n",
       "          [[1.5707, 1.5707, 1.5707,  ..., 1.4132, 1.4307, 1.4307],\n",
       "           [1.5707, 1.5707, 1.5707,  ..., 1.4132, 1.4307, 1.4307],\n",
       "           [1.5707, 1.5707, 1.5707,  ..., 1.4132, 1.4307, 1.4307],\n",
       "           ...,\n",
       "           [1.4132, 1.4132, 1.4132,  ..., 1.4132, 1.4132, 1.4132],\n",
       "           [1.4132, 1.4132, 1.4132,  ..., 1.4132, 1.4132, 1.4132],\n",
       "           [1.4132, 1.4132, 1.4132,  ..., 1.4132, 1.4132, 1.4132]],\n",
       "  \n",
       "          [[1.6291, 1.6291, 1.6291,  ..., 1.6291, 1.6291, 1.6291],\n",
       "           [1.6291, 1.6291, 1.6291,  ..., 1.6291, 1.6291, 1.6291],\n",
       "           [1.6291, 1.6291, 1.6291,  ..., 1.6291, 1.6291, 1.6291],\n",
       "           ...,\n",
       "           [1.5420, 1.5420, 1.5420,  ..., 1.6291, 1.6291, 1.6291],\n",
       "           [1.5420, 1.5420, 1.5420,  ..., 1.6291, 1.6291, 1.6291],\n",
       "           [1.5420, 1.5420, 1.5420,  ..., 1.6291, 1.6291, 1.6291]]]),\n",
       "  12),\n",
       " (tensor([[[ 0.6221,  0.6734,  0.7248,  ..., -0.7308, -0.7822, -0.8335],\n",
       "           [ 0.6221,  0.6734,  0.7077,  ..., -0.7137, -0.7650, -0.8164],\n",
       "           [ 0.6906,  0.7248,  0.7419,  ..., -0.6965, -0.7479, -0.7993],\n",
       "           ...,\n",
       "           [ 0.7248,  0.7248,  0.7248,  ...,  0.7248,  0.7248,  0.7248],\n",
       "           [ 0.7248,  0.7248,  0.7248,  ...,  0.7248,  0.7248,  0.7248],\n",
       "           [ 0.7248,  0.7248,  0.7248,  ...,  0.7248,  0.7248,  0.7248]],\n",
       "  \n",
       "          [[ 1.1506,  1.2031,  1.2556,  ..., -0.4076, -0.4076, -0.4601],\n",
       "           [ 1.1506,  1.2031,  1.2381,  ..., -0.3901, -0.3901, -0.4426],\n",
       "           [ 1.1856,  1.2206,  1.2381,  ..., -0.3725, -0.3725, -0.4251],\n",
       "           ...,\n",
       "           [ 0.8704,  0.8704,  0.8704,  ...,  0.8704,  0.8704,  0.8704],\n",
       "           [ 0.8704,  0.8704,  0.8704,  ...,  0.8704,  0.8704,  0.8704],\n",
       "           [ 0.8704,  0.8704,  0.8704,  ...,  0.8704,  0.8704,  0.8704]],\n",
       "  \n",
       "          [[ 1.1411,  1.1934,  1.2631,  ..., -0.2532, -0.2707, -0.3230],\n",
       "           [ 1.1411,  1.1934,  1.2457,  ..., -0.2358, -0.2532, -0.3055],\n",
       "           [ 1.1934,  1.2282,  1.2631,  ..., -0.2184, -0.2358, -0.2881],\n",
       "           ...,\n",
       "           [ 1.0888,  1.0888,  1.0888,  ...,  1.0888,  1.0888,  1.0888],\n",
       "           [ 1.0888,  1.0888,  1.0888,  ...,  1.0888,  1.0888,  1.0888],\n",
       "           [ 1.0888,  1.0888,  1.0888,  ...,  1.0888,  1.0888,  1.0888]]]),\n",
       "  -1))"
      ]
     },
     "execution_count": 18,
     "metadata": {},
     "output_type": "execute_result"
    }
   ],
   "source": [
    "class LeaveDataset(Dataset):\n",
    "    def __init__(self, path, file_names, labels=None, transform=None, num_ensemble=1):\n",
    "        super().__init__()\n",
    "        self.path = path\n",
    "        self.file_names = file_names\n",
    "        self.labels = labels\n",
    "        self.transform = transform\n",
    "        self.num_ensemble = num_ensemble\n",
    "\n",
    "    def __len__(self):\n",
    "        return len(self.file_names)\n",
    "\n",
    "    def __getitem__(self, idx):\n",
    "        image = Image.open(os.path.join(self.path, self.file_names[idx]))\n",
    "        label = self.labels[idx] if self.labels else -1\n",
    "        if self.transform:\n",
    "            if self.num_ensemble > 1 and self.labels is None:\n",
    "                image = torch.tensor(self.transform(image)\n",
    "                                     for _ in range(self.num_ensemble))\n",
    "            else:\n",
    "                image = self.transform(image)\n",
    "        return image, label\n",
    "\n",
    "train_set = LeaveDataset(data_path, train_files, train_labels, transform=train_tfm)\n",
    "val_set = LeaveDataset(data_path, val_files, val_labels, transform=test_tfm)\n",
    "test_set = LeaveDataset(data_path, test_files, transform=test_tfm)\n",
    "train_set[0], val_set[0], test_set[0]"
   ]
  },
  {
   "cell_type": "code",
   "execution_count": 19,
   "metadata": {},
   "outputs": [],
   "source": [
    "batch_size = 256\n",
    "train_iter = DataLoader(train_set, batch_size, shuffle=True, num_workers=16)\n",
    "val_iter = DataLoader(val_set, batch_size, shuffle=False, num_workers=16)\n",
    "test_iter = DataLoader(test_set, batch_size, shuffle=False, num_workers=16)"
   ]
  },
  {
   "cell_type": "markdown",
   "metadata": {},
   "source": [
    "# 二、模型"
   ]
  },
  {
   "cell_type": "markdown",
   "metadata": {},
   "source": [
    "## 定义模型"
   ]
  },
  {
   "cell_type": "code",
   "execution_count": 7,
   "metadata": {},
   "outputs": [],
   "source": [
    "class ResidualBlock(nn.Module):\n",
    "    def __init__(self, in_channels, out_channels, stride, use_1x1_conv):\n",
    "        super().__init__()\n",
    "        self.conv1 = nn.Sequential(\n",
    "            nn.Conv2d(in_channels, out_channels, 3, stride, 1),\n",
    "            nn.BatchNorm2d(out_channels),\n",
    "            nn.ReLU()\n",
    "        )\n",
    "        self.conv2 = nn.Sequential(\n",
    "            nn.Conv2d(out_channels, out_channels, 3, 1, 1),\n",
    "            nn.BatchNorm2d(out_channels)\n",
    "        )\n",
    "        if use_1x1_conv:\n",
    "            self.conv3 = nn.Conv2d(in_channels, out_channels, 1, stride)\n",
    "        else:\n",
    "            self.conv3 = None\n",
    "\n",
    "    def forward(self, X):\n",
    "        Y = self.conv1(X)\n",
    "        Y = self.conv2(Y)\n",
    "        if self.conv3:\n",
    "            X = self.conv3(X)\n",
    "        Y = F.relu(Y + X)\n",
    "        return Y"
   ]
  },
  {
   "cell_type": "code",
   "execution_count": 8,
   "metadata": {},
   "outputs": [],
   "source": [
    "class ResNet(nn.Module):\n",
    "    def __init__(self):\n",
    "        super().__init__()\n",
    "        self.block1 = nn.Sequential(\n",
    "            nn.Conv2d(3, 64, kernel_size=7, stride=2, padding=3),  # [64, 112, 112]\n",
    "            nn.BatchNorm2d(64),\n",
    "            nn.ReLU(),\n",
    "            nn.MaxPool2d(kernel_size=3, stride=2, padding=1)  # [64, 56, 56]\n",
    "        )\n",
    "        self.block2 = nn.Sequential(\n",
    "            ResidualBlock(64, 64, 1, use_1x1_conv=False),  # [64, 56, 56]\n",
    "            ResidualBlock(64, 64, 1, use_1x1_conv=False),  # [64, 56, 56]\n",
    "        )\n",
    "        self.block3 = nn.Sequential(\n",
    "            ResidualBlock(64, 128, 2, use_1x1_conv=True),  # [128, 28, 28]\n",
    "            ResidualBlock(128, 128, 1, use_1x1_conv=False),  # [128, 28, 28]\n",
    "        )\n",
    "        self.block4 = nn.Sequential(\n",
    "            ResidualBlock(128, 256, 2, use_1x1_conv=True),  # [256, 14, 14]\n",
    "            ResidualBlock(256, 256, 1, use_1x1_conv=False),  # [256, 14, 14]\n",
    "        )\n",
    "        self.block5 = nn.Sequential(\n",
    "            ResidualBlock(256, 512, 2, use_1x1_conv=True),  # [512, 7, 7]\n",
    "            ResidualBlock(512, 512, 1, use_1x1_conv=False),  # [512, 7, 7]\n",
    "        )\n",
    "        self.block6 = nn.Sequential(\n",
    "            nn.AdaptiveAvgPool2d((1, 1)),  # [512, 1, 1]\n",
    "            nn.Flatten(),  # [512]\n",
    "            nn.Linear(512, 176)  # [176]\n",
    "        )\n",
    "\n",
    "    def forward(self, X):\n",
    "        X = self.block1(X)\n",
    "        X = self.block2(X)\n",
    "        X = self.block3(X)\n",
    "        X = self.block4(X)\n",
    "        X = self.block5(X)\n",
    "        y = self.block6(X)\n",
    "        return y"
   ]
  },
  {
   "cell_type": "markdown",
   "metadata": {},
   "source": [
    "# 三、训练"
   ]
  },
  {
   "cell_type": "code",
   "execution_count": 9,
   "metadata": {},
   "outputs": [],
   "source": [
    "# 模型准确率评估函数\n",
    "def evaluate_accuracy(model, test_iter, device):\n",
    "    metrics = d2l.Accumulator(2)\n",
    "    model.to(device)\n",
    "    model.eval()\n",
    "    for X, y in test_iter:\n",
    "        X, y = X.to(device), y.to(device)\n",
    "        y_hat = model(X)\n",
    "        metrics.add(d2l.accuracy(y_hat, y), y.numel())\n",
    "    return metrics[0] / metrics[1]"
   ]
  },
  {
   "cell_type": "code",
   "execution_count": 10,
   "metadata": {},
   "outputs": [],
   "source": [
    "# 训练函数\n",
    "def train(model, train_iter, test_iter, loss_fn, optimizer, num_epochs, devices):\n",
    "    animator = d2l.Animator(xlabel='epoch', xlim=[1, num_epochs], ylim=[0, 1],\n",
    "                            legend=['train_loss', 'train_acc', 'test_acc'])\n",
    "    metrics = d2l.Accumulator(3)\n",
    "    devices = [d2l.try_gpu(i) for i in devices]\n",
    "    timer = d2l.Timer()\n",
    "    model.to(devices[0])\n",
    "    model = nn.DataParallel(model, devices)\n",
    "    model.train()\n",
    "    for epoch in range(num_epochs):\n",
    "        metrics.reset()\n",
    "        timer.start()\n",
    "        for X, y in train_iter:\n",
    "            X, y = X.to(devices[0]), y.to(devices[0])\n",
    "            y_hat = model(X)\n",
    "            loss = loss_fn(y_hat, y)\n",
    "            optimizer.zero_grad()\n",
    "            loss.backward()\n",
    "            optimizer.step()\n",
    "            with torch.no_grad():\n",
    "                metrics.add(loss * y.numel(), d2l.accuracy(y_hat, y), y.numel())\n",
    "        timer.stop()\n",
    "        print(f'speed: {metrics[2] / timer.times[-1]:.1f} samples/sec on {devices}.')\n",
    "        test_acc = evaluate_accuracy(model, test_iter, devices[0])\n",
    "        print(f'train_acc: {metrics[1] / metrics[2]:.3f}, test_acc: {test_acc:.3f}')\n",
    "        animator.add(epoch + 1,\n",
    "                     (metrics[0] / metrics[2], metrics[1] / metrics[2], test_acc))\n",
    "    print(f'speed: {metrics[2] / timer.avg():.1f} samples/sec on {devices}.')\n",
    "    print(f'train_acc: {metrics[1] / metrics[2]:.3f}, test_acc: {test_acc:.3f}.')"
   ]
  },
  {
   "cell_type": "code",
   "execution_count": 11,
   "metadata": {},
   "outputs": [
    {
     "name": "stdout",
     "output_type": "stream",
     "text": [
      "speed: 787.6 samples/sec on [device(type='cuda', index=1), device(type='cuda', index=2), device(type='cuda', index=3)].\n",
      "train_acc: 0.963, test_acc: 0.938.\n"
     ]
    },
    {
     "data": {
      "image/svg+xml": "<?xml version=\"1.0\" encoding=\"utf-8\" standalone=\"no\"?>\n<!DOCTYPE svg PUBLIC \"-//W3C//DTD SVG 1.1//EN\"\n  \"http://www.w3.org/Graphics/SVG/1.1/DTD/svg11.dtd\">\n<svg xmlns:xlink=\"http://www.w3.org/1999/xlink\" width=\"242.146875pt\" height=\"187.155469pt\" viewBox=\"0 0 242.146875 187.155469\" xmlns=\"http://www.w3.org/2000/svg\" version=\"1.1\">\n <metadata>\n  <rdf:RDF xmlns:dc=\"http://purl.org/dc/elements/1.1/\" xmlns:cc=\"http://creativecommons.org/ns#\" xmlns:rdf=\"http://www.w3.org/1999/02/22-rdf-syntax-ns#\">\n   <cc:Work>\n    <dc:type rdf:resource=\"http://purl.org/dc/dcmitype/StillImage\"/>\n    <dc:date>2023-04-19T16:09:26.061512</dc:date>\n    <dc:format>image/svg+xml</dc:format>\n    <dc:creator>\n     <cc:Agent>\n      <dc:title>Matplotlib v3.5.1, https://matplotlib.org/</dc:title>\n     </cc:Agent>\n    </dc:creator>\n   </cc:Work>\n  </rdf:RDF>\n </metadata>\n <defs>\n  <style type=\"text/css\">*{stroke-linejoin: round; stroke-linecap: butt}</style>\n </defs>\n <g id=\"figure_1\">\n  <g id=\"patch_1\">\n   <path d=\"M 0 187.155469 \nL 242.146875 187.155469 \nL 242.146875 0 \nL 0 0 \nz\n\" style=\"fill: #ffffff\"/>\n  </g>\n  <g id=\"axes_1\">\n   <g id=\"patch_2\">\n    <path d=\"M 30.103125 149.599219 \nL 225.403125 149.599219 \nL 225.403125 10.999219 \nL 30.103125 10.999219 \nz\n\" style=\"fill: #ffffff\"/>\n   </g>\n   <g id=\"matplotlib.axis_1\">\n    <g id=\"xtick_1\">\n     <g id=\"line2d_1\">\n      <path d=\"M 67.584943 149.599219 \nL 67.584943 10.999219 \n\" clip-path=\"url(#p34c827696b)\" style=\"fill: none; stroke: #b0b0b0; stroke-width: 0.8; stroke-linecap: square\"/>\n     </g>\n     <g id=\"line2d_2\">\n      <defs>\n       <path id=\"m837823624f\" d=\"M 0 0 \nL 0 3.5 \n\" style=\"stroke: #000000; stroke-width: 0.8\"/>\n      </defs>\n      <g>\n       <use xlink:href=\"#m837823624f\" x=\"67.584943\" y=\"149.599219\" style=\"stroke: #000000; stroke-width: 0.8\"/>\n      </g>\n     </g>\n     <g id=\"text_1\">\n      <!-- 20 -->\n      <g transform=\"translate(61.222443 164.197656)scale(0.1 -0.1)\">\n       <defs>\n        <path id=\"DejaVuSans-32\" d=\"M 1228 531 \nL 3431 531 \nL 3431 0 \nL 469 0 \nL 469 531 \nQ 828 903 1448 1529 \nQ 2069 2156 2228 2338 \nQ 2531 2678 2651 2914 \nQ 2772 3150 2772 3378 \nQ 2772 3750 2511 3984 \nQ 2250 4219 1831 4219 \nQ 1534 4219 1204 4116 \nQ 875 4013 500 3803 \nL 500 4441 \nQ 881 4594 1212 4672 \nQ 1544 4750 1819 4750 \nQ 2544 4750 2975 4387 \nQ 3406 4025 3406 3419 \nQ 3406 3131 3298 2873 \nQ 3191 2616 2906 2266 \nQ 2828 2175 2409 1742 \nQ 1991 1309 1228 531 \nz\n\" transform=\"scale(0.015625)\"/>\n        <path id=\"DejaVuSans-30\" d=\"M 2034 4250 \nQ 1547 4250 1301 3770 \nQ 1056 3291 1056 2328 \nQ 1056 1369 1301 889 \nQ 1547 409 2034 409 \nQ 2525 409 2770 889 \nQ 3016 1369 3016 2328 \nQ 3016 3291 2770 3770 \nQ 2525 4250 2034 4250 \nz\nM 2034 4750 \nQ 2819 4750 3233 4129 \nQ 3647 3509 3647 2328 \nQ 3647 1150 3233 529 \nQ 2819 -91 2034 -91 \nQ 1250 -91 836 529 \nQ 422 1150 422 2328 \nQ 422 3509 836 4129 \nQ 1250 4750 2034 4750 \nz\n\" transform=\"scale(0.015625)\"/>\n       </defs>\n       <use xlink:href=\"#DejaVuSans-32\"/>\n       <use xlink:href=\"#DejaVuSans-30\" x=\"63.623047\"/>\n      </g>\n     </g>\n    </g>\n    <g id=\"xtick_2\">\n     <g id=\"line2d_3\">\n      <path d=\"M 107.039489 149.599219 \nL 107.039489 10.999219 \n\" clip-path=\"url(#p34c827696b)\" style=\"fill: none; stroke: #b0b0b0; stroke-width: 0.8; stroke-linecap: square\"/>\n     </g>\n     <g id=\"line2d_4\">\n      <g>\n       <use xlink:href=\"#m837823624f\" x=\"107.039489\" y=\"149.599219\" style=\"stroke: #000000; stroke-width: 0.8\"/>\n      </g>\n     </g>\n     <g id=\"text_2\">\n      <!-- 40 -->\n      <g transform=\"translate(100.676989 164.197656)scale(0.1 -0.1)\">\n       <defs>\n        <path id=\"DejaVuSans-34\" d=\"M 2419 4116 \nL 825 1625 \nL 2419 1625 \nL 2419 4116 \nz\nM 2253 4666 \nL 3047 4666 \nL 3047 1625 \nL 3713 1625 \nL 3713 1100 \nL 3047 1100 \nL 3047 0 \nL 2419 0 \nL 2419 1100 \nL 313 1100 \nL 313 1709 \nL 2253 4666 \nz\n\" transform=\"scale(0.015625)\"/>\n       </defs>\n       <use xlink:href=\"#DejaVuSans-34\"/>\n       <use xlink:href=\"#DejaVuSans-30\" x=\"63.623047\"/>\n      </g>\n     </g>\n    </g>\n    <g id=\"xtick_3\">\n     <g id=\"line2d_5\">\n      <path d=\"M 146.494034 149.599219 \nL 146.494034 10.999219 \n\" clip-path=\"url(#p34c827696b)\" style=\"fill: none; stroke: #b0b0b0; stroke-width: 0.8; stroke-linecap: square\"/>\n     </g>\n     <g id=\"line2d_6\">\n      <g>\n       <use xlink:href=\"#m837823624f\" x=\"146.494034\" y=\"149.599219\" style=\"stroke: #000000; stroke-width: 0.8\"/>\n      </g>\n     </g>\n     <g id=\"text_3\">\n      <!-- 60 -->\n      <g transform=\"translate(140.131534 164.197656)scale(0.1 -0.1)\">\n       <defs>\n        <path id=\"DejaVuSans-36\" d=\"M 2113 2584 \nQ 1688 2584 1439 2293 \nQ 1191 2003 1191 1497 \nQ 1191 994 1439 701 \nQ 1688 409 2113 409 \nQ 2538 409 2786 701 \nQ 3034 994 3034 1497 \nQ 3034 2003 2786 2293 \nQ 2538 2584 2113 2584 \nz\nM 3366 4563 \nL 3366 3988 \nQ 3128 4100 2886 4159 \nQ 2644 4219 2406 4219 \nQ 1781 4219 1451 3797 \nQ 1122 3375 1075 2522 \nQ 1259 2794 1537 2939 \nQ 1816 3084 2150 3084 \nQ 2853 3084 3261 2657 \nQ 3669 2231 3669 1497 \nQ 3669 778 3244 343 \nQ 2819 -91 2113 -91 \nQ 1303 -91 875 529 \nQ 447 1150 447 2328 \nQ 447 3434 972 4092 \nQ 1497 4750 2381 4750 \nQ 2619 4750 2861 4703 \nQ 3103 4656 3366 4563 \nz\n\" transform=\"scale(0.015625)\"/>\n       </defs>\n       <use xlink:href=\"#DejaVuSans-36\"/>\n       <use xlink:href=\"#DejaVuSans-30\" x=\"63.623047\"/>\n      </g>\n     </g>\n    </g>\n    <g id=\"xtick_4\">\n     <g id=\"line2d_7\">\n      <path d=\"M 185.94858 149.599219 \nL 185.94858 10.999219 \n\" clip-path=\"url(#p34c827696b)\" style=\"fill: none; stroke: #b0b0b0; stroke-width: 0.8; stroke-linecap: square\"/>\n     </g>\n     <g id=\"line2d_8\">\n      <g>\n       <use xlink:href=\"#m837823624f\" x=\"185.94858\" y=\"149.599219\" style=\"stroke: #000000; stroke-width: 0.8\"/>\n      </g>\n     </g>\n     <g id=\"text_4\">\n      <!-- 80 -->\n      <g transform=\"translate(179.58608 164.197656)scale(0.1 -0.1)\">\n       <defs>\n        <path id=\"DejaVuSans-38\" d=\"M 2034 2216 \nQ 1584 2216 1326 1975 \nQ 1069 1734 1069 1313 \nQ 1069 891 1326 650 \nQ 1584 409 2034 409 \nQ 2484 409 2743 651 \nQ 3003 894 3003 1313 \nQ 3003 1734 2745 1975 \nQ 2488 2216 2034 2216 \nz\nM 1403 2484 \nQ 997 2584 770 2862 \nQ 544 3141 544 3541 \nQ 544 4100 942 4425 \nQ 1341 4750 2034 4750 \nQ 2731 4750 3128 4425 \nQ 3525 4100 3525 3541 \nQ 3525 3141 3298 2862 \nQ 3072 2584 2669 2484 \nQ 3125 2378 3379 2068 \nQ 3634 1759 3634 1313 \nQ 3634 634 3220 271 \nQ 2806 -91 2034 -91 \nQ 1263 -91 848 271 \nQ 434 634 434 1313 \nQ 434 1759 690 2068 \nQ 947 2378 1403 2484 \nz\nM 1172 3481 \nQ 1172 3119 1398 2916 \nQ 1625 2713 2034 2713 \nQ 2441 2713 2670 2916 \nQ 2900 3119 2900 3481 \nQ 2900 3844 2670 4047 \nQ 2441 4250 2034 4250 \nQ 1625 4250 1398 4047 \nQ 1172 3844 1172 3481 \nz\n\" transform=\"scale(0.015625)\"/>\n       </defs>\n       <use xlink:href=\"#DejaVuSans-38\"/>\n       <use xlink:href=\"#DejaVuSans-30\" x=\"63.623047\"/>\n      </g>\n     </g>\n    </g>\n    <g id=\"xtick_5\">\n     <g id=\"line2d_9\">\n      <path d=\"M 225.403125 149.599219 \nL 225.403125 10.999219 \n\" clip-path=\"url(#p34c827696b)\" style=\"fill: none; stroke: #b0b0b0; stroke-width: 0.8; stroke-linecap: square\"/>\n     </g>\n     <g id=\"line2d_10\">\n      <g>\n       <use xlink:href=\"#m837823624f\" x=\"225.403125\" y=\"149.599219\" style=\"stroke: #000000; stroke-width: 0.8\"/>\n      </g>\n     </g>\n     <g id=\"text_5\">\n      <!-- 100 -->\n      <g transform=\"translate(215.859375 164.197656)scale(0.1 -0.1)\">\n       <defs>\n        <path id=\"DejaVuSans-31\" d=\"M 794 531 \nL 1825 531 \nL 1825 4091 \nL 703 3866 \nL 703 4441 \nL 1819 4666 \nL 2450 4666 \nL 2450 531 \nL 3481 531 \nL 3481 0 \nL 794 0 \nL 794 531 \nz\n\" transform=\"scale(0.015625)\"/>\n       </defs>\n       <use xlink:href=\"#DejaVuSans-31\"/>\n       <use xlink:href=\"#DejaVuSans-30\" x=\"63.623047\"/>\n       <use xlink:href=\"#DejaVuSans-30\" x=\"127.246094\"/>\n      </g>\n     </g>\n    </g>\n    <g id=\"text_6\">\n     <!-- epoch -->\n     <g transform=\"translate(112.525 177.875781)scale(0.1 -0.1)\">\n      <defs>\n       <path id=\"DejaVuSans-65\" d=\"M 3597 1894 \nL 3597 1613 \nL 953 1613 \nQ 991 1019 1311 708 \nQ 1631 397 2203 397 \nQ 2534 397 2845 478 \nQ 3156 559 3463 722 \nL 3463 178 \nQ 3153 47 2828 -22 \nQ 2503 -91 2169 -91 \nQ 1331 -91 842 396 \nQ 353 884 353 1716 \nQ 353 2575 817 3079 \nQ 1281 3584 2069 3584 \nQ 2775 3584 3186 3129 \nQ 3597 2675 3597 1894 \nz\nM 3022 2063 \nQ 3016 2534 2758 2815 \nQ 2500 3097 2075 3097 \nQ 1594 3097 1305 2825 \nQ 1016 2553 972 2059 \nL 3022 2063 \nz\n\" transform=\"scale(0.015625)\"/>\n       <path id=\"DejaVuSans-70\" d=\"M 1159 525 \nL 1159 -1331 \nL 581 -1331 \nL 581 3500 \nL 1159 3500 \nL 1159 2969 \nQ 1341 3281 1617 3432 \nQ 1894 3584 2278 3584 \nQ 2916 3584 3314 3078 \nQ 3713 2572 3713 1747 \nQ 3713 922 3314 415 \nQ 2916 -91 2278 -91 \nQ 1894 -91 1617 61 \nQ 1341 213 1159 525 \nz\nM 3116 1747 \nQ 3116 2381 2855 2742 \nQ 2594 3103 2138 3103 \nQ 1681 3103 1420 2742 \nQ 1159 2381 1159 1747 \nQ 1159 1113 1420 752 \nQ 1681 391 2138 391 \nQ 2594 391 2855 752 \nQ 3116 1113 3116 1747 \nz\n\" transform=\"scale(0.015625)\"/>\n       <path id=\"DejaVuSans-6f\" d=\"M 1959 3097 \nQ 1497 3097 1228 2736 \nQ 959 2375 959 1747 \nQ 959 1119 1226 758 \nQ 1494 397 1959 397 \nQ 2419 397 2687 759 \nQ 2956 1122 2956 1747 \nQ 2956 2369 2687 2733 \nQ 2419 3097 1959 3097 \nz\nM 1959 3584 \nQ 2709 3584 3137 3096 \nQ 3566 2609 3566 1747 \nQ 3566 888 3137 398 \nQ 2709 -91 1959 -91 \nQ 1206 -91 779 398 \nQ 353 888 353 1747 \nQ 353 2609 779 3096 \nQ 1206 3584 1959 3584 \nz\n\" transform=\"scale(0.015625)\"/>\n       <path id=\"DejaVuSans-63\" d=\"M 3122 3366 \nL 3122 2828 \nQ 2878 2963 2633 3030 \nQ 2388 3097 2138 3097 \nQ 1578 3097 1268 2742 \nQ 959 2388 959 1747 \nQ 959 1106 1268 751 \nQ 1578 397 2138 397 \nQ 2388 397 2633 464 \nQ 2878 531 3122 666 \nL 3122 134 \nQ 2881 22 2623 -34 \nQ 2366 -91 2075 -91 \nQ 1284 -91 818 406 \nQ 353 903 353 1747 \nQ 353 2603 823 3093 \nQ 1294 3584 2113 3584 \nQ 2378 3584 2631 3529 \nQ 2884 3475 3122 3366 \nz\n\" transform=\"scale(0.015625)\"/>\n       <path id=\"DejaVuSans-68\" d=\"M 3513 2113 \nL 3513 0 \nL 2938 0 \nL 2938 2094 \nQ 2938 2591 2744 2837 \nQ 2550 3084 2163 3084 \nQ 1697 3084 1428 2787 \nQ 1159 2491 1159 1978 \nL 1159 0 \nL 581 0 \nL 581 4863 \nL 1159 4863 \nL 1159 2956 \nQ 1366 3272 1645 3428 \nQ 1925 3584 2291 3584 \nQ 2894 3584 3203 3211 \nQ 3513 2838 3513 2113 \nz\n\" transform=\"scale(0.015625)\"/>\n      </defs>\n      <use xlink:href=\"#DejaVuSans-65\"/>\n      <use xlink:href=\"#DejaVuSans-70\" x=\"61.523438\"/>\n      <use xlink:href=\"#DejaVuSans-6f\" x=\"125\"/>\n      <use xlink:href=\"#DejaVuSans-63\" x=\"186.181641\"/>\n      <use xlink:href=\"#DejaVuSans-68\" x=\"241.162109\"/>\n     </g>\n    </g>\n   </g>\n   <g id=\"matplotlib.axis_2\">\n    <g id=\"ytick_1\">\n     <g id=\"line2d_11\">\n      <path d=\"M 30.103125 149.599219 \nL 225.403125 149.599219 \n\" clip-path=\"url(#p34c827696b)\" style=\"fill: none; stroke: #b0b0b0; stroke-width: 0.8; stroke-linecap: square\"/>\n     </g>\n     <g id=\"line2d_12\">\n      <defs>\n       <path id=\"m527d687f7e\" d=\"M 0 0 \nL -3.5 0 \n\" style=\"stroke: #000000; stroke-width: 0.8\"/>\n      </defs>\n      <g>\n       <use xlink:href=\"#m527d687f7e\" x=\"30.103125\" y=\"149.599219\" style=\"stroke: #000000; stroke-width: 0.8\"/>\n      </g>\n     </g>\n     <g id=\"text_7\">\n      <!-- 0.0 -->\n      <g transform=\"translate(7.2 153.398438)scale(0.1 -0.1)\">\n       <defs>\n        <path id=\"DejaVuSans-2e\" d=\"M 684 794 \nL 1344 794 \nL 1344 0 \nL 684 0 \nL 684 794 \nz\n\" transform=\"scale(0.015625)\"/>\n       </defs>\n       <use xlink:href=\"#DejaVuSans-30\"/>\n       <use xlink:href=\"#DejaVuSans-2e\" x=\"63.623047\"/>\n       <use xlink:href=\"#DejaVuSans-30\" x=\"95.410156\"/>\n      </g>\n     </g>\n    </g>\n    <g id=\"ytick_2\">\n     <g id=\"line2d_13\">\n      <path d=\"M 30.103125 121.879219 \nL 225.403125 121.879219 \n\" clip-path=\"url(#p34c827696b)\" style=\"fill: none; stroke: #b0b0b0; stroke-width: 0.8; stroke-linecap: square\"/>\n     </g>\n     <g id=\"line2d_14\">\n      <g>\n       <use xlink:href=\"#m527d687f7e\" x=\"30.103125\" y=\"121.879219\" style=\"stroke: #000000; stroke-width: 0.8\"/>\n      </g>\n     </g>\n     <g id=\"text_8\">\n      <!-- 0.2 -->\n      <g transform=\"translate(7.2 125.678438)scale(0.1 -0.1)\">\n       <use xlink:href=\"#DejaVuSans-30\"/>\n       <use xlink:href=\"#DejaVuSans-2e\" x=\"63.623047\"/>\n       <use xlink:href=\"#DejaVuSans-32\" x=\"95.410156\"/>\n      </g>\n     </g>\n    </g>\n    <g id=\"ytick_3\">\n     <g id=\"line2d_15\">\n      <path d=\"M 30.103125 94.159219 \nL 225.403125 94.159219 \n\" clip-path=\"url(#p34c827696b)\" style=\"fill: none; stroke: #b0b0b0; stroke-width: 0.8; stroke-linecap: square\"/>\n     </g>\n     <g id=\"line2d_16\">\n      <g>\n       <use xlink:href=\"#m527d687f7e\" x=\"30.103125\" y=\"94.159219\" style=\"stroke: #000000; stroke-width: 0.8\"/>\n      </g>\n     </g>\n     <g id=\"text_9\">\n      <!-- 0.4 -->\n      <g transform=\"translate(7.2 97.958438)scale(0.1 -0.1)\">\n       <use xlink:href=\"#DejaVuSans-30\"/>\n       <use xlink:href=\"#DejaVuSans-2e\" x=\"63.623047\"/>\n       <use xlink:href=\"#DejaVuSans-34\" x=\"95.410156\"/>\n      </g>\n     </g>\n    </g>\n    <g id=\"ytick_4\">\n     <g id=\"line2d_17\">\n      <path d=\"M 30.103125 66.439219 \nL 225.403125 66.439219 \n\" clip-path=\"url(#p34c827696b)\" style=\"fill: none; stroke: #b0b0b0; stroke-width: 0.8; stroke-linecap: square\"/>\n     </g>\n     <g id=\"line2d_18\">\n      <g>\n       <use xlink:href=\"#m527d687f7e\" x=\"30.103125\" y=\"66.439219\" style=\"stroke: #000000; stroke-width: 0.8\"/>\n      </g>\n     </g>\n     <g id=\"text_10\">\n      <!-- 0.6 -->\n      <g transform=\"translate(7.2 70.238437)scale(0.1 -0.1)\">\n       <use xlink:href=\"#DejaVuSans-30\"/>\n       <use xlink:href=\"#DejaVuSans-2e\" x=\"63.623047\"/>\n       <use xlink:href=\"#DejaVuSans-36\" x=\"95.410156\"/>\n      </g>\n     </g>\n    </g>\n    <g id=\"ytick_5\">\n     <g id=\"line2d_19\">\n      <path d=\"M 30.103125 38.719219 \nL 225.403125 38.719219 \n\" clip-path=\"url(#p34c827696b)\" style=\"fill: none; stroke: #b0b0b0; stroke-width: 0.8; stroke-linecap: square\"/>\n     </g>\n     <g id=\"line2d_20\">\n      <g>\n       <use xlink:href=\"#m527d687f7e\" x=\"30.103125\" y=\"38.719219\" style=\"stroke: #000000; stroke-width: 0.8\"/>\n      </g>\n     </g>\n     <g id=\"text_11\">\n      <!-- 0.8 -->\n      <g transform=\"translate(7.2 42.518438)scale(0.1 -0.1)\">\n       <use xlink:href=\"#DejaVuSans-30\"/>\n       <use xlink:href=\"#DejaVuSans-2e\" x=\"63.623047\"/>\n       <use xlink:href=\"#DejaVuSans-38\" x=\"95.410156\"/>\n      </g>\n     </g>\n    </g>\n    <g id=\"ytick_6\">\n     <g id=\"line2d_21\">\n      <path d=\"M 30.103125 10.999219 \nL 225.403125 10.999219 \n\" clip-path=\"url(#p34c827696b)\" style=\"fill: none; stroke: #b0b0b0; stroke-width: 0.8; stroke-linecap: square\"/>\n     </g>\n     <g id=\"line2d_22\">\n      <g>\n       <use xlink:href=\"#m527d687f7e\" x=\"30.103125\" y=\"10.999219\" style=\"stroke: #000000; stroke-width: 0.8\"/>\n      </g>\n     </g>\n     <g id=\"text_12\">\n      <!-- 1.0 -->\n      <g transform=\"translate(7.2 14.798438)scale(0.1 -0.1)\">\n       <use xlink:href=\"#DejaVuSans-31\"/>\n       <use xlink:href=\"#DejaVuSans-2e\" x=\"63.623047\"/>\n       <use xlink:href=\"#DejaVuSans-30\" x=\"95.410156\"/>\n      </g>\n     </g>\n    </g>\n   </g>\n   <g id=\"line2d_23\">\n    <path d=\"M 35.020917 -1 \nL 36.021307 22.45779 \nL 37.994034 35.896269 \nL 39.966761 58.940686 \nL 41.939489 71.804318 \nL 43.912216 80.012749 \nL 45.884943 86.492298 \nL 47.85767 90.349732 \nL 49.830398 96.477445 \nL 51.803125 101.560637 \nL 53.775852 102.609553 \nL 55.74858 105.96765 \nL 57.721307 106.819285 \nL 59.694034 109.877615 \nL 61.666761 112.35792 \nL 63.639489 113.568437 \nL 65.612216 113.275741 \nL 67.584943 116.396639 \nL 69.55767 117.581235 \nL 71.530398 117.985615 \nL 73.503125 118.596319 \nL 75.475852 119.694232 \nL 77.44858 118.385616 \nL 79.421307 120.557729 \nL 81.394034 121.336492 \nL 83.366761 123.280096 \nL 85.339489 120.647044 \nL 87.312216 121.170875 \nL 89.284943 124.193427 \nL 91.25767 124.155924 \nL 93.230398 123.476331 \nL 95.203125 125.300079 \nL 97.175852 124.01175 \nL 99.14858 125.746654 \nL 101.121307 126.028916 \nL 103.094034 124.476598 \nL 105.066761 126.69324 \nL 107.039489 127.356092 \nL 109.012216 125.461278 \nL 110.984943 127.780423 \nL 112.95767 128.663188 \nL 114.930398 128.239271 \nL 116.903125 128.044736 \nL 118.875852 126.689271 \nL 120.84858 129.488621 \nL 122.821307 128.757154 \nL 124.794034 129.476301 \nL 126.766761 130.09052 \nL 128.739489 129.389865 \nL 130.712216 129.455253 \nL 132.684943 129.191757 \nL 134.65767 130.855153 \nL 136.630398 129.447826 \nL 138.603125 130.364826 \nL 140.575852 131.611958 \nL 142.54858 130.822784 \nL 144.521307 131.235608 \nL 146.494034 130.800672 \nL 148.466761 131.744138 \nL 150.439489 130.741632 \nL 152.412216 132.245097 \nL 154.384943 131.417065 \nL 156.35767 130.968764 \nL 158.330398 133.496479 \nL 160.303125 133.347586 \nL 162.275852 131.773248 \nL 164.24858 132.555674 \nL 166.221307 131.612176 \nL 168.194034 133.063288 \nL 170.166761 132.607239 \nL 172.139489 134.290547 \nL 174.112216 132.31463 \nL 176.084943 133.183484 \nL 178.05767 133.061747 \nL 180.030398 133.228181 \nL 182.003125 132.004116 \nL 183.975852 133.427931 \nL 185.94858 133.710206 \nL 187.921307 133.159157 \nL 189.894034 135.03537 \nL 191.866761 134.158426 \nL 193.839489 133.918695 \nL 195.812216 133.705087 \nL 197.784943 134.754831 \nL 199.75767 135.139542 \nL 201.730398 133.529684 \nL 203.703125 135.492555 \nL 205.675852 134.184863 \nL 207.64858 134.070116 \nL 209.621307 133.641152 \nL 211.594034 135.08113 \nL 213.566761 134.446805 \nL 215.539489 135.932142 \nL 217.512216 134.290852 \nL 219.484943 134.827921 \nL 221.45767 134.897528 \nL 223.430398 135.238228 \nL 225.403125 134.982404 \n\" clip-path=\"url(#p34c827696b)\" style=\"fill: none; stroke: #1f77b4; stroke-width: 1.5; stroke-linecap: square\"/>\n   </g>\n   <g id=\"line2d_24\">\n    <path d=\"M 30.103125 133.168947 \nL 32.075852 91.145044 \nL 34.04858 62.983659 \nL 36.021307 49.79245 \nL 37.994034 44.128286 \nL 39.966761 40.167567 \nL 41.939489 36.072586 \nL 43.912216 33.74818 \nL 45.884943 31.8853 \nL 47.85767 30.332899 \nL 49.830398 28.696585 \nL 51.803125 27.236489 \nL 53.775852 26.632312 \nL 55.74858 25.684089 \nL 57.721307 24.995998 \nL 59.694034 24.341472 \nL 61.666761 23.569468 \nL 63.639489 23.09116 \nL 65.612216 23.418423 \nL 67.584943 22.310764 \nL 69.55767 21.681413 \nL 71.530398 21.673021 \nL 73.503125 21.261845 \nL 75.475852 21.320585 \nL 77.44858 21.866023 \nL 79.421307 21.010105 \nL 81.394034 20.481449 \nL 83.366761 20.263274 \nL 85.339489 20.624102 \nL 87.312216 20.758364 \nL 89.284943 19.885663 \nL 91.25767 19.625531 \nL 93.230398 19.885663 \nL 95.203125 19.474487 \nL 97.175852 19.759793 \nL 99.14858 19.407356 \nL 101.121307 19.130441 \nL 103.094034 19.759793 \nL 105.066761 18.996179 \nL 107.039489 18.719265 \nL 109.012216 19.289877 \nL 110.984943 18.803178 \nL 112.95767 18.274523 \nL 114.930398 18.392002 \nL 116.903125 18.610177 \nL 118.875852 18.694091 \nL 120.84858 18.173827 \nL 122.821307 18.534655 \nL 124.794034 18.047956 \nL 126.766761 17.552867 \nL 128.739489 18.098305 \nL 130.712216 17.972434 \nL 132.684943 17.938869 \nL 134.65767 17.594823 \nL 136.630398 17.812998 \nL 138.603125 17.737476 \nL 140.575852 17.594823 \nL 142.54858 17.552867 \nL 144.521307 17.426996 \nL 146.494034 17.63678 \nL 148.466761 17.233995 \nL 150.439489 17.611606 \nL 152.412216 16.999037 \nL 154.384943 17.091342 \nL 156.35767 17.494127 \nL 158.330398 16.688557 \nL 160.303125 16.873167 \nL 162.275852 17.334691 \nL 164.24858 16.990646 \nL 166.221307 17.485736 \nL 168.194034 16.847993 \nL 170.166761 17.01582 \nL 172.139489 16.571078 \nL 174.112216 16.95708 \nL 176.084943 16.923515 \nL 178.05767 16.789253 \nL 180.030398 16.881558 \nL 182.003125 17.175256 \nL 183.975852 16.738905 \nL 185.94858 16.428425 \nL 187.921307 16.713731 \nL 189.894034 16.193467 \nL 191.866761 16.235424 \nL 193.839489 16.579469 \nL 195.812216 16.696948 \nL 197.784943 16.185076 \nL 199.75767 16.117945 \nL 201.730398 16.638209 \nL 203.703125 16.252207 \nL 205.675852 16.436816 \nL 207.64858 16.403251 \nL 209.621307 16.722122 \nL 211.594034 16.21025 \nL 213.566761 16.319337 \nL 215.539489 15.941726 \nL 217.512216 16.436816 \nL 219.484943 16.319337 \nL 221.45767 16.050814 \nL 223.430398 16.000466 \nL 225.403125 16.193467 \n\" clip-path=\"url(#p34c827696b)\" style=\"fill: none; stroke-dasharray: 5.55,2.4; stroke-dashoffset: 0; stroke: #bf00bf; stroke-width: 1.5\"/>\n   </g>\n   <g id=\"line2d_25\">\n    <path d=\"M 30.103125 117.289415 \nL 32.075852 69.579611 \nL 34.04858 57.50118 \nL 36.021307 48.970787 \nL 37.994034 41.572748 \nL 39.966761 42.554121 \nL 41.939489 41.195297 \nL 43.912216 34.62765 \nL 45.884943 32.362944 \nL 47.85767 32.060983 \nL 49.830398 31.230591 \nL 51.803125 29.192356 \nL 53.775852 31.457062 \nL 55.74858 31.457062 \nL 57.721307 27.305101 \nL 59.694034 27.758042 \nL 61.666761 27.154121 \nL 63.639489 28.739415 \nL 65.612216 24.360983 \nL 67.584943 26.248238 \nL 69.55767 26.399219 \nL 71.530398 24.587454 \nL 73.503125 24.511964 \nL 75.475852 24.662944 \nL 77.44858 22.624709 \nL 79.421307 24.964905 \nL 81.394034 23.681572 \nL 83.366761 24.662944 \nL 85.339489 22.247258 \nL 87.312216 23.228631 \nL 89.284943 23.228631 \nL 91.25767 22.322748 \nL 93.230398 23.15314 \nL 95.203125 21.643336 \nL 97.175852 21.416866 \nL 99.14858 22.096278 \nL 101.121307 21.718827 \nL 103.094034 21.039415 \nL 105.066761 21.718827 \nL 107.039489 21.039415 \nL 109.012216 21.794317 \nL 110.984943 20.586474 \nL 112.95767 20.812944 \nL 114.930398 20.510983 \nL 116.903125 21.794317 \nL 118.875852 21.492356 \nL 120.84858 20.812944 \nL 122.821307 19.907062 \nL 124.794034 20.661964 \nL 126.766761 19.907062 \nL 128.739489 19.454121 \nL 130.712216 21.114905 \nL 132.684943 21.492356 \nL 134.65767 19.529611 \nL 136.630398 19.15216 \nL 138.603125 21.643336 \nL 140.575852 22.700199 \nL 142.54858 20.209023 \nL 144.521307 19.378631 \nL 146.494034 19.831572 \nL 148.466761 18.397258 \nL 150.439489 20.209023 \nL 152.412216 19.756081 \nL 154.384943 19.15216 \nL 156.35767 19.454121 \nL 158.330398 18.850199 \nL 160.303125 21.869807 \nL 162.275852 20.510983 \nL 164.24858 19.605101 \nL 166.221307 19.454121 \nL 168.194034 19.982552 \nL 170.166761 19.982552 \nL 172.139489 20.133532 \nL 174.112216 19.982552 \nL 176.084943 18.925689 \nL 178.05767 18.170787 \nL 180.030398 20.058042 \nL 182.003125 20.133532 \nL 183.975852 18.019807 \nL 185.94858 21.039415 \nL 187.921307 20.510983 \nL 189.894034 20.284513 \nL 191.866761 18.774709 \nL 193.839489 18.925689 \nL 195.812216 19.907062 \nL 197.784943 19.15216 \nL 199.75767 18.774709 \nL 201.730398 19.07667 \nL 203.703125 19.378631 \nL 205.675852 18.699219 \nL 207.64858 19.756081 \nL 209.621307 21.341376 \nL 211.594034 18.321768 \nL 213.566761 19.30314 \nL 215.539489 20.435493 \nL 217.512216 19.00118 \nL 219.484943 19.15216 \nL 221.45767 18.246278 \nL 223.430398 17.868827 \nL 225.403125 19.529611 \n\" clip-path=\"url(#p34c827696b)\" style=\"fill: none; stroke-dasharray: 9.6,2.4,1.5,2.4; stroke-dashoffset: 0; stroke: #008000; stroke-width: 1.5\"/>\n   </g>\n   <g id=\"patch_3\">\n    <path d=\"M 30.103125 149.599219 \nL 30.103125 10.999219 \n\" style=\"fill: none; stroke: #000000; stroke-width: 0.8; stroke-linejoin: miter; stroke-linecap: square\"/>\n   </g>\n   <g id=\"patch_4\">\n    <path d=\"M 225.403125 149.599219 \nL 225.403125 10.999219 \n\" style=\"fill: none; stroke: #000000; stroke-width: 0.8; stroke-linejoin: miter; stroke-linecap: square\"/>\n   </g>\n   <g id=\"patch_5\">\n    <path d=\"M 30.103125 149.599219 \nL 225.403125 149.599219 \n\" style=\"fill: none; stroke: #000000; stroke-width: 0.8; stroke-linejoin: miter; stroke-linecap: square\"/>\n   </g>\n   <g id=\"patch_6\">\n    <path d=\"M 30.103125 10.999219 \nL 225.403125 10.999219 \n\" style=\"fill: none; stroke: #000000; stroke-width: 0.8; stroke-linejoin: miter; stroke-linecap: square\"/>\n   </g>\n   <g id=\"legend_1\">\n    <g id=\"patch_7\">\n     <path d=\"M 138.8125 104.233594 \nL 218.403125 104.233594 \nQ 220.403125 104.233594 220.403125 102.233594 \nL 220.403125 58.364844 \nQ 220.403125 56.364844 218.403125 56.364844 \nL 138.8125 56.364844 \nQ 136.8125 56.364844 136.8125 58.364844 \nL 136.8125 102.233594 \nQ 136.8125 104.233594 138.8125 104.233594 \nz\n\" style=\"fill: #ffffff; opacity: 0.8; stroke: #cccccc; stroke-linejoin: miter\"/>\n    </g>\n    <g id=\"line2d_26\">\n     <path d=\"M 140.8125 64.463281 \nL 150.8125 64.463281 \nL 160.8125 64.463281 \n\" style=\"fill: none; stroke: #1f77b4; stroke-width: 1.5; stroke-linecap: square\"/>\n    </g>\n    <g id=\"text_13\">\n     <!-- train_loss -->\n     <g transform=\"translate(168.8125 67.963281)scale(0.1 -0.1)\">\n      <defs>\n       <path id=\"DejaVuSans-74\" d=\"M 1172 4494 \nL 1172 3500 \nL 2356 3500 \nL 2356 3053 \nL 1172 3053 \nL 1172 1153 \nQ 1172 725 1289 603 \nQ 1406 481 1766 481 \nL 2356 481 \nL 2356 0 \nL 1766 0 \nQ 1100 0 847 248 \nQ 594 497 594 1153 \nL 594 3053 \nL 172 3053 \nL 172 3500 \nL 594 3500 \nL 594 4494 \nL 1172 4494 \nz\n\" transform=\"scale(0.015625)\"/>\n       <path id=\"DejaVuSans-72\" d=\"M 2631 2963 \nQ 2534 3019 2420 3045 \nQ 2306 3072 2169 3072 \nQ 1681 3072 1420 2755 \nQ 1159 2438 1159 1844 \nL 1159 0 \nL 581 0 \nL 581 3500 \nL 1159 3500 \nL 1159 2956 \nQ 1341 3275 1631 3429 \nQ 1922 3584 2338 3584 \nQ 2397 3584 2469 3576 \nQ 2541 3569 2628 3553 \nL 2631 2963 \nz\n\" transform=\"scale(0.015625)\"/>\n       <path id=\"DejaVuSans-61\" d=\"M 2194 1759 \nQ 1497 1759 1228 1600 \nQ 959 1441 959 1056 \nQ 959 750 1161 570 \nQ 1363 391 1709 391 \nQ 2188 391 2477 730 \nQ 2766 1069 2766 1631 \nL 2766 1759 \nL 2194 1759 \nz\nM 3341 1997 \nL 3341 0 \nL 2766 0 \nL 2766 531 \nQ 2569 213 2275 61 \nQ 1981 -91 1556 -91 \nQ 1019 -91 701 211 \nQ 384 513 384 1019 \nQ 384 1609 779 1909 \nQ 1175 2209 1959 2209 \nL 2766 2209 \nL 2766 2266 \nQ 2766 2663 2505 2880 \nQ 2244 3097 1772 3097 \nQ 1472 3097 1187 3025 \nQ 903 2953 641 2809 \nL 641 3341 \nQ 956 3463 1253 3523 \nQ 1550 3584 1831 3584 \nQ 2591 3584 2966 3190 \nQ 3341 2797 3341 1997 \nz\n\" transform=\"scale(0.015625)\"/>\n       <path id=\"DejaVuSans-69\" d=\"M 603 3500 \nL 1178 3500 \nL 1178 0 \nL 603 0 \nL 603 3500 \nz\nM 603 4863 \nL 1178 4863 \nL 1178 4134 \nL 603 4134 \nL 603 4863 \nz\n\" transform=\"scale(0.015625)\"/>\n       <path id=\"DejaVuSans-6e\" d=\"M 3513 2113 \nL 3513 0 \nL 2938 0 \nL 2938 2094 \nQ 2938 2591 2744 2837 \nQ 2550 3084 2163 3084 \nQ 1697 3084 1428 2787 \nQ 1159 2491 1159 1978 \nL 1159 0 \nL 581 0 \nL 581 3500 \nL 1159 3500 \nL 1159 2956 \nQ 1366 3272 1645 3428 \nQ 1925 3584 2291 3584 \nQ 2894 3584 3203 3211 \nQ 3513 2838 3513 2113 \nz\n\" transform=\"scale(0.015625)\"/>\n       <path id=\"DejaVuSans-5f\" d=\"M 3263 -1063 \nL 3263 -1509 \nL -63 -1509 \nL -63 -1063 \nL 3263 -1063 \nz\n\" transform=\"scale(0.015625)\"/>\n       <path id=\"DejaVuSans-6c\" d=\"M 603 4863 \nL 1178 4863 \nL 1178 0 \nL 603 0 \nL 603 4863 \nz\n\" transform=\"scale(0.015625)\"/>\n       <path id=\"DejaVuSans-73\" d=\"M 2834 3397 \nL 2834 2853 \nQ 2591 2978 2328 3040 \nQ 2066 3103 1784 3103 \nQ 1356 3103 1142 2972 \nQ 928 2841 928 2578 \nQ 928 2378 1081 2264 \nQ 1234 2150 1697 2047 \nL 1894 2003 \nQ 2506 1872 2764 1633 \nQ 3022 1394 3022 966 \nQ 3022 478 2636 193 \nQ 2250 -91 1575 -91 \nQ 1294 -91 989 -36 \nQ 684 19 347 128 \nL 347 722 \nQ 666 556 975 473 \nQ 1284 391 1588 391 \nQ 1994 391 2212 530 \nQ 2431 669 2431 922 \nQ 2431 1156 2273 1281 \nQ 2116 1406 1581 1522 \nL 1381 1569 \nQ 847 1681 609 1914 \nQ 372 2147 372 2553 \nQ 372 3047 722 3315 \nQ 1072 3584 1716 3584 \nQ 2034 3584 2315 3537 \nQ 2597 3491 2834 3397 \nz\n\" transform=\"scale(0.015625)\"/>\n      </defs>\n      <use xlink:href=\"#DejaVuSans-74\"/>\n      <use xlink:href=\"#DejaVuSans-72\" x=\"39.208984\"/>\n      <use xlink:href=\"#DejaVuSans-61\" x=\"80.322266\"/>\n      <use xlink:href=\"#DejaVuSans-69\" x=\"141.601562\"/>\n      <use xlink:href=\"#DejaVuSans-6e\" x=\"169.384766\"/>\n      <use xlink:href=\"#DejaVuSans-5f\" x=\"232.763672\"/>\n      <use xlink:href=\"#DejaVuSans-6c\" x=\"282.763672\"/>\n      <use xlink:href=\"#DejaVuSans-6f\" x=\"310.546875\"/>\n      <use xlink:href=\"#DejaVuSans-73\" x=\"371.728516\"/>\n      <use xlink:href=\"#DejaVuSans-73\" x=\"423.828125\"/>\n     </g>\n    </g>\n    <g id=\"line2d_27\">\n     <path d=\"M 140.8125 79.419531 \nL 150.8125 79.419531 \nL 160.8125 79.419531 \n\" style=\"fill: none; stroke-dasharray: 5.55,2.4; stroke-dashoffset: 0; stroke: #bf00bf; stroke-width: 1.5\"/>\n    </g>\n    <g id=\"text_14\">\n     <!-- train_acc -->\n     <g transform=\"translate(168.8125 82.919531)scale(0.1 -0.1)\">\n      <use xlink:href=\"#DejaVuSans-74\"/>\n      <use xlink:href=\"#DejaVuSans-72\" x=\"39.208984\"/>\n      <use xlink:href=\"#DejaVuSans-61\" x=\"80.322266\"/>\n      <use xlink:href=\"#DejaVuSans-69\" x=\"141.601562\"/>\n      <use xlink:href=\"#DejaVuSans-6e\" x=\"169.384766\"/>\n      <use xlink:href=\"#DejaVuSans-5f\" x=\"232.763672\"/>\n      <use xlink:href=\"#DejaVuSans-61\" x=\"282.763672\"/>\n      <use xlink:href=\"#DejaVuSans-63\" x=\"344.042969\"/>\n      <use xlink:href=\"#DejaVuSans-63\" x=\"399.023438\"/>\n     </g>\n    </g>\n    <g id=\"line2d_28\">\n     <path d=\"M 140.8125 94.375781 \nL 150.8125 94.375781 \nL 160.8125 94.375781 \n\" style=\"fill: none; stroke-dasharray: 9.6,2.4,1.5,2.4; stroke-dashoffset: 0; stroke: #008000; stroke-width: 1.5\"/>\n    </g>\n    <g id=\"text_15\">\n     <!-- test_acc -->\n     <g transform=\"translate(168.8125 97.875781)scale(0.1 -0.1)\">\n      <use xlink:href=\"#DejaVuSans-74\"/>\n      <use xlink:href=\"#DejaVuSans-65\" x=\"39.208984\"/>\n      <use xlink:href=\"#DejaVuSans-73\" x=\"100.732422\"/>\n      <use xlink:href=\"#DejaVuSans-74\" x=\"152.832031\"/>\n      <use xlink:href=\"#DejaVuSans-5f\" x=\"192.041016\"/>\n      <use xlink:href=\"#DejaVuSans-61\" x=\"242.041016\"/>\n      <use xlink:href=\"#DejaVuSans-63\" x=\"303.320312\"/>\n      <use xlink:href=\"#DejaVuSans-63\" x=\"358.300781\"/>\n     </g>\n    </g>\n   </g>\n  </g>\n </g>\n <defs>\n  <clipPath id=\"p34c827696b\">\n   <rect x=\"30.103125\" y=\"10.999219\" width=\"195.3\" height=\"138.6\"/>\n  </clipPath>\n </defs>\n</svg>\n",
      "text/plain": [
       "<Figure size 350x250 with 1 Axes>"
      ]
     },
     "metadata": {},
     "output_type": "display_data"
    }
   ],
   "source": [
    "lr = 5e-5\n",
    "num_epochs = 100\n",
    "devices = [1, 2, 3]\n",
    "\n",
    "model = torchvision.models.resnext50_32x4d(weights=ResNeXt50_32X4D_Weights.DEFAULT)\n",
    "for param in model.parameters():\n",
    "    param.requires_grad = True\n",
    "model.fc = nn.Sequential(\n",
    "    nn.Linear(model.fc.in_features, 512),\n",
    "    nn.BatchNorm1d(512),\n",
    "    nn.ReLU(),\n",
    "    nn.Linear(512, 176)\n",
    ")\n",
    "loss_fn = nn.CrossEntropyLoss()\n",
    "param_1x = [param for name, param in model.named_parameters()\n",
    "            if name not in {\"fc.weight\", \"fc.bias\"}]\n",
    "optimizer = torch.optim.Adam([\n",
    "    {'param': param_1x}, {'param': model.fc.parameters(), 'lr': lr * 10}\n",
    "], lr)\n",
    "scheduler = torch.optim.lr_scheduler.CosineAnnealingLR(optimizer, T_max=100)\n",
    "\n",
    "train(model, train_iter, val_iter, loss_fn, optimizer, num_epochs, devices)"
   ]
  },
  {
   "cell_type": "code",
   "execution_count": 12,
   "metadata": {},
   "outputs": [],
   "source": [
    "# model.block6[2].weight.data"
   ]
  },
  {
   "cell_type": "code",
   "execution_count": 14,
   "metadata": {},
   "outputs": [],
   "source": [
    "# torch.save(model, \"./resnext50_32x4d\")"
   ]
  },
  {
   "cell_type": "markdown",
   "metadata": {},
   "source": [
    "# 推理"
   ]
  },
  {
   "cell_type": "code",
   "execution_count": null,
   "outputs": [],
   "source": [
    "model = torchvision.models.resnext50_32x4d()\n",
    "model.load_state_dict(\"./resnext50_32x4d\")"
   ],
   "metadata": {
    "collapsed": false
   }
  },
  {
   "cell_type": "code",
   "execution_count": 39,
   "metadata": {},
   "outputs": [],
   "source": [
    "def predict(model, test_iter, test_data, devices):\n",
    "    devices = [d2l.try_gpu(i) for i in devices]\n",
    "    model.to(devices[0])\n",
    "    model = nn.DataParallel(model, devices)\n",
    "    model.eval()\n",
    "    predicts = []\n",
    "    with torch.no_grad():\n",
    "        for X, _ in test_iter:\n",
    "            X = X.to(devices[0])\n",
    "            y_hat = model(X)\n",
    "            y_hat = torch.argmax(y_hat, dim=1).cpu().numpy()\n",
    "            y_hat = [id2label[idx] for idx in y_hat]\n",
    "            predicts.extend(y_hat)\n",
    "    test_data['label'] = pd.Series(predicts)\n",
    "    submission = pd.concat([test_data['image'], test_data['label']], axis=1)\n",
    "    submission.to_csv('./submission.csv', index=False)"
   ]
  },
  {
   "cell_type": "code",
   "execution_count": 40,
   "metadata": {},
   "outputs": [],
   "source": [
    "predict(model, test_iter, test_data, devices)"
   ]
  },
  {
   "cell_type": "code",
   "execution_count": null,
   "metadata": {},
   "outputs": [],
   "source": [
    "# ensemble\n",
    "def predict(model, test_iter, test_data, devices):\n",
    "    devices = [d2l.try_gpu(i) for i in devices]\n",
    "    model.to(devices[0])\n",
    "    model = nn.DataParallel(model, devices)\n",
    "    model.eval()\n",
    "    predicts = []\n",
    "    with torch.no_grad():\n",
    "        for X, _ in test_iter:\n",
    "            X = X.to(devices[0])\n",
    "            X.premute(1, 0)\n",
    "            y_hat = torch.zeros((X.shape[0]))\n",
    "            for X_i in X:\n",
    "                y_hat += model(X_i)\n",
    "            y_hat = torch.argmax(y_hat, dim=1).cpu().numpy()\n",
    "            y_hat = [id2label[idx] for idx in y_hat]\n",
    "            predicts.extend(y_hat)\n",
    "    test_data['label'] = pd.Series(predicts)\n",
    "    submission = pd.concat([test_data['image'], test_data['label']], axis=1)\n",
    "    submission.to_csv('./submission.csv', index=False)"
   ]
  },
  {
   "cell_type": "code",
   "execution_count": null,
   "outputs": [],
   "source": [
    "predict(model, test_iter, test_data, devices)\n"
   ],
   "metadata": {
    "collapsed": false
   }
  }
 ],
 "metadata": {
  "kernelspec": {
   "display_name": "Python 3 (ipykernel)",
   "language": "python",
   "name": "python3"
  },
  "language_info": {
   "codemirror_mode": {
    "name": "ipython",
    "version": 3
   },
   "file_extension": ".py",
   "mimetype": "text/x-python",
   "name": "python",
   "nbconvert_exporter": "python",
   "pygments_lexer": "ipython3",
   "version": "3.8.10"
  }
 },
 "nbformat": 4,
 "nbformat_minor": 1
}
