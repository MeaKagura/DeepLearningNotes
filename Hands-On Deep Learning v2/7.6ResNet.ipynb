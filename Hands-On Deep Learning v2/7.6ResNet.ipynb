{
 "cells": [
  {
   "cell_type": "code",
   "execution_count": null,
   "metadata": {
    "collapsed": true
   },
   "outputs": [],
   "source": [
    "import torch\n",
    "from torch import nn\n",
    "import torch.nn.functional as F\n",
    "from d2l import torch as d2l"
   ]
  },
  {
   "cell_type": "markdown",
   "source": [
    "## 加载数据"
   ],
   "metadata": {
    "collapsed": false
   }
  },
  {
   "cell_type": "code",
   "execution_count": null,
   "outputs": [],
   "source": [
    "batch_size = 256\n",
    "train_iter, test_iter = d2l.load_data_fashion_mnist(batch_size, resize=224)"
   ],
   "metadata": {
    "collapsed": false
   }
  },
  {
   "cell_type": "markdown",
   "source": [
    "## 定义模型"
   ],
   "metadata": {
    "collapsed": false
   }
  },
  {
   "cell_type": "code",
   "execution_count": null,
   "outputs": [],
   "source": [
    "class ResidualBlock(nn.Module):\n",
    "    def __init__(self, in_channels, out_channels, stride, use_1x1_conv):\n",
    "        super().__init__()\n",
    "        self.conv1 = nn.Sequential(\n",
    "            nn.Conv2d(in_channels, out_channels, 3, stride, 1),\n",
    "            nn.BatchNorm2d(out_channels),\n",
    "            nn.ReLU()\n",
    "        )\n",
    "        self.conv2 = nn.Sequential(\n",
    "            nn.Conv2d(out_channels, out_channels, 3, 1, 1),\n",
    "            nn.BatchNorm2d(out_channels)\n",
    "        )\n",
    "        if use_1x1_conv:\n",
    "            self.conv3 = nn.Conv2d(in_channels, out_channels, 1, stride)\n",
    "        else:\n",
    "            self.conv3 = None\n",
    "\n",
    "    def forward(self, X):\n",
    "        Y = self.conv1(X)\n",
    "        Y = self.conv2(Y)\n",
    "        if self.conv3:\n",
    "            X = self.conv3(X)\n",
    "        Y = F.relu(Y + X)\n",
    "        return Y"
   ],
   "metadata": {
    "collapsed": false
   }
  },
  {
   "cell_type": "code",
   "execution_count": null,
   "outputs": [],
   "source": [
    "class ResNet(nn.Module):\n",
    "    def __init__(self):\n",
    "        super().__init__()\n",
    "        self.block1 = nn.Sequential(\n",
    "            nn.Conv2d(1, 64, kernel_size=7, stride=2, padding=3),  # [64, 112, 112]\n",
    "            nn.BatchNorm2d(64),\n",
    "            nn.ReLU(),\n",
    "            nn.MaxPool2d(kernel_size=3, stride=2, padding=1)  # [64, 56, 56]\n",
    "        )\n",
    "        self.block2 = nn.Sequential(\n",
    "            ResidualBlock(64, 64, 1, use_1x1_conv=False),  # [64, 56, 56]\n",
    "            ResidualBlock(64, 64, 1, use_1x1_conv=False),  # [64, 56, 56]\n",
    "        )\n",
    "        self.block3 = nn.Sequential(\n",
    "            ResidualBlock(64, 128, 2, use_1x1_conv=True),  # [128, 28, 28]\n",
    "            ResidualBlock(128, 128, 1, use_1x1_conv=False),  # [128, 28, 28]\n",
    "        )\n",
    "        self.block4 = nn.Sequential(\n",
    "            ResidualBlock(128, 256, 2, use_1x1_conv=True),  # [256, 14, 14]\n",
    "            ResidualBlock(256, 256, 1, use_1x1_conv=False),  # [256, 14, 14]\n",
    "        )\n",
    "        self.block5 = nn.Sequential(\n",
    "            ResidualBlock(256, 512, 2, use_1x1_conv=True),  # [512, 7, 7]\n",
    "            ResidualBlock(512, 512, 1, use_1x1_conv=False),  # [512, 7, 7]\n",
    "        )\n",
    "        self.block6 = nn.Sequential(\n",
    "            nn.AdaptiveAvgPool2d((1, 1)),  # [512, 1, 1]\n",
    "            nn.Flatten(),  # [512]\n",
    "            nn.Linear(512, 10)  # [10]\n",
    "        )\n",
    "\n",
    "    def forward(self, X):\n",
    "        X = X.reshape(-1, 1, 224, 224)\n",
    "        X = self.block1(X)\n",
    "        X = self.block2(X)\n",
    "        X = self.block3(X)\n",
    "        X = self.block4(X)\n",
    "        X = self.block5(X)\n",
    "        y = self.block6(X)\n",
    "        return y"
   ],
   "metadata": {
    "collapsed": false
   }
  },
  {
   "cell_type": "markdown",
   "source": [
    "## 训练"
   ],
   "metadata": {
    "collapsed": false
   }
  },
  {
   "cell_type": "code",
   "execution_count": null,
   "outputs": [],
   "source": [
    "# 模型准确率评估函数\n",
    "def evaluate_accuracy(model, test_iter, device):\n",
    "    metrics = d2l.Accumulator(2)\n",
    "    model.to(device)\n",
    "    model.eval()\n",
    "    for X, y in test_iter:\n",
    "        X, y = X.to(device), y.to(device)\n",
    "        y_hat = model(X)\n",
    "        metrics.add(d2l.accuracy(y_hat, y), y.numel())\n",
    "    return metrics[0] / metrics[1]"
   ],
   "metadata": {
    "collapsed": false
   }
  },
  {
   "cell_type": "code",
   "execution_count": null,
   "outputs": [],
   "source": [
    "# 训练函数\n",
    "def train(model, train_iter, test_iter, loss_fn, optimizer, num_epochs, device):\n",
    "    animator = d2l.Animator(xlabel='epoch', xlim=[1, num_epochs], ylim=[0, 1],\n",
    "                            legend=['train_loss', 'train_acc', 'test_acc'])\n",
    "    metrics = d2l.Accumulator(3)\n",
    "    timer = d2l.Timer()\n",
    "    model.to(device)\n",
    "    model.train()\n",
    "    for epoch in range(num_epochs):\n",
    "        metrics.reset()\n",
    "        timer.start()\n",
    "        for X, y in train_iter:\n",
    "            X, y = X.to(device), y.to(device)\n",
    "            y_hat = model(X)\n",
    "            loss = loss_fn(y_hat, y)\n",
    "            optimizer.zero_grad()\n",
    "            loss.backward()\n",
    "            optimizer.step()\n",
    "            with torch.no_grad():\n",
    "                metrics.add(loss * y.numel(), d2l.accuracy(y_hat, y), y.numel())\n",
    "        timer.stop()\n",
    "        print(f'speed: {metrics[2] / timer.times[-1]:.1f} samples/sec')\n",
    "        test_acc = evaluate_accuracy(model, test_iter, d2l.try_gpu())\n",
    "        print(f'train_acc: {metrics[1] / metrics[2]:.3f}, test_acc: {test_acc}')\n",
    "        animator.add(epoch + 1,\n",
    "                     (metrics[0] / metrics[2], metrics[1] / metrics[2], test_acc))\n",
    "    print(f'speed: {metrics[2] / timer.avg():.1f} samples/sec on {device}.')\n",
    "    print(f'train_acc: {metrics[1] / metrics[2]:.3f}, test_acc: {test_acc}.')"
   ],
   "metadata": {
    "collapsed": false
   }
  },
  {
   "cell_type": "code",
   "execution_count": null,
   "outputs": [],
   "source": [
    "lr = 0.001\n",
    "num_epochs = 10\n",
    "\n",
    "model = ResNet()\n",
    "loss_fn = nn.CrossEntropyLoss()\n",
    "optimizer = torch.optim.SGD(model.parameters(), lr)\n",
    "\n",
    "train(model,  train_iter, test_iter, loss_fn, optimizer, num_epochs, d2l.try_gpu())"
   ],
   "metadata": {
    "collapsed": false
   }
  },
  {
   "cell_type": "code",
   "execution_count": null,
   "outputs": [],
   "source": [
    "model.block1[0].weight.data"
   ],
   "metadata": {
    "collapsed": false
   }
  }
 ],
 "metadata": {
  "kernelspec": {
   "display_name": "Python 3",
   "language": "python",
   "name": "python3"
  },
  "language_info": {
   "codemirror_mode": {
    "name": "ipython",
    "version": 2
   },
   "file_extension": ".py",
   "mimetype": "text/x-python",
   "name": "python",
   "nbconvert_exporter": "python",
   "pygments_lexer": "ipython2",
   "version": "2.7.6"
  }
 },
 "nbformat": 4,
 "nbformat_minor": 0
}
