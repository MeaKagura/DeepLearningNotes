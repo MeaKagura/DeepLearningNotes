{
 "cells": [
  {
   "cell_type": "code",
   "execution_count": null,
   "outputs": [],
   "source": [
    "%matplotlib inline\n",
    "import torch\n",
    "import torchvision.transforms as transforms\n",
    "from torch import nn\n",
    "from PIL import Image\n",
    "from d2l import torch as d2l"
   ],
   "metadata": {
    "collapsed": false
   }
  },
  {
   "cell_type": "markdown",
   "source": [
    "## 图像增广"
   ],
   "metadata": {
    "collapsed": false
   }
  },
  {
   "cell_type": "code",
   "execution_count": null,
   "outputs": [],
   "source": [
    "train_tfm = transforms.Compose([\n",
    "    # Resize the image into a fixed shape (height = width = 128)\n",
    "    transforms.Resize((224, 224)),\n",
    "    # You may add some transforms here.\n",
    "    transforms.RandomHorizontalFlip(p=0.5),  # 随机水平翻转\n",
    "    transforms.RandomVerticalFlip(p=0.5),  # 随机上下翻转\n",
    "    transforms.RandomResizedCrop((224, 224), scale=(0.35, 1.0),\n",
    "                                 ratio=(1, 1)),  # 随机裁剪图像\n",
    "    # transforms.RandomRotation((-180, 180)),  # 随机旋转图像\n",
    "    transforms.RandomAffine(degrees=(-90, 90), shear=(-30, 30)),  # 图像保持中心不变的随机仿射变换\n",
    "    transforms.ColorJitter(brightness=(0.5, 1.5), contrast=(0.5, 1.5),\n",
    "                           saturation=(0.5, 1.5), hue=(-0.2, 0.2)),  # 修改亮度、对比度、饱和度、色调\n",
    "    # transforms.RandomInvert(0.2),  # 随机反转图像\n",
    "    # transforms.RandomGrayscale(0.2),  # 随机转换为灰度图像\n",
    "    # ToTensor() should be the last one of the transforms.\n",
    "])\n"
   ],
   "metadata": {
    "collapsed": false
   }
  },
  {
   "cell_type": "code",
   "execution_count": null,
   "outputs": [],
   "source": [
    "\n",
    "data_path = \"../data/classify-leaves\"\n",
    "img = train_tfm(Image.open(data_path + \"/images/0.jpg\"))\n",
    "img.show()"
   ],
   "metadata": {
    "collapsed": false
   }
  }
 ],
 "metadata": {
  "kernelspec": {
   "display_name": "Python 3",
   "language": "python",
   "name": "python3"
  },
  "language_info": {
   "codemirror_mode": {
    "name": "ipython",
    "version": 2
   },
   "file_extension": ".py",
   "mimetype": "text/x-python",
   "name": "python",
   "nbconvert_exporter": "python",
   "pygments_lexer": "ipython2",
   "version": "2.7.6"
  }
 },
 "nbformat": 4,
 "nbformat_minor": 0
}
