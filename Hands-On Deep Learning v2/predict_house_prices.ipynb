{
 "cells": [
  {
   "cell_type": "code",
   "execution_count": 2,
   "outputs": [],
   "source": [
    "%matplotlib inline\n",
    "import collections\n",
    "import numpy as np\n",
    "import pandas as pd\n",
    "import torch\n",
    "import seaborn as sns\n",
    "from torch import nn\n",
    "from torch.utils import data\n",
    "from d2l import torch as d2l\n",
    "import plotly.express as px"
   ],
   "metadata": {
    "collapsed": false
   }
  },
  {
   "cell_type": "markdown",
   "source": [
    "# 一、数据分析"
   ],
   "metadata": {
    "collapsed": false
   }
  },
  {
   "cell_type": "markdown",
   "source": [
    "## 读取数据"
   ],
   "metadata": {
    "collapsed": false
   }
  },
  {
   "cell_type": "code",
   "execution_count": 4,
   "outputs": [
    {
     "name": "stdout",
     "output_type": "stream",
     "text": [
      "(47439, 41)\n",
      "(31626, 40)\n"
     ]
    },
    {
     "data": {
      "text/plain": "   Id            Address  Sold Price  \\\n0   0        540 Pine Ln   3825000.0   \n1   1     1727 W 67th St    505000.0   \n2   2     28093 Pine Ave    140000.0   \n3   3  10750 Braddock Dr   1775000.0   \n4   4  7415 O Donovan Rd   1175000.0   \n5   5   922 E Channel St    221000.0   \n6   6    1926 Mellon Ave   1589000.0   \n7   7   9013 N Valley Rd    480000.0   \n8   8    225 26th Ave #2   1590000.0   \n9   9    612 Valencia Rd   1275000.0   \n\n                                             Summary          Type  \\\n0  540 Pine Ln, Los Altos, CA 94022 is a single f...  SingleFamily   \n1  HURRY, HURRY.......Great house 3 bed and 2 bat...  SingleFamily   \n2  'THE PERFECT CABIN TO FLIP!  Strawberry deligh...  SingleFamily   \n3  Rare 2-story Gated 5 bedroom Modern Mediterran...  SingleFamily   \n4  Beautiful 200 acre ranch land with several pas...    VacantLand   \n5  922 E Channel St, Stockton, CA 95202 is a sing...  SingleFamily   \n6  Two newly built modern farm houses in super ho...       Unknown   \n7  9013 N Valley Rd, Taylorsville, CA 95983 is a ...  SingleFamily   \n8  New Refinished Bathrooms! Come take a NEW look...         Condo   \n9  Sprawling one level home on 1.5 acres with lev...  SingleFamily   \n\n   Year built                                            Heating  \\\n0      1969.0       Heating - 2+ Zones, Central Forced Air - Gas   \n1      1926.0                                        Combination   \n2      1958.0                                         Forced air   \n3      1947.0                                            Central   \n4         NaN                                                NaN   \n5      1905.0                                       Wall Furnace   \n6      1926.0                                            Central   \n7      2005.0                Forced air, Propane / Butane, Solar   \n8      2001.0                                                NaN   \n9      1973.0  Gas, Heating - 2+ Zones, Wall Furnace, Central...   \n\n                                             Cooling  \\\n0    Multi-Zone, Central AC, Whole House / Attic Fan   \n1  Wall/Window Unit(s), Evaporative Cooling, See ...   \n2                                                NaN   \n3                                        Central Air   \n4                                                NaN   \n5                                     Window Unit(s)   \n6                                        Central Air   \n7                                              Other   \n8                                                NaN   \n9                                               None   \n\n                                             Parking        Lot  ...  \\\n0                 Garage, Garage - Attached, Covered        1.0  ...   \n1                           Detached Carport, Garage     4047.0  ...   \n2                                           0 spaces     9147.0  ...   \n3      Detached Carport, Driveway, Garage - Two Door        NaN  ...   \n4                                           0 spaces        NaN  ...   \n5                                            Carport     3576.0  ...   \n6                                   Driveway, Garage        NaN  ...   \n7                Carport, Garage - Attached, Covered  1771149.6  ...   \n8  Attached, Enclosed, Garage Door Opener, Interi...        NaN  ...   \n9                          Garage, Garage - Attached    66211.2  ...   \n\n                                    Parking features  Tax assessed value  \\\n0                 Garage, Garage - Attached, Covered            886486.0   \n1                           Detached Carport, Garage            505000.0   \n2                                                NaN             49627.0   \n3      Detached Carport, Driveway, Garage - Two Door           1775000.0   \n4                                                NaN                 NaN   \n5                                            Carport            208080.0   \n6                                   Driveway, Garage           1589000.0   \n7                Carport, Garage - Attached, Covered                 NaN   \n8  Attached, Enclosed, Garage Door Opener, Interi...           1087088.0   \n9                          Garage, Garage - Attached            167767.0   \n\n   Annual tax amount   Listed On  Listed Price  Last Sold On Last Sold Price  \\\n0            12580.0  2019-10-24     4198000.0           NaN             NaN   \n1             6253.0  2019-10-16      525000.0    2019-08-30        328000.0   \n2              468.0  2019-08-25      180000.0           NaN             NaN   \n3            20787.0  2019-10-24     1895000.0    2016-08-30       1500000.0   \n4                NaN  2019-06-07     1595000.0    2016-06-27        900000.0   \n5             2531.0  2019-10-30      224900.0    2017-12-28        200000.0   \n6            19220.0  2019-10-28     1599000.0    2018-03-14        500000.0   \n7                NaN  2019-10-18      499000.0           NaN             NaN   \n8            13793.0  2019-07-18     1650000.0           NaN             NaN   \n9             1909.0  2019-10-28     1050000.0           NaN             NaN   \n\n            City    Zip  State  \n0      Los Altos  94022     CA  \n1    Los Angeles  90047     CA  \n2     Strawberry  95375     CA  \n3    Culver City  90230     CA  \n4        Creston  93432     CA  \n5       Stockton  95202     CA  \n6    Los Angeles  90039     CA  \n7   Taylorsville  95983     CA  \n8  San Francisco  94121     CA  \n9          Aptos  95003     CA  \n\n[10 rows x 41 columns]",
      "text/html": "<div>\n<style scoped>\n    .dataframe tbody tr th:only-of-type {\n        vertical-align: middle;\n    }\n\n    .dataframe tbody tr th {\n        vertical-align: top;\n    }\n\n    .dataframe thead th {\n        text-align: right;\n    }\n</style>\n<table border=\"1\" class=\"dataframe\">\n  <thead>\n    <tr style=\"text-align: right;\">\n      <th></th>\n      <th>Id</th>\n      <th>Address</th>\n      <th>Sold Price</th>\n      <th>Summary</th>\n      <th>Type</th>\n      <th>Year built</th>\n      <th>Heating</th>\n      <th>Cooling</th>\n      <th>Parking</th>\n      <th>Lot</th>\n      <th>...</th>\n      <th>Parking features</th>\n      <th>Tax assessed value</th>\n      <th>Annual tax amount</th>\n      <th>Listed On</th>\n      <th>Listed Price</th>\n      <th>Last Sold On</th>\n      <th>Last Sold Price</th>\n      <th>City</th>\n      <th>Zip</th>\n      <th>State</th>\n    </tr>\n  </thead>\n  <tbody>\n    <tr>\n      <th>0</th>\n      <td>0</td>\n      <td>540 Pine Ln</td>\n      <td>3825000.0</td>\n      <td>540 Pine Ln, Los Altos, CA 94022 is a single f...</td>\n      <td>SingleFamily</td>\n      <td>1969.0</td>\n      <td>Heating - 2+ Zones, Central Forced Air - Gas</td>\n      <td>Multi-Zone, Central AC, Whole House / Attic Fan</td>\n      <td>Garage, Garage - Attached, Covered</td>\n      <td>1.0</td>\n      <td>...</td>\n      <td>Garage, Garage - Attached, Covered</td>\n      <td>886486.0</td>\n      <td>12580.0</td>\n      <td>2019-10-24</td>\n      <td>4198000.0</td>\n      <td>NaN</td>\n      <td>NaN</td>\n      <td>Los Altos</td>\n      <td>94022</td>\n      <td>CA</td>\n    </tr>\n    <tr>\n      <th>1</th>\n      <td>1</td>\n      <td>1727 W 67th St</td>\n      <td>505000.0</td>\n      <td>HURRY, HURRY.......Great house 3 bed and 2 bat...</td>\n      <td>SingleFamily</td>\n      <td>1926.0</td>\n      <td>Combination</td>\n      <td>Wall/Window Unit(s), Evaporative Cooling, See ...</td>\n      <td>Detached Carport, Garage</td>\n      <td>4047.0</td>\n      <td>...</td>\n      <td>Detached Carport, Garage</td>\n      <td>505000.0</td>\n      <td>6253.0</td>\n      <td>2019-10-16</td>\n      <td>525000.0</td>\n      <td>2019-08-30</td>\n      <td>328000.0</td>\n      <td>Los Angeles</td>\n      <td>90047</td>\n      <td>CA</td>\n    </tr>\n    <tr>\n      <th>2</th>\n      <td>2</td>\n      <td>28093 Pine Ave</td>\n      <td>140000.0</td>\n      <td>'THE PERFECT CABIN TO FLIP!  Strawberry deligh...</td>\n      <td>SingleFamily</td>\n      <td>1958.0</td>\n      <td>Forced air</td>\n      <td>NaN</td>\n      <td>0 spaces</td>\n      <td>9147.0</td>\n      <td>...</td>\n      <td>NaN</td>\n      <td>49627.0</td>\n      <td>468.0</td>\n      <td>2019-08-25</td>\n      <td>180000.0</td>\n      <td>NaN</td>\n      <td>NaN</td>\n      <td>Strawberry</td>\n      <td>95375</td>\n      <td>CA</td>\n    </tr>\n    <tr>\n      <th>3</th>\n      <td>3</td>\n      <td>10750 Braddock Dr</td>\n      <td>1775000.0</td>\n      <td>Rare 2-story Gated 5 bedroom Modern Mediterran...</td>\n      <td>SingleFamily</td>\n      <td>1947.0</td>\n      <td>Central</td>\n      <td>Central Air</td>\n      <td>Detached Carport, Driveway, Garage - Two Door</td>\n      <td>NaN</td>\n      <td>...</td>\n      <td>Detached Carport, Driveway, Garage - Two Door</td>\n      <td>1775000.0</td>\n      <td>20787.0</td>\n      <td>2019-10-24</td>\n      <td>1895000.0</td>\n      <td>2016-08-30</td>\n      <td>1500000.0</td>\n      <td>Culver City</td>\n      <td>90230</td>\n      <td>CA</td>\n    </tr>\n    <tr>\n      <th>4</th>\n      <td>4</td>\n      <td>7415 O Donovan Rd</td>\n      <td>1175000.0</td>\n      <td>Beautiful 200 acre ranch land with several pas...</td>\n      <td>VacantLand</td>\n      <td>NaN</td>\n      <td>NaN</td>\n      <td>NaN</td>\n      <td>0 spaces</td>\n      <td>NaN</td>\n      <td>...</td>\n      <td>NaN</td>\n      <td>NaN</td>\n      <td>NaN</td>\n      <td>2019-06-07</td>\n      <td>1595000.0</td>\n      <td>2016-06-27</td>\n      <td>900000.0</td>\n      <td>Creston</td>\n      <td>93432</td>\n      <td>CA</td>\n    </tr>\n    <tr>\n      <th>5</th>\n      <td>5</td>\n      <td>922 E Channel St</td>\n      <td>221000.0</td>\n      <td>922 E Channel St, Stockton, CA 95202 is a sing...</td>\n      <td>SingleFamily</td>\n      <td>1905.0</td>\n      <td>Wall Furnace</td>\n      <td>Window Unit(s)</td>\n      <td>Carport</td>\n      <td>3576.0</td>\n      <td>...</td>\n      <td>Carport</td>\n      <td>208080.0</td>\n      <td>2531.0</td>\n      <td>2019-10-30</td>\n      <td>224900.0</td>\n      <td>2017-12-28</td>\n      <td>200000.0</td>\n      <td>Stockton</td>\n      <td>95202</td>\n      <td>CA</td>\n    </tr>\n    <tr>\n      <th>6</th>\n      <td>6</td>\n      <td>1926 Mellon Ave</td>\n      <td>1589000.0</td>\n      <td>Two newly built modern farm houses in super ho...</td>\n      <td>Unknown</td>\n      <td>1926.0</td>\n      <td>Central</td>\n      <td>Central Air</td>\n      <td>Driveway, Garage</td>\n      <td>NaN</td>\n      <td>...</td>\n      <td>Driveway, Garage</td>\n      <td>1589000.0</td>\n      <td>19220.0</td>\n      <td>2019-10-28</td>\n      <td>1599000.0</td>\n      <td>2018-03-14</td>\n      <td>500000.0</td>\n      <td>Los Angeles</td>\n      <td>90039</td>\n      <td>CA</td>\n    </tr>\n    <tr>\n      <th>7</th>\n      <td>7</td>\n      <td>9013 N Valley Rd</td>\n      <td>480000.0</td>\n      <td>9013 N Valley Rd, Taylorsville, CA 95983 is a ...</td>\n      <td>SingleFamily</td>\n      <td>2005.0</td>\n      <td>Forced air, Propane / Butane, Solar</td>\n      <td>Other</td>\n      <td>Carport, Garage - Attached, Covered</td>\n      <td>1771149.6</td>\n      <td>...</td>\n      <td>Carport, Garage - Attached, Covered</td>\n      <td>NaN</td>\n      <td>NaN</td>\n      <td>2019-10-18</td>\n      <td>499000.0</td>\n      <td>NaN</td>\n      <td>NaN</td>\n      <td>Taylorsville</td>\n      <td>95983</td>\n      <td>CA</td>\n    </tr>\n    <tr>\n      <th>8</th>\n      <td>8</td>\n      <td>225 26th Ave #2</td>\n      <td>1590000.0</td>\n      <td>New Refinished Bathrooms! Come take a NEW look...</td>\n      <td>Condo</td>\n      <td>2001.0</td>\n      <td>NaN</td>\n      <td>NaN</td>\n      <td>Attached, Enclosed, Garage Door Opener, Interi...</td>\n      <td>NaN</td>\n      <td>...</td>\n      <td>Attached, Enclosed, Garage Door Opener, Interi...</td>\n      <td>1087088.0</td>\n      <td>13793.0</td>\n      <td>2019-07-18</td>\n      <td>1650000.0</td>\n      <td>NaN</td>\n      <td>NaN</td>\n      <td>San Francisco</td>\n      <td>94121</td>\n      <td>CA</td>\n    </tr>\n    <tr>\n      <th>9</th>\n      <td>9</td>\n      <td>612 Valencia Rd</td>\n      <td>1275000.0</td>\n      <td>Sprawling one level home on 1.5 acres with lev...</td>\n      <td>SingleFamily</td>\n      <td>1973.0</td>\n      <td>Gas, Heating - 2+ Zones, Wall Furnace, Central...</td>\n      <td>None</td>\n      <td>Garage, Garage - Attached</td>\n      <td>66211.2</td>\n      <td>...</td>\n      <td>Garage, Garage - Attached</td>\n      <td>167767.0</td>\n      <td>1909.0</td>\n      <td>2019-10-28</td>\n      <td>1050000.0</td>\n      <td>NaN</td>\n      <td>NaN</td>\n      <td>Aptos</td>\n      <td>95003</td>\n      <td>CA</td>\n    </tr>\n  </tbody>\n</table>\n<p>10 rows × 41 columns</p>\n</div>"
     },
     "execution_count": 4,
     "metadata": {},
     "output_type": "execute_result"
    }
   ],
   "source": [
    "data_path = '../data/california-house-prices/'\n",
    "\n",
    "train_data = pd.read_csv(data_path + 'train.csv')\n",
    "test_data = pd.read_csv(data_path + 'test.csv')\n",
    "print(train_data.shape)\n",
    "print(test_data.shape)\n",
    "train_data.iloc[0:10]"
   ],
   "metadata": {
    "collapsed": false
   }
  },
  {
   "cell_type": "markdown",
   "source": [
    "## 获取统计信息"
   ],
   "metadata": {
    "collapsed": false
   }
  },
  {
   "cell_type": "code",
   "execution_count": 1,
   "outputs": [
    {
     "ename": "NameError",
     "evalue": "name 'train_data' is not defined",
     "output_type": "error",
     "traceback": [
      "\u001B[0;31m---------------------------------------------------------------------------\u001B[0m",
      "\u001B[0;31mNameError\u001B[0m                                 Traceback (most recent call last)",
      "Cell \u001B[0;32mIn[1], line 1\u001B[0m\n\u001B[0;32m----> 1\u001B[0m \u001B[38;5;28mprint\u001B[39m(\u001B[43mtrain_data\u001B[49m\u001B[38;5;241m.\u001B[39mdescribe())\n\u001B[1;32m      2\u001B[0m tr\n",
      "\u001B[0;31mNameError\u001B[0m: name 'train_data' is not defined"
     ]
    }
   ],
   "source": [
    "print(train_data.describe())\n",
    "tr"
   ],
   "metadata": {
    "collapsed": false
   }
  },
  {
   "cell_type": "code",
   "execution_count": 26,
   "outputs": [
    {
     "name": "stdout",
     "output_type": "stream",
     "text": [
      "                 Id    Year built           Lot     Bathrooms  Full bathrooms  \\\n",
      "count  31626.000000  30729.000000  2.281800e+04  29681.000000    26563.000000   \n",
      "mean   63251.500000   1971.956295  5.640277e+05      2.444156        2.108233   \n",
      "std     9129.784143     97.838183  2.778430e+07      1.118933        0.910245   \n",
      "min    47439.000000      0.000000  0.000000e+00      0.000000        1.000000   \n",
      "25%    55345.250000   1956.000000  5.400000e+03      2.000000        2.000000   \n",
      "50%    63251.500000   1978.000000  7.152500e+03      2.000000        2.000000   \n",
      "75%    71157.750000   1996.000000  1.089000e+04      3.000000        2.000000   \n",
      "max    79064.000000   9999.000000  2.217378e+09     24.000000       24.000000   \n",
      "\n",
      "       Total interior livable area  Total spaces  Garage spaces  \\\n",
      "count                 30274.000000  30875.000000   30876.000000   \n",
      "mean                   1904.238290      2.305943       1.990640   \n",
      "std                    3628.506263     18.720968      18.645971   \n",
      "min                       1.000000      0.000000       0.000000   \n",
      "25%                    1223.000000      1.000000       1.000000   \n",
      "50%                    1617.000000      2.000000       2.000000   \n",
      "75%                    2203.000000      2.000000       2.000000   \n",
      "max                  510523.000000   3109.000000    3109.000000   \n",
      "\n",
      "       Elementary School Score  Elementary School Distance  \\\n",
      "count             27787.000000                27875.000000   \n",
      "mean                  5.693778                    1.123609   \n",
      "std                   2.020938                    1.935083   \n",
      "min                   1.000000                    0.000000   \n",
      "25%                   4.000000                    0.300000   \n",
      "50%                   6.000000                    0.600000   \n",
      "75%                   7.000000                    1.100000   \n",
      "max                  10.000000                   56.900000   \n",
      "\n",
      "       Middle School Score  Middle School Distance  High School Score  \\\n",
      "count         20052.000000            20053.000000       29061.000000   \n",
      "mean              5.146818                1.739959           6.197412   \n",
      "std               2.047047                2.085685           1.972230   \n",
      "min               1.000000                0.000000           1.000000   \n",
      "25%               3.000000                0.700000           5.000000   \n",
      "50%               5.000000                1.200000           6.000000   \n",
      "75%               7.000000                2.000000           8.000000   \n",
      "max              10.000000               57.000000          10.000000   \n",
      "\n",
      "       High School Distance  Tax assessed value  Annual tax amount  \\\n",
      "count          29452.000000        2.895500e+04       28727.000000   \n",
      "mean               2.260723        5.332710e+05        6726.433147   \n",
      "std                2.808540        7.790036e+05       10753.212234   \n",
      "min                0.000000        0.000000e+00           1.000000   \n",
      "25%                0.900000        1.981585e+05        2623.000000   \n",
      "50%                1.500000        3.650130e+05        4704.000000   \n",
      "75%                2.500000        6.137920e+05        7869.500000   \n",
      "max               58.000000        3.896756e+07      999999.000000   \n",
      "\n",
      "       Listed Price  Last Sold Price           Zip  \n",
      "count  3.162600e+04     1.984700e+04  31626.000000  \n",
      "mean   8.735233e+05     5.304881e+05  92989.640675  \n",
      "std    1.154445e+06     6.512712e+05   1779.822267  \n",
      "min    0.000000e+00     0.000000e+00  85611.000000  \n",
      "25%    4.001105e+05     2.280000e+05  91761.000000  \n",
      "50%    6.190000e+05     3.850000e+05  92683.000000  \n",
      "75%    9.490000e+05     6.141500e+05  94561.000000  \n",
      "max    4.250000e+07     1.880019e+07  96150.000000  \n"
     ]
    }
   ],
   "source": [
    "print(test_data.describe())"
   ],
   "metadata": {
    "collapsed": false
   }
  },
  {
   "cell_type": "code",
   "execution_count": 19,
   "outputs": [
    {
     "name": "stdout",
     "output_type": "stream",
     "text": [
      "Id                                634.500\n",
      "Sold Price                     150000.000\n",
      "Year built                       1900.000\n",
      "Lot                               767.640\n",
      "Bathrooms                           1.000\n",
      "Full bathrooms                      1.000\n",
      "Total interior livable area       589.331\n",
      "Total spaces                        0.000\n",
      "Garage spaces                       0.000\n",
      "Elementary School Score             2.000\n",
      "Elementary School Distance          0.100\n",
      "Middle School Score                 2.000\n",
      "Middle School Distance              0.200\n",
      "High School Score                   2.000\n",
      "High School Distance                0.200\n",
      "Tax assessed value              42250.668\n",
      "Annual tax amount                 756.414\n",
      "Listed Price                   165000.000\n",
      "Last Sold Price                 64000.000\n",
      "Zip                             90003.000\n",
      "Name: 0.001, dtype: float64\n"
     ]
    }
   ],
   "source": [
    "print(train_data.quantile(0.001))"
   ],
   "metadata": {
    "collapsed": false
   }
  },
  {
   "cell_type": "code",
   "execution_count": 46,
   "outputs": [
    {
     "data": {
      "text/plain": "<AxesSubplot:>"
     },
     "execution_count": 46,
     "metadata": {},
     "output_type": "execute_result"
    },
    {
     "data": {
      "text/plain": "<Figure size 640x480 with 1 Axes>",
      "image/png": "[encoded data removed]"
     },
     "metadata": {},
     "output_type": "display_data"
    }
   ],
   "source": [
    "numeric_cols = train_data.dtypes[train_data.dtypes != 'object'].index[1:]\n",
    "sns.boxplot(data=train_data.loc[:, numeric_cols[5:6]])"
   ],
   "metadata": {
    "collapsed": false
   }
  },
  {
   "cell_type": "markdown",
   "source": [
    "## 获取相关信息"
   ],
   "metadata": {
    "collapsed": false
   }
  },
  {
   "cell_type": "code",
   "execution_count": 27,
   "outputs": [
    {
     "data": {
      "text/plain": "Elementary School Distance    -0.166126\nHigh School Distance          -0.164779\nYear built                    -0.153159\nLot                           -0.102001\nId                            -0.089965\nMiddle School Distance        -0.082399\nZip                           -0.006106\nTotal spaces                   0.030024\nGarage spaces                  0.049715\nHigh School Score              0.287986\nMiddle School Score            0.317148\nElementary School Score        0.352972\nFull bathrooms                 0.361112\nBathrooms                      0.382401\nTotal interior livable area    0.489769\nTax assessed value             0.573898\nAnnual tax amount              0.583092\nLast Sold Price                0.693435\nListed Price                   0.955705\nSold Price                     1.000000\nName: Sold Price, dtype: float64"
     },
     "execution_count": 27,
     "metadata": {},
     "output_type": "execute_result"
    }
   ],
   "source": [
    "train_data.corr()['Sold Price'].sort_values()"
   ],
   "metadata": {
    "collapsed": false
   }
  },
  {
   "cell_type": "markdown",
   "source": [
    "# 二、数据处理"
   ],
   "metadata": {
    "collapsed": false
   }
  },
  {
   "cell_type": "code",
   "execution_count": 92,
   "outputs": [],
   "source": [
    "# 处理数值特征\n",
    "numeric_cols = train_data[1:].dtypes[train_data.dtypes != 'object'].index[1:]\n",
    "\n",
    "# 过滤各个特征取值不正常的记录\n",
    "for col in numeric_cols:\n",
    "    train_data = train_data.drop(train_data[col].nlargest(int(0.005 * len(train_data))).index)\n",
    "    train_data = train_data.drop(train_data[col].nsmallest(int(0.005 * len(train_data))).index)"
   ],
   "metadata": {
    "collapsed": false
   }
  },
  {
   "cell_type": "code",
   "execution_count": 94,
   "outputs": [
    {
     "name": "stdout",
     "output_type": "stream",
     "text": [
      "                 Id    Sold Price    Year built           Lot     Bathrooms  \\\n",
      "count  39224.000000  3.922400e+04  38517.000000  2.769200e+04  36587.000000   \n",
      "mean   24666.831251  1.131771e+06   1965.730119  2.349785e+04      2.264083   \n",
      "std    13332.879946  7.428282e+05     30.311366  8.123688e+04      0.914846   \n",
      "min        4.000000  1.200000e+05   1860.000000  4.356000e+02      0.000000   \n",
      "25%    13243.500000  6.000000e+05   1947.000000  4.941500e+03      2.000000   \n",
      "50%    24889.500000  9.600000e+05   1967.000000  6.316000e+03      2.000000   \n",
      "75%    36205.250000  1.460000e+06   1988.000000  9.199000e+03      3.000000   \n",
      "max    47438.000000  6.950000e+06   2020.000000  1.114700e+06      6.000000   \n",
      "\n",
      "       Full bathrooms  Total interior livable area  Total spaces  \\\n",
      "count    33395.000000                 37390.000000  38622.000000   \n",
      "mean         2.003773                  1698.976598      1.333256   \n",
      "std          0.757062                   733.092387      1.230231   \n",
      "min          1.000000                   490.000000      0.000000   \n",
      "25%          2.000000                  1180.000000      0.000000   \n",
      "50%          2.000000                  1539.000000      1.000000   \n",
      "75%          2.000000                  2043.000000      2.000000   \n",
      "max          5.000000                  5266.000000      9.000000   \n",
      "\n",
      "       Garage spaces  Elementary School Score  Elementary School Distance  \\\n",
      "count   38623.000000             35101.000000                35211.000000   \n",
      "mean        1.282448                 5.711575                    0.924964   \n",
      "std         1.126734                 2.040892                    1.379881   \n",
      "min         0.000000                 1.000000                    0.100000   \n",
      "25%         0.000000                 4.000000                    0.300000   \n",
      "50%         1.000000                 6.000000                    0.500000   \n",
      "75%         2.000000                 7.000000                    0.900000   \n",
      "max         6.000000                 9.000000                   13.600000   \n",
      "\n",
      "       Middle School Score  Middle School Distance  High School Score  \\\n",
      "count         25752.000000            25753.000000       34897.000000   \n",
      "mean              5.306928                1.490494           6.146288   \n",
      "std               1.919611                1.541802           1.931233   \n",
      "min               2.000000                0.100000           2.000000   \n",
      "25%               4.000000                0.600000           5.000000   \n",
      "50%               5.000000                1.000000           6.000000   \n",
      "75%               7.000000                1.700000           8.000000   \n",
      "max               9.000000               10.600000          10.000000   \n",
      "\n",
      "       High School Distance  Tax assessed value  Annual tax amount  \\\n",
      "count          35081.000000        3.656100e+04       36120.000000   \n",
      "mean               2.023477        6.727622e+05        8596.717774   \n",
      "std                2.270765        5.369956e+05        6502.226622   \n",
      "min                0.100000        2.922900e+04         524.000000   \n",
      "25%                0.800000        2.684160e+05        3638.000000   \n",
      "50%                1.300000        5.521630e+05        7182.000000   \n",
      "75%                2.300000        9.057900e+05       11579.500000   \n",
      "max               19.200000        3.483100e+06       39722.000000   \n",
      "\n",
      "       Listed Price  Last Sold Price           Zip  \n",
      "count  3.922400e+04     2.497900e+04  39224.000000  \n",
      "mean   1.124885e+06     7.017753e+05  93348.631527  \n",
      "std    7.419101e+05     4.787622e+05   2178.565636  \n",
      "min    1.200000e+05     1.675000e+04  85646.000000  \n",
      "25%    5.990000e+05     3.517500e+05  90230.000000  \n",
      "50%    9.498880e+05     6.000000e+05  94116.000000  \n",
      "75%    1.438000e+06     9.052500e+05  95076.000000  \n",
      "max    4.995000e+06     2.695000e+06  96106.000000  \n"
     ]
    }
   ],
   "source": [
    "print(train_data.describe())"
   ],
   "metadata": {
    "collapsed": false
   }
  },
  {
   "cell_type": "code",
   "execution_count": 93,
   "outputs": [
    {
     "name": "stdout",
     "output_type": "stream",
     "text": [
      "18\n",
      "['Year built', 'Bathrooms', 'Full bathrooms', 'Total interior livable area', 'Elementary School Score', 'Elementary School Distance', 'Middle School Score', 'High School Score', 'High School Distance', 'Tax assessed value', 'Annual tax amount', 'Listed Price', 'Last Sold Price', 'Lot', 'Total spaces', 'Garage spaces', 'Middle School Distance', 'Zip']\n"
     ]
    }
   ],
   "source": [
    "# 计算相关系数，选择高相关性的特征\n",
    "cols_corr = train_data[numeric_cols].corr()\n",
    "numeric_cols = []\n",
    "target_cols = collections.deque(['Sold Price'])\n",
    "while target_cols:\n",
    "    target_col = target_cols.popleft()\n",
    "    for col, corr in cols_corr[target_col].items():\n",
    "        if abs(corr) > 0.1 and col not in numeric_cols:\n",
    "            numeric_cols.append(col)\n",
    "            target_cols.append(col)\n",
    "numeric_cols.remove('Sold Price')\n",
    "print(len(numeric_cols))\n",
    "print(numeric_cols)"
   ],
   "metadata": {
    "collapsed": false
   }
  },
  {
   "cell_type": "code",
   "execution_count": 95,
   "outputs": [],
   "source": [
    "# 处理非数值特征\n",
    "# string_cols = ['Type', 'Heating', 'Cooling', 'Region', 'City', 'Flooring']\n",
    "string_cols = ['Type']\n",
    "selected_cols = numeric_cols + string_cols\n",
    "all_features = pd.concat((train_data[selected_cols], test_data[selected_cols]))\n",
    "\n",
    "# 特征编码\n",
    "all_features = pd.get_dummies(all_features, dummy_na=True, columns=string_cols)"
   ],
   "metadata": {
    "collapsed": false
   }
  },
  {
   "cell_type": "code",
   "execution_count": 96,
   "outputs": [],
   "source": [
    "# 对各个特征进行标准化、缺失填充\n",
    "all_features[numeric_cols] = all_features[numeric_cols].apply(\n",
    "    lambda x: ((x - x.mean()) / x.std())\n",
    ")\n",
    "all_features = all_features.fillna(0)"
   ],
   "metadata": {
    "collapsed": false
   }
  },
  {
   "cell_type": "code",
   "execution_count": 97,
   "outputs": [],
   "source": [
    "# 处理为迭代对象\n",
    "batch_size = 32\n",
    "all_features = torch.tensor(all_features.values, dtype=torch.float32)\n",
    "all_labels = torch.tensor(train_data['Sold Price'].values.reshape((-1, 1)), dtype=torch.float32)\n",
    "# train_num = int(train_data.shape[0] * 0.9)\n",
    "# train_set = data.TensorDataset(all_features[:train_num], all_labels[:train_num])\n",
    "# val_set = data.TensorDataset(all_features[train_num: len(train_data)], all_labels[train_num:])\n",
    "test_set = data.TensorDataset(all_features[len(train_data):])\n",
    "# train_iter = data.DataLoader(train_set, batch_size, shuffle=True)\n",
    "# val_iter = data.DataLoader(val_set, batch_size, shuffle=False)\n",
    "test_iter = data.DataLoader(test_set, batch_size, shuffle=False)\n",
    "train_val_data = (all_features[:len(train_data)], all_labels)"
   ],
   "metadata": {
    "collapsed": false
   }
  },
  {
   "cell_type": "code",
   "execution_count": 98,
   "outputs": [],
   "source": [
    "# k折交叉验证\n",
    "def get_k_fold_data(data_set, k, i):\n",
    "    assert k > 1\n",
    "    num_samples = len(data_set[0])\n",
    "    fold_size = num_samples // k\n",
    "    features, labels = data_set\n",
    "    X_train, y_train = None, None\n",
    "    for j in range(k):\n",
    "        idx = slice(j * fold_size, min((j + 1) * fold_size, num_samples - 1))\n",
    "        X_part, y_part = features[idx], labels[idx]\n",
    "        if j == i:\n",
    "            X_val, y_val = X_part, y_part\n",
    "        elif X_train is None:\n",
    "            X_train, y_train = X_part, y_part\n",
    "        else:\n",
    "            X_train = torch.cat([X_train, X_part], 0)\n",
    "            y_train = torch.cat([y_train, y_part], 0)\n",
    "    return X_train, y_train, X_val, y_val"
   ],
   "metadata": {
    "collapsed": false
   }
  },
  {
   "cell_type": "markdown",
   "source": [
    "# 三、模型定义"
   ],
   "metadata": {
    "collapsed": false
   }
  },
  {
   "cell_type": "code",
   "execution_count": 99,
   "outputs": [],
   "source": [
    "class Model(nn.Module):\n",
    "    def __init__(self, in_features, out_features, dropout=0):\n",
    "        super(Model, self).__init__()\n",
    "        self.linear1 = nn.Sequential(\n",
    "            nn.Linear(in_features, 128),\n",
    "            nn.BatchNorm1d(128),\n",
    "            nn.ReLU()\n",
    "        )\n",
    "        self.linear2 = nn.Sequential(\n",
    "            nn.Linear(128, 64),\n",
    "            nn.BatchNorm1d(64),\n",
    "            nn.ReLU()\n",
    "        )\n",
    "        self.linear3 = nn.Sequential(\n",
    "            nn.Linear(64, 32),\n",
    "            nn.BatchNorm1d(32),\n",
    "            nn.ReLU()\n",
    "        )\n",
    "        self.linear4 = nn.Sequential(\n",
    "            nn.Linear(32, 1),\n",
    "        )\n",
    "    def forward(self, X):\n",
    "        X = self.linear1(X)\n",
    "        X = self.linear2(X)\n",
    "        X = self.linear3(X)\n",
    "        y = self.linear4(X)\n",
    "        return y"
   ],
   "metadata": {
    "collapsed": false
   }
  },
  {
   "cell_type": "code",
   "execution_count": 100,
   "outputs": [],
   "source": [
    "class LogRmse:\n",
    "    def __init__(self):\n",
    "        self.loss_fn = nn.MSELoss()\n",
    "\n",
    "    def __call__(self, y_hat, y):\n",
    "        y_hat = torch.clamp(y_hat, 1, float('inf'))\n",
    "        loss = torch.sqrt(self.loss_fn(torch.log(y_hat), torch.log(y)))\n",
    "        return loss"
   ],
   "metadata": {
    "collapsed": false
   }
  },
  {
   "cell_type": "markdown",
   "source": [
    "# 四、模型训练"
   ],
   "metadata": {
    "collapsed": false
   }
  },
  {
   "cell_type": "code",
   "execution_count": 101,
   "outputs": [],
   "source": [
    "def train(model, train_iter, val_iter, loss_fn, optimizer, num_epochs):\n",
    "    animator = d2l.Animator(xlabel='epoch', ylabel='loss', xlim=[1, num_epochs],\n",
    "                            ylim=[0, 0.3], legend=['train_loss', 'val_loss'])\n",
    "    metrics = d2l.Accumulator(4)\n",
    "    for epoch in range(num_epochs):\n",
    "        metrics.reset()\n",
    "        model.train()\n",
    "        for X, y in train_iter:\n",
    "            y_hat = model(X)\n",
    "            loss = loss_fn(y_hat, y)\n",
    "            optimizer.zero_grad()\n",
    "            loss.backward()\n",
    "            optimizer.step()\n",
    "            metrics.add(loss, 1, 0, 0)\n",
    "        model.eval()\n",
    "        for X, y in val_iter:\n",
    "            y_hat = model(X)\n",
    "            loss = loss_fn(y_hat, y)\n",
    "            metrics.add(0, 0, loss, 1)\n",
    "        animator.add(epoch + 1, (metrics[0] / metrics[1], metrics[2] / metrics[3]))\n",
    "    print(f'log_rmse train loss: {metrics[0] / metrics[1]}')\n",
    "    print(f'log_rmse val loss: {metrics[2] / metrics[3]}')\n",
    "    return metrics[0] / metrics[1], metrics[2] / metrics[3]"
   ],
   "metadata": {
    "collapsed": false
   }
  },
  {
   "cell_type": "code",
   "execution_count": 102,
   "outputs": [],
   "source": [
    "def train_k_fold(train_val_data, num_epochs, num_folds, lr, in_features,\n",
    "                 out_features, dropout):\n",
    "    models = []\n",
    "    val_losses = []\n",
    "    for i in range(num_folds):\n",
    "        print(f'Training the {i}th fold.')\n",
    "        train_features, train_labels, val_features, val_labels = \\\n",
    "            get_k_fold_data(train_val_data, num_folds, i)\n",
    "        train_set = data.TensorDataset(train_features, train_labels)\n",
    "        val_set = data.TensorDataset(val_features, val_labels)\n",
    "        train_iter = data.DataLoader(train_set, batch_size, shuffle=True)\n",
    "        val_iter = data.DataLoader(val_set, batch_size, shuffle=False)\n",
    "\n",
    "        model = Model(in_features, out_features, dropout)\n",
    "        loss_fn = LogRmse()\n",
    "        optimizer = torch.optim.Adam(model.parameters(), lr)\n",
    "        train_loss, val_loss = train(model, train_iter, val_iter, loss_fn,\n",
    "                                     optimizer, num_epochs)\n",
    "        models.append(model)\n",
    "        val_losses.append(val_loss)\n",
    "    print(f'best val loss: {min(val_losses)}')\n",
    "    return models, val_losses"
   ],
   "metadata": {
    "collapsed": false
   }
  },
  {
   "cell_type": "code",
   "execution_count": 105,
   "outputs": [
    {
     "name": "stdout",
     "output_type": "stream",
     "text": [
      "log_rmse train loss: 0.18891873108628005\n",
      "log_rmse val loss: 0.2233879132505737\n",
      "best val loss: 0.17762267419686148\n"
     ]
    },
    {
     "data": {
      "text/plain": "<Figure size 350x250 with 1 Axes>",
      "image/svg+xml": "<?xml version=\"1.0\" encoding=\"utf-8\" standalone=\"no\"?>\n<!DOCTYPE svg PUBLIC \"-//W3C//DTD SVG 1.1//EN\"\n  \"http://www.w3.org/Graphics/SVG/1.1/DTD/svg11.dtd\">\n<svg xmlns:xlink=\"http://www.w3.org/1999/xlink\" width=\"254.867188pt\" height=\"185.869531pt\" viewBox=\"0 0 254.867188 185.869531\" xmlns=\"http://www.w3.org/2000/svg\" version=\"1.1\">\n <metadata>\n  <rdf:RDF xmlns:dc=\"http://purl.org/dc/elements/1.1/\" xmlns:cc=\"http://creativecommons.org/ns#\" xmlns:rdf=\"http://www.w3.org/1999/02/22-rdf-syntax-ns#\">\n   <cc:Work>\n    <dc:type rdf:resource=\"http://purl.org/dc/dcmitype/StillImage\"/>\n    <dc:date>2023-04-09T17:43:01.507678</dc:date>\n    <dc:format>image/svg+xml</dc:format>\n    <dc:creator>\n     <cc:Agent>\n      <dc:title>Matplotlib v3.5.1, https://matplotlib.org/</dc:title>\n     </cc:Agent>\n    </dc:creator>\n   </cc:Work>\n  </rdf:RDF>\n </metadata>\n <defs>\n  <style type=\"text/css\">*{stroke-linejoin: round; stroke-linecap: butt}</style>\n </defs>\n <g id=\"figure_1\">\n  <g id=\"patch_1\">\n   <path d=\"M 0 185.869531 \nL 254.867188 185.869531 \nL 254.867188 0 \nL 0 0 \nz\n\" style=\"fill: #ffffff\"/>\n  </g>\n  <g id=\"axes_1\">\n   <g id=\"patch_2\">\n    <path d=\"M 46.80625 149.378906 \nL 242.10625 149.378906 \nL 242.10625 10.778906 \nL 46.80625 10.778906 \nz\n\" style=\"fill: #eaeaf2\"/>\n   </g>\n   <g id=\"matplotlib.axis_1\">\n    <g id=\"xtick_1\">\n     <g id=\"text_1\">\n      <!-- 10 -->\n      <g style=\"fill: #262626\" transform=\"translate(86.314543 163.536719)scale(0.1 -0.1)\">\n       <defs>\n        <path id=\"ArialMT-31\" d=\"M 2384 0 \nL 1822 0 \nL 1822 3584 \nQ 1619 3391 1289 3197 \nQ 959 3003 697 2906 \nL 697 3450 \nQ 1169 3672 1522 3987 \nQ 1875 4303 2022 4600 \nL 2384 4600 \nL 2384 0 \nz\n\" transform=\"scale(0.015625)\"/>\n        <path id=\"ArialMT-30\" d=\"M 266 2259 \nQ 266 3072 433 3567 \nQ 600 4063 929 4331 \nQ 1259 4600 1759 4600 \nQ 2128 4600 2406 4451 \nQ 2684 4303 2865 4023 \nQ 3047 3744 3150 3342 \nQ 3253 2941 3253 2259 \nQ 3253 1453 3087 958 \nQ 2922 463 2592 192 \nQ 2263 -78 1759 -78 \nQ 1097 -78 719 397 \nQ 266 969 266 2259 \nz\nM 844 2259 \nQ 844 1131 1108 757 \nQ 1372 384 1759 384 \nQ 2147 384 2411 759 \nQ 2675 1134 2675 2259 \nQ 2675 3391 2411 3762 \nQ 2147 4134 1753 4134 \nQ 1366 4134 1134 3806 \nQ 844 3388 844 2259 \nz\n\" transform=\"scale(0.015625)\"/>\n       </defs>\n       <use xlink:href=\"#ArialMT-31\"/>\n       <use xlink:href=\"#ArialMT-30\" x=\"55.615234\"/>\n      </g>\n     </g>\n    </g>\n    <g id=\"xtick_2\">\n     <g id=\"text_2\">\n      <!-- 20 -->\n      <g style=\"fill: #262626\" transform=\"translate(136.391466 163.536719)scale(0.1 -0.1)\">\n       <defs>\n        <path id=\"ArialMT-32\" d=\"M 3222 541 \nL 3222 0 \nL 194 0 \nQ 188 203 259 391 \nQ 375 700 629 1000 \nQ 884 1300 1366 1694 \nQ 2113 2306 2375 2664 \nQ 2638 3022 2638 3341 \nQ 2638 3675 2398 3904 \nQ 2159 4134 1775 4134 \nQ 1369 4134 1125 3890 \nQ 881 3647 878 3216 \nL 300 3275 \nQ 359 3922 746 4261 \nQ 1134 4600 1788 4600 \nQ 2447 4600 2831 4234 \nQ 3216 3869 3216 3328 \nQ 3216 3053 3103 2787 \nQ 2991 2522 2730 2228 \nQ 2469 1934 1863 1422 \nQ 1356 997 1212 845 \nQ 1069 694 975 541 \nL 3222 541 \nz\n\" transform=\"scale(0.015625)\"/>\n       </defs>\n       <use xlink:href=\"#ArialMT-32\"/>\n       <use xlink:href=\"#ArialMT-30\" x=\"55.615234\"/>\n      </g>\n     </g>\n    </g>\n    <g id=\"xtick_3\">\n     <g id=\"text_3\">\n      <!-- 30 -->\n      <g style=\"fill: #262626\" transform=\"translate(186.468389 163.536719)scale(0.1 -0.1)\">\n       <defs>\n        <path id=\"ArialMT-33\" d=\"M 269 1209 \nL 831 1284 \nQ 928 806 1161 595 \nQ 1394 384 1728 384 \nQ 2125 384 2398 659 \nQ 2672 934 2672 1341 \nQ 2672 1728 2419 1979 \nQ 2166 2231 1775 2231 \nQ 1616 2231 1378 2169 \nL 1441 2663 \nQ 1497 2656 1531 2656 \nQ 1891 2656 2178 2843 \nQ 2466 3031 2466 3422 \nQ 2466 3731 2256 3934 \nQ 2047 4138 1716 4138 \nQ 1388 4138 1169 3931 \nQ 950 3725 888 3313 \nL 325 3413 \nQ 428 3978 793 4289 \nQ 1159 4600 1703 4600 \nQ 2078 4600 2393 4439 \nQ 2709 4278 2876 4000 \nQ 3044 3722 3044 3409 \nQ 3044 3113 2884 2869 \nQ 2725 2625 2413 2481 \nQ 2819 2388 3044 2092 \nQ 3269 1797 3269 1353 \nQ 3269 753 2831 336 \nQ 2394 -81 1725 -81 \nQ 1122 -81 723 278 \nQ 325 638 269 1209 \nz\n\" transform=\"scale(0.015625)\"/>\n       </defs>\n       <use xlink:href=\"#ArialMT-33\"/>\n       <use xlink:href=\"#ArialMT-30\" x=\"55.615234\"/>\n      </g>\n     </g>\n    </g>\n    <g id=\"xtick_4\">\n     <g id=\"text_4\">\n      <!-- 40 -->\n      <g style=\"fill: #262626\" transform=\"translate(236.545312 163.536719)scale(0.1 -0.1)\">\n       <defs>\n        <path id=\"ArialMT-34\" d=\"M 2069 0 \nL 2069 1097 \nL 81 1097 \nL 81 1613 \nL 2172 4581 \nL 2631 4581 \nL 2631 1613 \nL 3250 1613 \nL 3250 1097 \nL 2631 1097 \nL 2631 0 \nL 2069 0 \nz\nM 2069 1613 \nL 2069 3678 \nL 634 1613 \nL 2069 1613 \nz\n\" transform=\"scale(0.015625)\"/>\n       </defs>\n       <use xlink:href=\"#ArialMT-34\"/>\n       <use xlink:href=\"#ArialMT-30\" x=\"55.615234\"/>\n      </g>\n     </g>\n    </g>\n    <g id=\"text_5\">\n     <!-- epoch -->\n     <g style=\"fill: #262626\" transform=\"translate(130.834375 176.682031)scale(0.1 -0.1)\">\n      <defs>\n       <path id=\"ArialMT-65\" d=\"M 2694 1069 \nL 3275 997 \nQ 3138 488 2766 206 \nQ 2394 -75 1816 -75 \nQ 1088 -75 661 373 \nQ 234 822 234 1631 \nQ 234 2469 665 2931 \nQ 1097 3394 1784 3394 \nQ 2450 3394 2872 2941 \nQ 3294 2488 3294 1666 \nQ 3294 1616 3291 1516 \nL 816 1516 \nQ 847 969 1125 678 \nQ 1403 388 1819 388 \nQ 2128 388 2347 550 \nQ 2566 713 2694 1069 \nz\nM 847 1978 \nL 2700 1978 \nQ 2663 2397 2488 2606 \nQ 2219 2931 1791 2931 \nQ 1403 2931 1139 2672 \nQ 875 2413 847 1978 \nz\n\" transform=\"scale(0.015625)\"/>\n       <path id=\"ArialMT-70\" d=\"M 422 -1272 \nL 422 3319 \nL 934 3319 \nL 934 2888 \nQ 1116 3141 1344 3267 \nQ 1572 3394 1897 3394 \nQ 2322 3394 2647 3175 \nQ 2972 2956 3137 2557 \nQ 3303 2159 3303 1684 \nQ 3303 1175 3120 767 \nQ 2938 359 2589 142 \nQ 2241 -75 1856 -75 \nQ 1575 -75 1351 44 \nQ 1128 163 984 344 \nL 984 -1272 \nL 422 -1272 \nz\nM 931 1641 \nQ 931 1000 1190 694 \nQ 1450 388 1819 388 \nQ 2194 388 2461 705 \nQ 2728 1022 2728 1688 \nQ 2728 2322 2467 2637 \nQ 2206 2953 1844 2953 \nQ 1484 2953 1207 2617 \nQ 931 2281 931 1641 \nz\n\" transform=\"scale(0.015625)\"/>\n       <path id=\"ArialMT-6f\" d=\"M 213 1659 \nQ 213 2581 725 3025 \nQ 1153 3394 1769 3394 \nQ 2453 3394 2887 2945 \nQ 3322 2497 3322 1706 \nQ 3322 1066 3130 698 \nQ 2938 331 2570 128 \nQ 2203 -75 1769 -75 \nQ 1072 -75 642 372 \nQ 213 819 213 1659 \nz\nM 791 1659 \nQ 791 1022 1069 705 \nQ 1347 388 1769 388 \nQ 2188 388 2466 706 \nQ 2744 1025 2744 1678 \nQ 2744 2294 2464 2611 \nQ 2184 2928 1769 2928 \nQ 1347 2928 1069 2612 \nQ 791 2297 791 1659 \nz\n\" transform=\"scale(0.015625)\"/>\n       <path id=\"ArialMT-63\" d=\"M 2588 1216 \nL 3141 1144 \nQ 3050 572 2676 248 \nQ 2303 -75 1759 -75 \nQ 1078 -75 664 370 \nQ 250 816 250 1647 \nQ 250 2184 428 2587 \nQ 606 2991 970 3192 \nQ 1334 3394 1763 3394 \nQ 2303 3394 2647 3120 \nQ 2991 2847 3088 2344 \nL 2541 2259 \nQ 2463 2594 2264 2762 \nQ 2066 2931 1784 2931 \nQ 1359 2931 1093 2626 \nQ 828 2322 828 1663 \nQ 828 994 1084 691 \nQ 1341 388 1753 388 \nQ 2084 388 2306 591 \nQ 2528 794 2588 1216 \nz\n\" transform=\"scale(0.015625)\"/>\n       <path id=\"ArialMT-68\" d=\"M 422 0 \nL 422 4581 \nL 984 4581 \nL 984 2938 \nQ 1378 3394 1978 3394 \nQ 2347 3394 2619 3248 \nQ 2891 3103 3008 2847 \nQ 3125 2591 3125 2103 \nL 3125 0 \nL 2563 0 \nL 2563 2103 \nQ 2563 2525 2380 2717 \nQ 2197 2909 1863 2909 \nQ 1613 2909 1392 2779 \nQ 1172 2650 1078 2428 \nQ 984 2206 984 1816 \nL 984 0 \nL 422 0 \nz\n\" transform=\"scale(0.015625)\"/>\n      </defs>\n      <use xlink:href=\"#ArialMT-65\"/>\n      <use xlink:href=\"#ArialMT-70\" x=\"55.615234\"/>\n      <use xlink:href=\"#ArialMT-6f\" x=\"111.230469\"/>\n      <use xlink:href=\"#ArialMT-63\" x=\"166.845703\"/>\n      <use xlink:href=\"#ArialMT-68\" x=\"216.845703\"/>\n     </g>\n    </g>\n   </g>\n   <g id=\"matplotlib.axis_2\">\n    <g id=\"ytick_1\">\n     <g id=\"text_6\">\n      <!-- 0.00 -->\n      <g style=\"fill: #262626\" transform=\"translate(20.345312 152.957813)scale(0.1 -0.1)\">\n       <defs>\n        <path id=\"ArialMT-2e\" d=\"M 581 0 \nL 581 641 \nL 1222 641 \nL 1222 0 \nL 581 0 \nz\n\" transform=\"scale(0.015625)\"/>\n       </defs>\n       <use xlink:href=\"#ArialMT-30\"/>\n       <use xlink:href=\"#ArialMT-2e\" x=\"55.615234\"/>\n       <use xlink:href=\"#ArialMT-30\" x=\"83.398438\"/>\n       <use xlink:href=\"#ArialMT-30\" x=\"139.013672\"/>\n      </g>\n     </g>\n    </g>\n    <g id=\"ytick_2\">\n     <g id=\"text_7\">\n      <!-- 0.05 -->\n      <g style=\"fill: #262626\" transform=\"translate(20.345312 129.857813)scale(0.1 -0.1)\">\n       <defs>\n        <path id=\"ArialMT-35\" d=\"M 266 1200 \nL 856 1250 \nQ 922 819 1161 601 \nQ 1400 384 1738 384 \nQ 2144 384 2425 690 \nQ 2706 997 2706 1503 \nQ 2706 1984 2436 2262 \nQ 2166 2541 1728 2541 \nQ 1456 2541 1237 2417 \nQ 1019 2294 894 2097 \nL 366 2166 \nL 809 4519 \nL 3088 4519 \nL 3088 3981 \nL 1259 3981 \nL 1013 2750 \nQ 1425 3038 1878 3038 \nQ 2478 3038 2890 2622 \nQ 3303 2206 3303 1553 \nQ 3303 931 2941 478 \nQ 2500 -78 1738 -78 \nQ 1113 -78 717 272 \nQ 322 622 266 1200 \nz\n\" transform=\"scale(0.015625)\"/>\n       </defs>\n       <use xlink:href=\"#ArialMT-30\"/>\n       <use xlink:href=\"#ArialMT-2e\" x=\"55.615234\"/>\n       <use xlink:href=\"#ArialMT-30\" x=\"83.398438\"/>\n       <use xlink:href=\"#ArialMT-35\" x=\"139.013672\"/>\n      </g>\n     </g>\n    </g>\n    <g id=\"ytick_3\">\n     <g id=\"text_8\">\n      <!-- 0.10 -->\n      <g style=\"fill: #262626\" transform=\"translate(20.345312 106.757813)scale(0.1 -0.1)\">\n       <use xlink:href=\"#ArialMT-30\"/>\n       <use xlink:href=\"#ArialMT-2e\" x=\"55.615234\"/>\n       <use xlink:href=\"#ArialMT-31\" x=\"83.398438\"/>\n       <use xlink:href=\"#ArialMT-30\" x=\"139.013672\"/>\n      </g>\n     </g>\n    </g>\n    <g id=\"ytick_4\">\n     <g id=\"text_9\">\n      <!-- 0.15 -->\n      <g style=\"fill: #262626\" transform=\"translate(20.345312 83.657812)scale(0.1 -0.1)\">\n       <use xlink:href=\"#ArialMT-30\"/>\n       <use xlink:href=\"#ArialMT-2e\" x=\"55.615234\"/>\n       <use xlink:href=\"#ArialMT-31\" x=\"83.398438\"/>\n       <use xlink:href=\"#ArialMT-35\" x=\"139.013672\"/>\n      </g>\n     </g>\n    </g>\n    <g id=\"ytick_5\">\n     <g id=\"text_10\">\n      <!-- 0.20 -->\n      <g style=\"fill: #262626\" transform=\"translate(20.345312 60.557812)scale(0.1 -0.1)\">\n       <use xlink:href=\"#ArialMT-30\"/>\n       <use xlink:href=\"#ArialMT-2e\" x=\"55.615234\"/>\n       <use xlink:href=\"#ArialMT-32\" x=\"83.398438\"/>\n       <use xlink:href=\"#ArialMT-30\" x=\"139.013672\"/>\n      </g>\n     </g>\n    </g>\n    <g id=\"ytick_6\">\n     <g id=\"text_11\">\n      <!-- 0.25 -->\n      <g style=\"fill: #262626\" transform=\"translate(20.345312 37.457812)scale(0.1 -0.1)\">\n       <use xlink:href=\"#ArialMT-30\"/>\n       <use xlink:href=\"#ArialMT-2e\" x=\"55.615234\"/>\n       <use xlink:href=\"#ArialMT-32\" x=\"83.398438\"/>\n       <use xlink:href=\"#ArialMT-35\" x=\"139.013672\"/>\n      </g>\n     </g>\n    </g>\n    <g id=\"ytick_7\">\n     <g id=\"text_12\">\n      <!-- 0.30 -->\n      <g style=\"fill: #262626\" transform=\"translate(20.345312 14.357812)scale(0.1 -0.1)\">\n       <use xlink:href=\"#ArialMT-30\"/>\n       <use xlink:href=\"#ArialMT-2e\" x=\"55.615234\"/>\n       <use xlink:href=\"#ArialMT-33\" x=\"83.398438\"/>\n       <use xlink:href=\"#ArialMT-30\" x=\"139.013672\"/>\n      </g>\n     </g>\n    </g>\n    <g id=\"text_13\">\n     <!-- loss -->\n     <g style=\"fill: #262626\" transform=\"translate(14.357812 88.970313)rotate(-90)scale(0.1 -0.1)\">\n      <defs>\n       <path id=\"ArialMT-6c\" d=\"M 409 0 \nL 409 4581 \nL 972 4581 \nL 972 0 \nL 409 0 \nz\n\" transform=\"scale(0.015625)\"/>\n       <path id=\"ArialMT-73\" d=\"M 197 991 \nL 753 1078 \nQ 800 744 1014 566 \nQ 1228 388 1613 388 \nQ 2000 388 2187 545 \nQ 2375 703 2375 916 \nQ 2375 1106 2209 1216 \nQ 2094 1291 1634 1406 \nQ 1016 1563 777 1677 \nQ 538 1791 414 1992 \nQ 291 2194 291 2438 \nQ 291 2659 392 2848 \nQ 494 3038 669 3163 \nQ 800 3259 1026 3326 \nQ 1253 3394 1513 3394 \nQ 1903 3394 2198 3281 \nQ 2494 3169 2634 2976 \nQ 2775 2784 2828 2463 \nL 2278 2388 \nQ 2241 2644 2061 2787 \nQ 1881 2931 1553 2931 \nQ 1166 2931 1000 2803 \nQ 834 2675 834 2503 \nQ 834 2394 903 2306 \nQ 972 2216 1119 2156 \nQ 1203 2125 1616 2013 \nQ 2213 1853 2448 1751 \nQ 2684 1650 2818 1456 \nQ 2953 1263 2953 975 \nQ 2953 694 2789 445 \nQ 2625 197 2315 61 \nQ 2006 -75 1616 -75 \nQ 969 -75 630 194 \nQ 291 463 197 991 \nz\n\" transform=\"scale(0.015625)\"/>\n      </defs>\n      <use xlink:href=\"#ArialMT-6c\"/>\n      <use xlink:href=\"#ArialMT-6f\" x=\"22.216797\"/>\n      <use xlink:href=\"#ArialMT-73\" x=\"77.832031\"/>\n      <use xlink:href=\"#ArialMT-73\" x=\"127.832031\"/>\n     </g>\n    </g>\n   </g>\n   <g id=\"line2d_1\">\n    <path d=\"M 51.283086 -1 \nL 51.813942 41.789672 \nL 56.821635 45.268283 \nL 61.829327 45.675223 \nL 66.837019 46.283483 \nL 71.844712 48.585211 \nL 76.852404 48.643833 \nL 81.860096 50.061524 \nL 86.867788 50.172464 \nL 91.875481 52.214792 \nL 96.883173 51.236739 \nL 101.890865 52.163143 \nL 106.898558 51.253923 \nL 111.90625 51.86003 \nL 116.913942 53.358169 \nL 121.921635 53.680296 \nL 126.929327 52.971869 \nL 131.937019 53.252989 \nL 136.944712 53.950913 \nL 141.952404 53.765431 \nL 146.960096 52.320621 \nL 151.967788 54.387184 \nL 156.975481 53.305135 \nL 161.983173 54.105427 \nL 166.990865 51.660596 \nL 171.998558 52.712368 \nL 177.00625 54.024876 \nL 182.013942 54.171765 \nL 187.021635 54.57405 \nL 192.029327 53.570962 \nL 197.037019 54.354369 \nL 202.044712 55.25724 \nL 207.052404 54.009786 \nL 212.060096 55.914139 \nL 217.067788 56.271507 \nL 222.075481 55.178849 \nL 227.083173 56.782844 \nL 232.090865 56.762987 \nL 237.098558 55.52891 \nL 242.10625 56.324861 \n\" clip-path=\"url(#pd523fb42ce)\" style=\"fill: none; stroke: #1f77b4; stroke-width: 1.5; stroke-linecap: round\"/>\n   </g>\n   <g id=\"line2d_2\">\n    <path d=\"M 46.80625 54.537718 \nL 51.813942 62.014184 \nL 56.821635 53.058149 \nL 61.829327 64.423413 \nL 66.837019 56.271646 \nL 71.844712 54.731009 \nL 76.852404 60.031833 \nL 81.860096 64.748177 \nL 86.867788 60.492417 \nL 91.875481 60.853922 \nL 96.883173 56.219592 \nL 101.890865 64.688077 \nL 106.898558 61.692846 \nL 111.90625 67.130077 \nL 116.913942 59.884241 \nL 121.921635 58.342 \nL 126.929327 56.003876 \nL 131.937019 55.133455 \nL 136.944712 66.040209 \nL 141.952404 65.740229 \nL 146.960096 52.872893 \nL 151.967788 60.239526 \nL 156.975481 64.089224 \nL 161.983173 63.475271 \nL 166.990865 53.487631 \nL 171.998558 62.85467 \nL 177.00625 61.912666 \nL 182.013942 63.000641 \nL 187.021635 57.649893 \nL 192.029327 57.770278 \nL 197.037019 64.267123 \nL 202.044712 60.095269 \nL 207.052404 65.320605 \nL 212.060096 62.926705 \nL 217.067788 64.538891 \nL 222.075481 52.206724 \nL 227.083173 60.016957 \nL 232.090865 50.843304 \nL 237.098558 63.824445 \nL 242.10625 63.778268 \n\" clip-path=\"url(#pd523fb42ce)\" style=\"fill: none; stroke-dasharray: 5.55,2.4; stroke-dashoffset: 0; stroke: #bf00bf; stroke-width: 1.5\"/>\n   </g>\n   <g id=\"patch_3\">\n    <path d=\"M 46.80625 149.378906 \nL 46.80625 10.778906 \n\" style=\"fill: none; stroke: #ffffff; stroke-width: 0.8; stroke-linejoin: miter; stroke-linecap: square\"/>\n   </g>\n   <g id=\"patch_4\">\n    <path d=\"M 242.10625 149.378906 \nL 242.10625 10.778906 \n\" style=\"fill: none; stroke: #ffffff; stroke-width: 0.8; stroke-linejoin: miter; stroke-linecap: square\"/>\n   </g>\n   <g id=\"patch_5\">\n    <path d=\"M 46.80625 149.378906 \nL 242.10625 149.378906 \n\" style=\"fill: none; stroke: #ffffff; stroke-width: 0.8; stroke-linejoin: miter; stroke-linecap: square\"/>\n   </g>\n   <g id=\"patch_6\">\n    <path d=\"M 46.80625 10.778906 \nL 242.10625 10.778906 \n\" style=\"fill: none; stroke: #ffffff; stroke-width: 0.8; stroke-linejoin: miter; stroke-linecap: square\"/>\n   </g>\n   <g id=\"legend_1\">\n    <g id=\"patch_7\">\n     <path d=\"M 160.310937 47.069531 \nL 235.10625 47.069531 \nQ 237.10625 47.069531 237.10625 45.069531 \nL 237.10625 17.778906 \nQ 237.10625 15.778906 235.10625 15.778906 \nL 160.310937 15.778906 \nQ 158.310937 15.778906 158.310937 17.778906 \nL 158.310937 45.069531 \nQ 158.310937 47.069531 160.310937 47.069531 \nz\n\" style=\"fill: #eaeaf2; opacity: 0.8; stroke: #cccccc; stroke-linejoin: miter\"/>\n    </g>\n    <g id=\"line2d_3\">\n     <path d=\"M 162.310937 23.436719 \nL 172.310937 23.436719 \nL 182.310937 23.436719 \n\" style=\"fill: none; stroke: #1f77b4; stroke-width: 1.5; stroke-linecap: round\"/>\n    </g>\n    <g id=\"text_14\">\n     <!-- train_loss -->\n     <g style=\"fill: #262626\" transform=\"translate(190.310937 26.936719)scale(0.1 -0.1)\">\n      <defs>\n       <path id=\"ArialMT-74\" d=\"M 1650 503 \nL 1731 6 \nQ 1494 -44 1306 -44 \nQ 1000 -44 831 53 \nQ 663 150 594 308 \nQ 525 466 525 972 \nL 525 2881 \nL 113 2881 \nL 113 3319 \nL 525 3319 \nL 525 4141 \nL 1084 4478 \nL 1084 3319 \nL 1650 3319 \nL 1650 2881 \nL 1084 2881 \nL 1084 941 \nQ 1084 700 1114 631 \nQ 1144 563 1211 522 \nQ 1278 481 1403 481 \nQ 1497 481 1650 503 \nz\n\" transform=\"scale(0.015625)\"/>\n       <path id=\"ArialMT-72\" d=\"M 416 0 \nL 416 3319 \nL 922 3319 \nL 922 2816 \nQ 1116 3169 1280 3281 \nQ 1444 3394 1641 3394 \nQ 1925 3394 2219 3213 \nL 2025 2691 \nQ 1819 2813 1613 2813 \nQ 1428 2813 1281 2702 \nQ 1134 2591 1072 2394 \nQ 978 2094 978 1738 \nL 978 0 \nL 416 0 \nz\n\" transform=\"scale(0.015625)\"/>\n       <path id=\"ArialMT-61\" d=\"M 2588 409 \nQ 2275 144 1986 34 \nQ 1697 -75 1366 -75 \nQ 819 -75 525 192 \nQ 231 459 231 875 \nQ 231 1119 342 1320 \nQ 453 1522 633 1644 \nQ 813 1766 1038 1828 \nQ 1203 1872 1538 1913 \nQ 2219 1994 2541 2106 \nQ 2544 2222 2544 2253 \nQ 2544 2597 2384 2738 \nQ 2169 2928 1744 2928 \nQ 1347 2928 1158 2789 \nQ 969 2650 878 2297 \nL 328 2372 \nQ 403 2725 575 2942 \nQ 747 3159 1072 3276 \nQ 1397 3394 1825 3394 \nQ 2250 3394 2515 3294 \nQ 2781 3194 2906 3042 \nQ 3031 2891 3081 2659 \nQ 3109 2516 3109 2141 \nL 3109 1391 \nQ 3109 606 3145 398 \nQ 3181 191 3288 0 \nL 2700 0 \nQ 2613 175 2588 409 \nz\nM 2541 1666 \nQ 2234 1541 1622 1453 \nQ 1275 1403 1131 1340 \nQ 988 1278 909 1158 \nQ 831 1038 831 891 \nQ 831 666 1001 516 \nQ 1172 366 1500 366 \nQ 1825 366 2078 508 \nQ 2331 650 2450 897 \nQ 2541 1088 2541 1459 \nL 2541 1666 \nz\n\" transform=\"scale(0.015625)\"/>\n       <path id=\"ArialMT-69\" d=\"M 425 3934 \nL 425 4581 \nL 988 4581 \nL 988 3934 \nL 425 3934 \nz\nM 425 0 \nL 425 3319 \nL 988 3319 \nL 988 0 \nL 425 0 \nz\n\" transform=\"scale(0.015625)\"/>\n       <path id=\"ArialMT-6e\" d=\"M 422 0 \nL 422 3319 \nL 928 3319 \nL 928 2847 \nQ 1294 3394 1984 3394 \nQ 2284 3394 2536 3286 \nQ 2788 3178 2913 3003 \nQ 3038 2828 3088 2588 \nQ 3119 2431 3119 2041 \nL 3119 0 \nL 2556 0 \nL 2556 2019 \nQ 2556 2363 2490 2533 \nQ 2425 2703 2258 2804 \nQ 2091 2906 1866 2906 \nQ 1506 2906 1245 2678 \nQ 984 2450 984 1813 \nL 984 0 \nL 422 0 \nz\n\" transform=\"scale(0.015625)\"/>\n       <path id=\"ArialMT-5f\" d=\"M -97 -1272 \nL -97 -866 \nL 3631 -866 \nL 3631 -1272 \nL -97 -1272 \nz\n\" transform=\"scale(0.015625)\"/>\n      </defs>\n      <use xlink:href=\"#ArialMT-74\"/>\n      <use xlink:href=\"#ArialMT-72\" x=\"27.783203\"/>\n      <use xlink:href=\"#ArialMT-61\" x=\"61.083984\"/>\n      <use xlink:href=\"#ArialMT-69\" x=\"116.699219\"/>\n      <use xlink:href=\"#ArialMT-6e\" x=\"138.916016\"/>\n      <use xlink:href=\"#ArialMT-5f\" x=\"194.53125\"/>\n      <use xlink:href=\"#ArialMT-6c\" x=\"250.146484\"/>\n      <use xlink:href=\"#ArialMT-6f\" x=\"272.363281\"/>\n      <use xlink:href=\"#ArialMT-73\" x=\"327.978516\"/>\n      <use xlink:href=\"#ArialMT-73\" x=\"377.978516\"/>\n     </g>\n    </g>\n    <g id=\"line2d_4\">\n     <path d=\"M 162.310937 37.582031 \nL 172.310937 37.582031 \nL 182.310937 37.582031 \n\" style=\"fill: none; stroke-dasharray: 5.55,2.4; stroke-dashoffset: 0; stroke: #bf00bf; stroke-width: 1.5\"/>\n    </g>\n    <g id=\"text_15\">\n     <!-- val_loss -->\n     <g style=\"fill: #262626\" transform=\"translate(190.310937 41.082031)scale(0.1 -0.1)\">\n      <defs>\n       <path id=\"ArialMT-76\" d=\"M 1344 0 \nL 81 3319 \nL 675 3319 \nL 1388 1331 \nQ 1503 1009 1600 663 \nQ 1675 925 1809 1294 \nL 2547 3319 \nL 3125 3319 \nL 1869 0 \nL 1344 0 \nz\n\" transform=\"scale(0.015625)\"/>\n      </defs>\n      <use xlink:href=\"#ArialMT-76\"/>\n      <use xlink:href=\"#ArialMT-61\" x=\"50\"/>\n      <use xlink:href=\"#ArialMT-6c\" x=\"105.615234\"/>\n      <use xlink:href=\"#ArialMT-5f\" x=\"127.832031\"/>\n      <use xlink:href=\"#ArialMT-6c\" x=\"183.447266\"/>\n      <use xlink:href=\"#ArialMT-6f\" x=\"205.664062\"/>\n      <use xlink:href=\"#ArialMT-73\" x=\"261.279297\"/>\n      <use xlink:href=\"#ArialMT-73\" x=\"311.279297\"/>\n     </g>\n    </g>\n   </g>\n  </g>\n </g>\n <defs>\n  <clipPath id=\"pd523fb42ce\">\n   <rect x=\"46.80625\" y=\"10.778906\" width=\"195.3\" height=\"138.6\"/>\n  </clipPath>\n </defs>\n</svg>\n"
     },
     "metadata": {},
     "output_type": "display_data"
    },
    {
     "data": {
      "text/plain": "<Figure size 350x250 with 1 Axes>",
      "image/svg+xml": "<?xml version=\"1.0\" encoding=\"utf-8\" standalone=\"no\"?>\n<!DOCTYPE svg PUBLIC \"-//W3C//DTD SVG 1.1//EN\"\n  \"http://www.w3.org/Graphics/SVG/1.1/DTD/svg11.dtd\">\n<svg xmlns:xlink=\"http://www.w3.org/1999/xlink\" width=\"254.867188pt\" height=\"185.869531pt\" viewBox=\"0 0 254.867188 185.869531\" xmlns=\"http://www.w3.org/2000/svg\" version=\"1.1\">\n <metadata>\n  <rdf:RDF xmlns:dc=\"http://purl.org/dc/elements/1.1/\" xmlns:cc=\"http://creativecommons.org/ns#\" xmlns:rdf=\"http://www.w3.org/1999/02/22-rdf-syntax-ns#\">\n   <cc:Work>\n    <dc:type rdf:resource=\"http://purl.org/dc/dcmitype/StillImage\"/>\n    <dc:date>2023-04-09T17:43:01.568675</dc:date>\n    <dc:format>image/svg+xml</dc:format>\n    <dc:creator>\n     <cc:Agent>\n      <dc:title>Matplotlib v3.5.1, https://matplotlib.org/</dc:title>\n     </cc:Agent>\n    </dc:creator>\n   </cc:Work>\n  </rdf:RDF>\n </metadata>\n <defs>\n  <style type=\"text/css\">*{stroke-linejoin: round; stroke-linecap: butt}</style>\n </defs>\n <g id=\"figure_1\">\n  <g id=\"patch_1\">\n   <path d=\"M 0 185.869531 \nL 254.867188 185.869531 \nL 254.867188 0 \nL 0 0 \nz\n\" style=\"fill: #ffffff\"/>\n  </g>\n  <g id=\"axes_1\">\n   <g id=\"patch_2\">\n    <path d=\"M 46.80625 149.378906 \nL 242.10625 149.378906 \nL 242.10625 10.778906 \nL 46.80625 10.778906 \nz\n\" style=\"fill: #eaeaf2\"/>\n   </g>\n   <g id=\"matplotlib.axis_1\">\n    <g id=\"xtick_1\">\n     <g id=\"text_1\">\n      <!-- 10 -->\n      <g style=\"fill: #262626\" transform=\"translate(86.314543 163.536719)scale(0.1 -0.1)\">\n       <defs>\n        <path id=\"ArialMT-31\" d=\"M 2384 0 \nL 1822 0 \nL 1822 3584 \nQ 1619 3391 1289 3197 \nQ 959 3003 697 2906 \nL 697 3450 \nQ 1169 3672 1522 3987 \nQ 1875 4303 2022 4600 \nL 2384 4600 \nL 2384 0 \nz\n\" transform=\"scale(0.015625)\"/>\n        <path id=\"ArialMT-30\" d=\"M 266 2259 \nQ 266 3072 433 3567 \nQ 600 4063 929 4331 \nQ 1259 4600 1759 4600 \nQ 2128 4600 2406 4451 \nQ 2684 4303 2865 4023 \nQ 3047 3744 3150 3342 \nQ 3253 2941 3253 2259 \nQ 3253 1453 3087 958 \nQ 2922 463 2592 192 \nQ 2263 -78 1759 -78 \nQ 1097 -78 719 397 \nQ 266 969 266 2259 \nz\nM 844 2259 \nQ 844 1131 1108 757 \nQ 1372 384 1759 384 \nQ 2147 384 2411 759 \nQ 2675 1134 2675 2259 \nQ 2675 3391 2411 3762 \nQ 2147 4134 1753 4134 \nQ 1366 4134 1134 3806 \nQ 844 3388 844 2259 \nz\n\" transform=\"scale(0.015625)\"/>\n       </defs>\n       <use xlink:href=\"#ArialMT-31\"/>\n       <use xlink:href=\"#ArialMT-30\" x=\"55.615234\"/>\n      </g>\n     </g>\n    </g>\n    <g id=\"xtick_2\">\n     <g id=\"text_2\">\n      <!-- 20 -->\n      <g style=\"fill: #262626\" transform=\"translate(136.391466 163.536719)scale(0.1 -0.1)\">\n       <defs>\n        <path id=\"ArialMT-32\" d=\"M 3222 541 \nL 3222 0 \nL 194 0 \nQ 188 203 259 391 \nQ 375 700 629 1000 \nQ 884 1300 1366 1694 \nQ 2113 2306 2375 2664 \nQ 2638 3022 2638 3341 \nQ 2638 3675 2398 3904 \nQ 2159 4134 1775 4134 \nQ 1369 4134 1125 3890 \nQ 881 3647 878 3216 \nL 300 3275 \nQ 359 3922 746 4261 \nQ 1134 4600 1788 4600 \nQ 2447 4600 2831 4234 \nQ 3216 3869 3216 3328 \nQ 3216 3053 3103 2787 \nQ 2991 2522 2730 2228 \nQ 2469 1934 1863 1422 \nQ 1356 997 1212 845 \nQ 1069 694 975 541 \nL 3222 541 \nz\n\" transform=\"scale(0.015625)\"/>\n       </defs>\n       <use xlink:href=\"#ArialMT-32\"/>\n       <use xlink:href=\"#ArialMT-30\" x=\"55.615234\"/>\n      </g>\n     </g>\n    </g>\n    <g id=\"xtick_3\">\n     <g id=\"text_3\">\n      <!-- 30 -->\n      <g style=\"fill: #262626\" transform=\"translate(186.468389 163.536719)scale(0.1 -0.1)\">\n       <defs>\n        <path id=\"ArialMT-33\" d=\"M 269 1209 \nL 831 1284 \nQ 928 806 1161 595 \nQ 1394 384 1728 384 \nQ 2125 384 2398 659 \nQ 2672 934 2672 1341 \nQ 2672 1728 2419 1979 \nQ 2166 2231 1775 2231 \nQ 1616 2231 1378 2169 \nL 1441 2663 \nQ 1497 2656 1531 2656 \nQ 1891 2656 2178 2843 \nQ 2466 3031 2466 3422 \nQ 2466 3731 2256 3934 \nQ 2047 4138 1716 4138 \nQ 1388 4138 1169 3931 \nQ 950 3725 888 3313 \nL 325 3413 \nQ 428 3978 793 4289 \nQ 1159 4600 1703 4600 \nQ 2078 4600 2393 4439 \nQ 2709 4278 2876 4000 \nQ 3044 3722 3044 3409 \nQ 3044 3113 2884 2869 \nQ 2725 2625 2413 2481 \nQ 2819 2388 3044 2092 \nQ 3269 1797 3269 1353 \nQ 3269 753 2831 336 \nQ 2394 -81 1725 -81 \nQ 1122 -81 723 278 \nQ 325 638 269 1209 \nz\n\" transform=\"scale(0.015625)\"/>\n       </defs>\n       <use xlink:href=\"#ArialMT-33\"/>\n       <use xlink:href=\"#ArialMT-30\" x=\"55.615234\"/>\n      </g>\n     </g>\n    </g>\n    <g id=\"xtick_4\">\n     <g id=\"text_4\">\n      <!-- 40 -->\n      <g style=\"fill: #262626\" transform=\"translate(236.545312 163.536719)scale(0.1 -0.1)\">\n       <defs>\n        <path id=\"ArialMT-34\" d=\"M 2069 0 \nL 2069 1097 \nL 81 1097 \nL 81 1613 \nL 2172 4581 \nL 2631 4581 \nL 2631 1613 \nL 3250 1613 \nL 3250 1097 \nL 2631 1097 \nL 2631 0 \nL 2069 0 \nz\nM 2069 1613 \nL 2069 3678 \nL 634 1613 \nL 2069 1613 \nz\n\" transform=\"scale(0.015625)\"/>\n       </defs>\n       <use xlink:href=\"#ArialMT-34\"/>\n       <use xlink:href=\"#ArialMT-30\" x=\"55.615234\"/>\n      </g>\n     </g>\n    </g>\n    <g id=\"text_5\">\n     <!-- epoch -->\n     <g style=\"fill: #262626\" transform=\"translate(130.834375 176.682031)scale(0.1 -0.1)\">\n      <defs>\n       <path id=\"ArialMT-65\" d=\"M 2694 1069 \nL 3275 997 \nQ 3138 488 2766 206 \nQ 2394 -75 1816 -75 \nQ 1088 -75 661 373 \nQ 234 822 234 1631 \nQ 234 2469 665 2931 \nQ 1097 3394 1784 3394 \nQ 2450 3394 2872 2941 \nQ 3294 2488 3294 1666 \nQ 3294 1616 3291 1516 \nL 816 1516 \nQ 847 969 1125 678 \nQ 1403 388 1819 388 \nQ 2128 388 2347 550 \nQ 2566 713 2694 1069 \nz\nM 847 1978 \nL 2700 1978 \nQ 2663 2397 2488 2606 \nQ 2219 2931 1791 2931 \nQ 1403 2931 1139 2672 \nQ 875 2413 847 1978 \nz\n\" transform=\"scale(0.015625)\"/>\n       <path id=\"ArialMT-70\" d=\"M 422 -1272 \nL 422 3319 \nL 934 3319 \nL 934 2888 \nQ 1116 3141 1344 3267 \nQ 1572 3394 1897 3394 \nQ 2322 3394 2647 3175 \nQ 2972 2956 3137 2557 \nQ 3303 2159 3303 1684 \nQ 3303 1175 3120 767 \nQ 2938 359 2589 142 \nQ 2241 -75 1856 -75 \nQ 1575 -75 1351 44 \nQ 1128 163 984 344 \nL 984 -1272 \nL 422 -1272 \nz\nM 931 1641 \nQ 931 1000 1190 694 \nQ 1450 388 1819 388 \nQ 2194 388 2461 705 \nQ 2728 1022 2728 1688 \nQ 2728 2322 2467 2637 \nQ 2206 2953 1844 2953 \nQ 1484 2953 1207 2617 \nQ 931 2281 931 1641 \nz\n\" transform=\"scale(0.015625)\"/>\n       <path id=\"ArialMT-6f\" d=\"M 213 1659 \nQ 213 2581 725 3025 \nQ 1153 3394 1769 3394 \nQ 2453 3394 2887 2945 \nQ 3322 2497 3322 1706 \nQ 3322 1066 3130 698 \nQ 2938 331 2570 128 \nQ 2203 -75 1769 -75 \nQ 1072 -75 642 372 \nQ 213 819 213 1659 \nz\nM 791 1659 \nQ 791 1022 1069 705 \nQ 1347 388 1769 388 \nQ 2188 388 2466 706 \nQ 2744 1025 2744 1678 \nQ 2744 2294 2464 2611 \nQ 2184 2928 1769 2928 \nQ 1347 2928 1069 2612 \nQ 791 2297 791 1659 \nz\n\" transform=\"scale(0.015625)\"/>\n       <path id=\"ArialMT-63\" d=\"M 2588 1216 \nL 3141 1144 \nQ 3050 572 2676 248 \nQ 2303 -75 1759 -75 \nQ 1078 -75 664 370 \nQ 250 816 250 1647 \nQ 250 2184 428 2587 \nQ 606 2991 970 3192 \nQ 1334 3394 1763 3394 \nQ 2303 3394 2647 3120 \nQ 2991 2847 3088 2344 \nL 2541 2259 \nQ 2463 2594 2264 2762 \nQ 2066 2931 1784 2931 \nQ 1359 2931 1093 2626 \nQ 828 2322 828 1663 \nQ 828 994 1084 691 \nQ 1341 388 1753 388 \nQ 2084 388 2306 591 \nQ 2528 794 2588 1216 \nz\n\" transform=\"scale(0.015625)\"/>\n       <path id=\"ArialMT-68\" d=\"M 422 0 \nL 422 4581 \nL 984 4581 \nL 984 2938 \nQ 1378 3394 1978 3394 \nQ 2347 3394 2619 3248 \nQ 2891 3103 3008 2847 \nQ 3125 2591 3125 2103 \nL 3125 0 \nL 2563 0 \nL 2563 2103 \nQ 2563 2525 2380 2717 \nQ 2197 2909 1863 2909 \nQ 1613 2909 1392 2779 \nQ 1172 2650 1078 2428 \nQ 984 2206 984 1816 \nL 984 0 \nL 422 0 \nz\n\" transform=\"scale(0.015625)\"/>\n      </defs>\n      <use xlink:href=\"#ArialMT-65\"/>\n      <use xlink:href=\"#ArialMT-70\" x=\"55.615234\"/>\n      <use xlink:href=\"#ArialMT-6f\" x=\"111.230469\"/>\n      <use xlink:href=\"#ArialMT-63\" x=\"166.845703\"/>\n      <use xlink:href=\"#ArialMT-68\" x=\"216.845703\"/>\n     </g>\n    </g>\n   </g>\n   <g id=\"matplotlib.axis_2\">\n    <g id=\"ytick_1\">\n     <g id=\"text_6\">\n      <!-- 0.00 -->\n      <g style=\"fill: #262626\" transform=\"translate(20.345312 152.957813)scale(0.1 -0.1)\">\n       <defs>\n        <path id=\"ArialMT-2e\" d=\"M 581 0 \nL 581 641 \nL 1222 641 \nL 1222 0 \nL 581 0 \nz\n\" transform=\"scale(0.015625)\"/>\n       </defs>\n       <use xlink:href=\"#ArialMT-30\"/>\n       <use xlink:href=\"#ArialMT-2e\" x=\"55.615234\"/>\n       <use xlink:href=\"#ArialMT-30\" x=\"83.398438\"/>\n       <use xlink:href=\"#ArialMT-30\" x=\"139.013672\"/>\n      </g>\n     </g>\n    </g>\n    <g id=\"ytick_2\">\n     <g id=\"text_7\">\n      <!-- 0.05 -->\n      <g style=\"fill: #262626\" transform=\"translate(20.345312 129.857813)scale(0.1 -0.1)\">\n       <defs>\n        <path id=\"ArialMT-35\" d=\"M 266 1200 \nL 856 1250 \nQ 922 819 1161 601 \nQ 1400 384 1738 384 \nQ 2144 384 2425 690 \nQ 2706 997 2706 1503 \nQ 2706 1984 2436 2262 \nQ 2166 2541 1728 2541 \nQ 1456 2541 1237 2417 \nQ 1019 2294 894 2097 \nL 366 2166 \nL 809 4519 \nL 3088 4519 \nL 3088 3981 \nL 1259 3981 \nL 1013 2750 \nQ 1425 3038 1878 3038 \nQ 2478 3038 2890 2622 \nQ 3303 2206 3303 1553 \nQ 3303 931 2941 478 \nQ 2500 -78 1738 -78 \nQ 1113 -78 717 272 \nQ 322 622 266 1200 \nz\n\" transform=\"scale(0.015625)\"/>\n       </defs>\n       <use xlink:href=\"#ArialMT-30\"/>\n       <use xlink:href=\"#ArialMT-2e\" x=\"55.615234\"/>\n       <use xlink:href=\"#ArialMT-30\" x=\"83.398438\"/>\n       <use xlink:href=\"#ArialMT-35\" x=\"139.013672\"/>\n      </g>\n     </g>\n    </g>\n    <g id=\"ytick_3\">\n     <g id=\"text_8\">\n      <!-- 0.10 -->\n      <g style=\"fill: #262626\" transform=\"translate(20.345312 106.757813)scale(0.1 -0.1)\">\n       <use xlink:href=\"#ArialMT-30\"/>\n       <use xlink:href=\"#ArialMT-2e\" x=\"55.615234\"/>\n       <use xlink:href=\"#ArialMT-31\" x=\"83.398438\"/>\n       <use xlink:href=\"#ArialMT-30\" x=\"139.013672\"/>\n      </g>\n     </g>\n    </g>\n    <g id=\"ytick_4\">\n     <g id=\"text_9\">\n      <!-- 0.15 -->\n      <g style=\"fill: #262626\" transform=\"translate(20.345312 83.657812)scale(0.1 -0.1)\">\n       <use xlink:href=\"#ArialMT-30\"/>\n       <use xlink:href=\"#ArialMT-2e\" x=\"55.615234\"/>\n       <use xlink:href=\"#ArialMT-31\" x=\"83.398438\"/>\n       <use xlink:href=\"#ArialMT-35\" x=\"139.013672\"/>\n      </g>\n     </g>\n    </g>\n    <g id=\"ytick_5\">\n     <g id=\"text_10\">\n      <!-- 0.20 -->\n      <g style=\"fill: #262626\" transform=\"translate(20.345312 60.557812)scale(0.1 -0.1)\">\n       <use xlink:href=\"#ArialMT-30\"/>\n       <use xlink:href=\"#ArialMT-2e\" x=\"55.615234\"/>\n       <use xlink:href=\"#ArialMT-32\" x=\"83.398438\"/>\n       <use xlink:href=\"#ArialMT-30\" x=\"139.013672\"/>\n      </g>\n     </g>\n    </g>\n    <g id=\"ytick_6\">\n     <g id=\"text_11\">\n      <!-- 0.25 -->\n      <g style=\"fill: #262626\" transform=\"translate(20.345312 37.457812)scale(0.1 -0.1)\">\n       <use xlink:href=\"#ArialMT-30\"/>\n       <use xlink:href=\"#ArialMT-2e\" x=\"55.615234\"/>\n       <use xlink:href=\"#ArialMT-32\" x=\"83.398438\"/>\n       <use xlink:href=\"#ArialMT-35\" x=\"139.013672\"/>\n      </g>\n     </g>\n    </g>\n    <g id=\"ytick_7\">\n     <g id=\"text_12\">\n      <!-- 0.30 -->\n      <g style=\"fill: #262626\" transform=\"translate(20.345312 14.357812)scale(0.1 -0.1)\">\n       <use xlink:href=\"#ArialMT-30\"/>\n       <use xlink:href=\"#ArialMT-2e\" x=\"55.615234\"/>\n       <use xlink:href=\"#ArialMT-33\" x=\"83.398438\"/>\n       <use xlink:href=\"#ArialMT-30\" x=\"139.013672\"/>\n      </g>\n     </g>\n    </g>\n    <g id=\"text_13\">\n     <!-- loss -->\n     <g style=\"fill: #262626\" transform=\"translate(14.357812 88.970313)rotate(-90)scale(0.1 -0.1)\">\n      <defs>\n       <path id=\"ArialMT-6c\" d=\"M 409 0 \nL 409 4581 \nL 972 4581 \nL 972 0 \nL 409 0 \nz\n\" transform=\"scale(0.015625)\"/>\n       <path id=\"ArialMT-73\" d=\"M 197 991 \nL 753 1078 \nQ 800 744 1014 566 \nQ 1228 388 1613 388 \nQ 2000 388 2187 545 \nQ 2375 703 2375 916 \nQ 2375 1106 2209 1216 \nQ 2094 1291 1634 1406 \nQ 1016 1563 777 1677 \nQ 538 1791 414 1992 \nQ 291 2194 291 2438 \nQ 291 2659 392 2848 \nQ 494 3038 669 3163 \nQ 800 3259 1026 3326 \nQ 1253 3394 1513 3394 \nQ 1903 3394 2198 3281 \nQ 2494 3169 2634 2976 \nQ 2775 2784 2828 2463 \nL 2278 2388 \nQ 2241 2644 2061 2787 \nQ 1881 2931 1553 2931 \nQ 1166 2931 1000 2803 \nQ 834 2675 834 2503 \nQ 834 2394 903 2306 \nQ 972 2216 1119 2156 \nQ 1203 2125 1616 2013 \nQ 2213 1853 2448 1751 \nQ 2684 1650 2818 1456 \nQ 2953 1263 2953 975 \nQ 2953 694 2789 445 \nQ 2625 197 2315 61 \nQ 2006 -75 1616 -75 \nQ 969 -75 630 194 \nQ 291 463 197 991 \nz\n\" transform=\"scale(0.015625)\"/>\n      </defs>\n      <use xlink:href=\"#ArialMT-6c\"/>\n      <use xlink:href=\"#ArialMT-6f\" x=\"22.216797\"/>\n      <use xlink:href=\"#ArialMT-73\" x=\"77.832031\"/>\n      <use xlink:href=\"#ArialMT-73\" x=\"127.832031\"/>\n     </g>\n    </g>\n   </g>\n   <g id=\"line2d_1\">\n    <path d=\"M 66.248546 -1 \nL 66.837019 43.716664 \nL 71.844712 46.100225 \nL 76.852404 48.948905 \nL 81.860096 49.660198 \nL 86.867788 50.202409 \nL 91.875481 51.36156 \nL 96.883173 50.378126 \nL 101.890865 51.803689 \nL 106.898558 51.718495 \nL 111.90625 52.088831 \nL 116.913942 53.785148 \nL 121.921635 51.940291 \nL 126.929327 53.636546 \nL 131.937019 53.875527 \nL 136.944712 53.84209 \nL 141.952404 56.566408 \nL 146.960096 56.240298 \nL 151.967788 57.273969 \nL 156.975481 57.847237 \nL 161.983173 59.067847 \nL 166.990865 57.741236 \nL 171.998558 58.65855 \nL 177.00625 58.183978 \nL 182.013942 60.05151 \nL 187.021635 60.398188 \nL 192.029327 60.567065 \nL 197.037019 61.605489 \nL 202.044712 60.860658 \nL 207.052404 61.362722 \nL 212.060096 62.103638 \nL 217.067788 61.525991 \nL 222.075481 61.524749 \nL 227.083173 61.911364 \nL 232.090865 61.436698 \nL 237.098558 62.473409 \nL 242.10625 63.165696 \n\" clip-path=\"url(#p35d79d949a)\" style=\"fill: none; stroke: #1f77b4; stroke-width: 1.5; stroke-linecap: round\"/>\n   </g>\n   <g id=\"line2d_2\">\n    <path d=\"M 61.777963 -1 \nL 61.829327 63.611796 \nL 66.837019 63.931433 \nL 71.844712 69.671628 \nL 76.852404 64.437026 \nL 81.860096 66.044843 \nL 86.867788 63.051001 \nL 91.875481 69.006196 \nL 96.883173 62.31686 \nL 101.890865 63.88962 \nL 106.898558 69.432462 \nL 111.90625 67.319019 \nL 116.913942 71.911993 \nL 121.921635 71.407352 \nL 126.929327 69.37134 \nL 131.937019 68.678156 \nL 136.944712 71.918036 \nL 141.952404 66.269483 \nL 146.960096 73.295008 \nL 151.967788 72.955068 \nL 156.975481 69.471328 \nL 161.983173 66.1975 \nL 166.990865 72.44529 \nL 171.998558 72.207809 \nL 177.00625 67.593662 \nL 182.013942 65.458837 \nL 187.021635 53.377912 \nL 192.029327 73.75496 \nL 197.037019 62.81891 \nL 202.044712 69.709538 \nL 207.052404 70.048137 \nL 212.060096 67.123803 \nL 217.067788 64.908907 \nL 222.075481 62.989655 \nL 227.083173 71.265817 \nL 232.090865 70.41549 \nL 237.098558 71.522749 \nL 242.10625 67.317231 \n\" clip-path=\"url(#p35d79d949a)\" style=\"fill: none; stroke-dasharray: 5.55,2.4; stroke-dashoffset: 0; stroke: #bf00bf; stroke-width: 1.5\"/>\n   </g>\n   <g id=\"patch_3\">\n    <path d=\"M 46.80625 149.378906 \nL 46.80625 10.778906 \n\" style=\"fill: none; stroke: #ffffff; stroke-width: 0.8; stroke-linejoin: miter; stroke-linecap: square\"/>\n   </g>\n   <g id=\"patch_4\">\n    <path d=\"M 242.10625 149.378906 \nL 242.10625 10.778906 \n\" style=\"fill: none; stroke: #ffffff; stroke-width: 0.8; stroke-linejoin: miter; stroke-linecap: square\"/>\n   </g>\n   <g id=\"patch_5\">\n    <path d=\"M 46.80625 149.378906 \nL 242.10625 149.378906 \n\" style=\"fill: none; stroke: #ffffff; stroke-width: 0.8; stroke-linejoin: miter; stroke-linecap: square\"/>\n   </g>\n   <g id=\"patch_6\">\n    <path d=\"M 46.80625 10.778906 \nL 242.10625 10.778906 \n\" style=\"fill: none; stroke: #ffffff; stroke-width: 0.8; stroke-linejoin: miter; stroke-linecap: square\"/>\n   </g>\n   <g id=\"legend_1\">\n    <g id=\"patch_7\">\n     <path d=\"M 160.310937 47.069531 \nL 235.10625 47.069531 \nQ 237.10625 47.069531 237.10625 45.069531 \nL 237.10625 17.778906 \nQ 237.10625 15.778906 235.10625 15.778906 \nL 160.310937 15.778906 \nQ 158.310937 15.778906 158.310937 17.778906 \nL 158.310937 45.069531 \nQ 158.310937 47.069531 160.310937 47.069531 \nz\n\" style=\"fill: #eaeaf2; opacity: 0.8; stroke: #cccccc; stroke-linejoin: miter\"/>\n    </g>\n    <g id=\"line2d_3\">\n     <path d=\"M 162.310937 23.436719 \nL 172.310937 23.436719 \nL 182.310937 23.436719 \n\" style=\"fill: none; stroke: #1f77b4; stroke-width: 1.5; stroke-linecap: round\"/>\n    </g>\n    <g id=\"text_14\">\n     <!-- train_loss -->\n     <g style=\"fill: #262626\" transform=\"translate(190.310937 26.936719)scale(0.1 -0.1)\">\n      <defs>\n       <path id=\"ArialMT-74\" d=\"M 1650 503 \nL 1731 6 \nQ 1494 -44 1306 -44 \nQ 1000 -44 831 53 \nQ 663 150 594 308 \nQ 525 466 525 972 \nL 525 2881 \nL 113 2881 \nL 113 3319 \nL 525 3319 \nL 525 4141 \nL 1084 4478 \nL 1084 3319 \nL 1650 3319 \nL 1650 2881 \nL 1084 2881 \nL 1084 941 \nQ 1084 700 1114 631 \nQ 1144 563 1211 522 \nQ 1278 481 1403 481 \nQ 1497 481 1650 503 \nz\n\" transform=\"scale(0.015625)\"/>\n       <path id=\"ArialMT-72\" d=\"M 416 0 \nL 416 3319 \nL 922 3319 \nL 922 2816 \nQ 1116 3169 1280 3281 \nQ 1444 3394 1641 3394 \nQ 1925 3394 2219 3213 \nL 2025 2691 \nQ 1819 2813 1613 2813 \nQ 1428 2813 1281 2702 \nQ 1134 2591 1072 2394 \nQ 978 2094 978 1738 \nL 978 0 \nL 416 0 \nz\n\" transform=\"scale(0.015625)\"/>\n       <path id=\"ArialMT-61\" d=\"M 2588 409 \nQ 2275 144 1986 34 \nQ 1697 -75 1366 -75 \nQ 819 -75 525 192 \nQ 231 459 231 875 \nQ 231 1119 342 1320 \nQ 453 1522 633 1644 \nQ 813 1766 1038 1828 \nQ 1203 1872 1538 1913 \nQ 2219 1994 2541 2106 \nQ 2544 2222 2544 2253 \nQ 2544 2597 2384 2738 \nQ 2169 2928 1744 2928 \nQ 1347 2928 1158 2789 \nQ 969 2650 878 2297 \nL 328 2372 \nQ 403 2725 575 2942 \nQ 747 3159 1072 3276 \nQ 1397 3394 1825 3394 \nQ 2250 3394 2515 3294 \nQ 2781 3194 2906 3042 \nQ 3031 2891 3081 2659 \nQ 3109 2516 3109 2141 \nL 3109 1391 \nQ 3109 606 3145 398 \nQ 3181 191 3288 0 \nL 2700 0 \nQ 2613 175 2588 409 \nz\nM 2541 1666 \nQ 2234 1541 1622 1453 \nQ 1275 1403 1131 1340 \nQ 988 1278 909 1158 \nQ 831 1038 831 891 \nQ 831 666 1001 516 \nQ 1172 366 1500 366 \nQ 1825 366 2078 508 \nQ 2331 650 2450 897 \nQ 2541 1088 2541 1459 \nL 2541 1666 \nz\n\" transform=\"scale(0.015625)\"/>\n       <path id=\"ArialMT-69\" d=\"M 425 3934 \nL 425 4581 \nL 988 4581 \nL 988 3934 \nL 425 3934 \nz\nM 425 0 \nL 425 3319 \nL 988 3319 \nL 988 0 \nL 425 0 \nz\n\" transform=\"scale(0.015625)\"/>\n       <path id=\"ArialMT-6e\" d=\"M 422 0 \nL 422 3319 \nL 928 3319 \nL 928 2847 \nQ 1294 3394 1984 3394 \nQ 2284 3394 2536 3286 \nQ 2788 3178 2913 3003 \nQ 3038 2828 3088 2588 \nQ 3119 2431 3119 2041 \nL 3119 0 \nL 2556 0 \nL 2556 2019 \nQ 2556 2363 2490 2533 \nQ 2425 2703 2258 2804 \nQ 2091 2906 1866 2906 \nQ 1506 2906 1245 2678 \nQ 984 2450 984 1813 \nL 984 0 \nL 422 0 \nz\n\" transform=\"scale(0.015625)\"/>\n       <path id=\"ArialMT-5f\" d=\"M -97 -1272 \nL -97 -866 \nL 3631 -866 \nL 3631 -1272 \nL -97 -1272 \nz\n\" transform=\"scale(0.015625)\"/>\n      </defs>\n      <use xlink:href=\"#ArialMT-74\"/>\n      <use xlink:href=\"#ArialMT-72\" x=\"27.783203\"/>\n      <use xlink:href=\"#ArialMT-61\" x=\"61.083984\"/>\n      <use xlink:href=\"#ArialMT-69\" x=\"116.699219\"/>\n      <use xlink:href=\"#ArialMT-6e\" x=\"138.916016\"/>\n      <use xlink:href=\"#ArialMT-5f\" x=\"194.53125\"/>\n      <use xlink:href=\"#ArialMT-6c\" x=\"250.146484\"/>\n      <use xlink:href=\"#ArialMT-6f\" x=\"272.363281\"/>\n      <use xlink:href=\"#ArialMT-73\" x=\"327.978516\"/>\n      <use xlink:href=\"#ArialMT-73\" x=\"377.978516\"/>\n     </g>\n    </g>\n    <g id=\"line2d_4\">\n     <path d=\"M 162.310937 37.582031 \nL 172.310937 37.582031 \nL 182.310937 37.582031 \n\" style=\"fill: none; stroke-dasharray: 5.55,2.4; stroke-dashoffset: 0; stroke: #bf00bf; stroke-width: 1.5\"/>\n    </g>\n    <g id=\"text_15\">\n     <!-- val_loss -->\n     <g style=\"fill: #262626\" transform=\"translate(190.310937 41.082031)scale(0.1 -0.1)\">\n      <defs>\n       <path id=\"ArialMT-76\" d=\"M 1344 0 \nL 81 3319 \nL 675 3319 \nL 1388 1331 \nQ 1503 1009 1600 663 \nQ 1675 925 1809 1294 \nL 2547 3319 \nL 3125 3319 \nL 1869 0 \nL 1344 0 \nz\n\" transform=\"scale(0.015625)\"/>\n      </defs>\n      <use xlink:href=\"#ArialMT-76\"/>\n      <use xlink:href=\"#ArialMT-61\" x=\"50\"/>\n      <use xlink:href=\"#ArialMT-6c\" x=\"105.615234\"/>\n      <use xlink:href=\"#ArialMT-5f\" x=\"127.832031\"/>\n      <use xlink:href=\"#ArialMT-6c\" x=\"183.447266\"/>\n      <use xlink:href=\"#ArialMT-6f\" x=\"205.664062\"/>\n      <use xlink:href=\"#ArialMT-73\" x=\"261.279297\"/>\n      <use xlink:href=\"#ArialMT-73\" x=\"311.279297\"/>\n     </g>\n    </g>\n   </g>\n  </g>\n </g>\n <defs>\n  <clipPath id=\"p35d79d949a\">\n   <rect x=\"46.80625\" y=\"10.778906\" width=\"195.3\" height=\"138.6\"/>\n  </clipPath>\n </defs>\n</svg>\n"
     },
     "metadata": {},
     "output_type": "display_data"
    },
    {
     "data": {
      "text/plain": "<Figure size 350x250 with 1 Axes>",
      "image/svg+xml": "<?xml version=\"1.0\" encoding=\"utf-8\" standalone=\"no\"?>\n<!DOCTYPE svg PUBLIC \"-//W3C//DTD SVG 1.1//EN\"\n  \"http://www.w3.org/Graphics/SVG/1.1/DTD/svg11.dtd\">\n<svg xmlns:xlink=\"http://www.w3.org/1999/xlink\" width=\"254.867188pt\" height=\"185.869531pt\" viewBox=\"0 0 254.867188 185.869531\" xmlns=\"http://www.w3.org/2000/svg\" version=\"1.1\">\n <metadata>\n  <rdf:RDF xmlns:dc=\"http://purl.org/dc/elements/1.1/\" xmlns:cc=\"http://creativecommons.org/ns#\" xmlns:rdf=\"http://www.w3.org/1999/02/22-rdf-syntax-ns#\">\n   <cc:Work>\n    <dc:type rdf:resource=\"http://purl.org/dc/dcmitype/StillImage\"/>\n    <dc:date>2023-04-09T17:43:01.635970</dc:date>\n    <dc:format>image/svg+xml</dc:format>\n    <dc:creator>\n     <cc:Agent>\n      <dc:title>Matplotlib v3.5.1, https://matplotlib.org/</dc:title>\n     </cc:Agent>\n    </dc:creator>\n   </cc:Work>\n  </rdf:RDF>\n </metadata>\n <defs>\n  <style type=\"text/css\">*{stroke-linejoin: round; stroke-linecap: butt}</style>\n </defs>\n <g id=\"figure_1\">\n  <g id=\"patch_1\">\n   <path d=\"M 0 185.869531 \nL 254.867188 185.869531 \nL 254.867188 0 \nL 0 0 \nz\n\" style=\"fill: #ffffff\"/>\n  </g>\n  <g id=\"axes_1\">\n   <g id=\"patch_2\">\n    <path d=\"M 46.80625 149.378906 \nL 242.10625 149.378906 \nL 242.10625 10.778906 \nL 46.80625 10.778906 \nz\n\" style=\"fill: #eaeaf2\"/>\n   </g>\n   <g id=\"matplotlib.axis_1\">\n    <g id=\"xtick_1\">\n     <g id=\"text_1\">\n      <!-- 10 -->\n      <g style=\"fill: #262626\" transform=\"translate(86.314543 163.536719)scale(0.1 -0.1)\">\n       <defs>\n        <path id=\"ArialMT-31\" d=\"M 2384 0 \nL 1822 0 \nL 1822 3584 \nQ 1619 3391 1289 3197 \nQ 959 3003 697 2906 \nL 697 3450 \nQ 1169 3672 1522 3987 \nQ 1875 4303 2022 4600 \nL 2384 4600 \nL 2384 0 \nz\n\" transform=\"scale(0.015625)\"/>\n        <path id=\"ArialMT-30\" d=\"M 266 2259 \nQ 266 3072 433 3567 \nQ 600 4063 929 4331 \nQ 1259 4600 1759 4600 \nQ 2128 4600 2406 4451 \nQ 2684 4303 2865 4023 \nQ 3047 3744 3150 3342 \nQ 3253 2941 3253 2259 \nQ 3253 1453 3087 958 \nQ 2922 463 2592 192 \nQ 2263 -78 1759 -78 \nQ 1097 -78 719 397 \nQ 266 969 266 2259 \nz\nM 844 2259 \nQ 844 1131 1108 757 \nQ 1372 384 1759 384 \nQ 2147 384 2411 759 \nQ 2675 1134 2675 2259 \nQ 2675 3391 2411 3762 \nQ 2147 4134 1753 4134 \nQ 1366 4134 1134 3806 \nQ 844 3388 844 2259 \nz\n\" transform=\"scale(0.015625)\"/>\n       </defs>\n       <use xlink:href=\"#ArialMT-31\"/>\n       <use xlink:href=\"#ArialMT-30\" x=\"55.615234\"/>\n      </g>\n     </g>\n    </g>\n    <g id=\"xtick_2\">\n     <g id=\"text_2\">\n      <!-- 20 -->\n      <g style=\"fill: #262626\" transform=\"translate(136.391466 163.536719)scale(0.1 -0.1)\">\n       <defs>\n        <path id=\"ArialMT-32\" d=\"M 3222 541 \nL 3222 0 \nL 194 0 \nQ 188 203 259 391 \nQ 375 700 629 1000 \nQ 884 1300 1366 1694 \nQ 2113 2306 2375 2664 \nQ 2638 3022 2638 3341 \nQ 2638 3675 2398 3904 \nQ 2159 4134 1775 4134 \nQ 1369 4134 1125 3890 \nQ 881 3647 878 3216 \nL 300 3275 \nQ 359 3922 746 4261 \nQ 1134 4600 1788 4600 \nQ 2447 4600 2831 4234 \nQ 3216 3869 3216 3328 \nQ 3216 3053 3103 2787 \nQ 2991 2522 2730 2228 \nQ 2469 1934 1863 1422 \nQ 1356 997 1212 845 \nQ 1069 694 975 541 \nL 3222 541 \nz\n\" transform=\"scale(0.015625)\"/>\n       </defs>\n       <use xlink:href=\"#ArialMT-32\"/>\n       <use xlink:href=\"#ArialMT-30\" x=\"55.615234\"/>\n      </g>\n     </g>\n    </g>\n    <g id=\"xtick_3\">\n     <g id=\"text_3\">\n      <!-- 30 -->\n      <g style=\"fill: #262626\" transform=\"translate(186.468389 163.536719)scale(0.1 -0.1)\">\n       <defs>\n        <path id=\"ArialMT-33\" d=\"M 269 1209 \nL 831 1284 \nQ 928 806 1161 595 \nQ 1394 384 1728 384 \nQ 2125 384 2398 659 \nQ 2672 934 2672 1341 \nQ 2672 1728 2419 1979 \nQ 2166 2231 1775 2231 \nQ 1616 2231 1378 2169 \nL 1441 2663 \nQ 1497 2656 1531 2656 \nQ 1891 2656 2178 2843 \nQ 2466 3031 2466 3422 \nQ 2466 3731 2256 3934 \nQ 2047 4138 1716 4138 \nQ 1388 4138 1169 3931 \nQ 950 3725 888 3313 \nL 325 3413 \nQ 428 3978 793 4289 \nQ 1159 4600 1703 4600 \nQ 2078 4600 2393 4439 \nQ 2709 4278 2876 4000 \nQ 3044 3722 3044 3409 \nQ 3044 3113 2884 2869 \nQ 2725 2625 2413 2481 \nQ 2819 2388 3044 2092 \nQ 3269 1797 3269 1353 \nQ 3269 753 2831 336 \nQ 2394 -81 1725 -81 \nQ 1122 -81 723 278 \nQ 325 638 269 1209 \nz\n\" transform=\"scale(0.015625)\"/>\n       </defs>\n       <use xlink:href=\"#ArialMT-33\"/>\n       <use xlink:href=\"#ArialMT-30\" x=\"55.615234\"/>\n      </g>\n     </g>\n    </g>\n    <g id=\"xtick_4\">\n     <g id=\"text_4\">\n      <!-- 40 -->\n      <g style=\"fill: #262626\" transform=\"translate(236.545312 163.536719)scale(0.1 -0.1)\">\n       <defs>\n        <path id=\"ArialMT-34\" d=\"M 2069 0 \nL 2069 1097 \nL 81 1097 \nL 81 1613 \nL 2172 4581 \nL 2631 4581 \nL 2631 1613 \nL 3250 1613 \nL 3250 1097 \nL 2631 1097 \nL 2631 0 \nL 2069 0 \nz\nM 2069 1613 \nL 2069 3678 \nL 634 1613 \nL 2069 1613 \nz\n\" transform=\"scale(0.015625)\"/>\n       </defs>\n       <use xlink:href=\"#ArialMT-34\"/>\n       <use xlink:href=\"#ArialMT-30\" x=\"55.615234\"/>\n      </g>\n     </g>\n    </g>\n    <g id=\"text_5\">\n     <!-- epoch -->\n     <g style=\"fill: #262626\" transform=\"translate(130.834375 176.682031)scale(0.1 -0.1)\">\n      <defs>\n       <path id=\"ArialMT-65\" d=\"M 2694 1069 \nL 3275 997 \nQ 3138 488 2766 206 \nQ 2394 -75 1816 -75 \nQ 1088 -75 661 373 \nQ 234 822 234 1631 \nQ 234 2469 665 2931 \nQ 1097 3394 1784 3394 \nQ 2450 3394 2872 2941 \nQ 3294 2488 3294 1666 \nQ 3294 1616 3291 1516 \nL 816 1516 \nQ 847 969 1125 678 \nQ 1403 388 1819 388 \nQ 2128 388 2347 550 \nQ 2566 713 2694 1069 \nz\nM 847 1978 \nL 2700 1978 \nQ 2663 2397 2488 2606 \nQ 2219 2931 1791 2931 \nQ 1403 2931 1139 2672 \nQ 875 2413 847 1978 \nz\n\" transform=\"scale(0.015625)\"/>\n       <path id=\"ArialMT-70\" d=\"M 422 -1272 \nL 422 3319 \nL 934 3319 \nL 934 2888 \nQ 1116 3141 1344 3267 \nQ 1572 3394 1897 3394 \nQ 2322 3394 2647 3175 \nQ 2972 2956 3137 2557 \nQ 3303 2159 3303 1684 \nQ 3303 1175 3120 767 \nQ 2938 359 2589 142 \nQ 2241 -75 1856 -75 \nQ 1575 -75 1351 44 \nQ 1128 163 984 344 \nL 984 -1272 \nL 422 -1272 \nz\nM 931 1641 \nQ 931 1000 1190 694 \nQ 1450 388 1819 388 \nQ 2194 388 2461 705 \nQ 2728 1022 2728 1688 \nQ 2728 2322 2467 2637 \nQ 2206 2953 1844 2953 \nQ 1484 2953 1207 2617 \nQ 931 2281 931 1641 \nz\n\" transform=\"scale(0.015625)\"/>\n       <path id=\"ArialMT-6f\" d=\"M 213 1659 \nQ 213 2581 725 3025 \nQ 1153 3394 1769 3394 \nQ 2453 3394 2887 2945 \nQ 3322 2497 3322 1706 \nQ 3322 1066 3130 698 \nQ 2938 331 2570 128 \nQ 2203 -75 1769 -75 \nQ 1072 -75 642 372 \nQ 213 819 213 1659 \nz\nM 791 1659 \nQ 791 1022 1069 705 \nQ 1347 388 1769 388 \nQ 2188 388 2466 706 \nQ 2744 1025 2744 1678 \nQ 2744 2294 2464 2611 \nQ 2184 2928 1769 2928 \nQ 1347 2928 1069 2612 \nQ 791 2297 791 1659 \nz\n\" transform=\"scale(0.015625)\"/>\n       <path id=\"ArialMT-63\" d=\"M 2588 1216 \nL 3141 1144 \nQ 3050 572 2676 248 \nQ 2303 -75 1759 -75 \nQ 1078 -75 664 370 \nQ 250 816 250 1647 \nQ 250 2184 428 2587 \nQ 606 2991 970 3192 \nQ 1334 3394 1763 3394 \nQ 2303 3394 2647 3120 \nQ 2991 2847 3088 2344 \nL 2541 2259 \nQ 2463 2594 2264 2762 \nQ 2066 2931 1784 2931 \nQ 1359 2931 1093 2626 \nQ 828 2322 828 1663 \nQ 828 994 1084 691 \nQ 1341 388 1753 388 \nQ 2084 388 2306 591 \nQ 2528 794 2588 1216 \nz\n\" transform=\"scale(0.015625)\"/>\n       <path id=\"ArialMT-68\" d=\"M 422 0 \nL 422 4581 \nL 984 4581 \nL 984 2938 \nQ 1378 3394 1978 3394 \nQ 2347 3394 2619 3248 \nQ 2891 3103 3008 2847 \nQ 3125 2591 3125 2103 \nL 3125 0 \nL 2563 0 \nL 2563 2103 \nQ 2563 2525 2380 2717 \nQ 2197 2909 1863 2909 \nQ 1613 2909 1392 2779 \nQ 1172 2650 1078 2428 \nQ 984 2206 984 1816 \nL 984 0 \nL 422 0 \nz\n\" transform=\"scale(0.015625)\"/>\n      </defs>\n      <use xlink:href=\"#ArialMT-65\"/>\n      <use xlink:href=\"#ArialMT-70\" x=\"55.615234\"/>\n      <use xlink:href=\"#ArialMT-6f\" x=\"111.230469\"/>\n      <use xlink:href=\"#ArialMT-63\" x=\"166.845703\"/>\n      <use xlink:href=\"#ArialMT-68\" x=\"216.845703\"/>\n     </g>\n    </g>\n   </g>\n   <g id=\"matplotlib.axis_2\">\n    <g id=\"ytick_1\">\n     <g id=\"text_6\">\n      <!-- 0.00 -->\n      <g style=\"fill: #262626\" transform=\"translate(20.345312 152.957813)scale(0.1 -0.1)\">\n       <defs>\n        <path id=\"ArialMT-2e\" d=\"M 581 0 \nL 581 641 \nL 1222 641 \nL 1222 0 \nL 581 0 \nz\n\" transform=\"scale(0.015625)\"/>\n       </defs>\n       <use xlink:href=\"#ArialMT-30\"/>\n       <use xlink:href=\"#ArialMT-2e\" x=\"55.615234\"/>\n       <use xlink:href=\"#ArialMT-30\" x=\"83.398438\"/>\n       <use xlink:href=\"#ArialMT-30\" x=\"139.013672\"/>\n      </g>\n     </g>\n    </g>\n    <g id=\"ytick_2\">\n     <g id=\"text_7\">\n      <!-- 0.05 -->\n      <g style=\"fill: #262626\" transform=\"translate(20.345312 129.857813)scale(0.1 -0.1)\">\n       <defs>\n        <path id=\"ArialMT-35\" d=\"M 266 1200 \nL 856 1250 \nQ 922 819 1161 601 \nQ 1400 384 1738 384 \nQ 2144 384 2425 690 \nQ 2706 997 2706 1503 \nQ 2706 1984 2436 2262 \nQ 2166 2541 1728 2541 \nQ 1456 2541 1237 2417 \nQ 1019 2294 894 2097 \nL 366 2166 \nL 809 4519 \nL 3088 4519 \nL 3088 3981 \nL 1259 3981 \nL 1013 2750 \nQ 1425 3038 1878 3038 \nQ 2478 3038 2890 2622 \nQ 3303 2206 3303 1553 \nQ 3303 931 2941 478 \nQ 2500 -78 1738 -78 \nQ 1113 -78 717 272 \nQ 322 622 266 1200 \nz\n\" transform=\"scale(0.015625)\"/>\n       </defs>\n       <use xlink:href=\"#ArialMT-30\"/>\n       <use xlink:href=\"#ArialMT-2e\" x=\"55.615234\"/>\n       <use xlink:href=\"#ArialMT-30\" x=\"83.398438\"/>\n       <use xlink:href=\"#ArialMT-35\" x=\"139.013672\"/>\n      </g>\n     </g>\n    </g>\n    <g id=\"ytick_3\">\n     <g id=\"text_8\">\n      <!-- 0.10 -->\n      <g style=\"fill: #262626\" transform=\"translate(20.345312 106.757813)scale(0.1 -0.1)\">\n       <use xlink:href=\"#ArialMT-30\"/>\n       <use xlink:href=\"#ArialMT-2e\" x=\"55.615234\"/>\n       <use xlink:href=\"#ArialMT-31\" x=\"83.398438\"/>\n       <use xlink:href=\"#ArialMT-30\" x=\"139.013672\"/>\n      </g>\n     </g>\n    </g>\n    <g id=\"ytick_4\">\n     <g id=\"text_9\">\n      <!-- 0.15 -->\n      <g style=\"fill: #262626\" transform=\"translate(20.345312 83.657812)scale(0.1 -0.1)\">\n       <use xlink:href=\"#ArialMT-30\"/>\n       <use xlink:href=\"#ArialMT-2e\" x=\"55.615234\"/>\n       <use xlink:href=\"#ArialMT-31\" x=\"83.398438\"/>\n       <use xlink:href=\"#ArialMT-35\" x=\"139.013672\"/>\n      </g>\n     </g>\n    </g>\n    <g id=\"ytick_5\">\n     <g id=\"text_10\">\n      <!-- 0.20 -->\n      <g style=\"fill: #262626\" transform=\"translate(20.345312 60.557812)scale(0.1 -0.1)\">\n       <use xlink:href=\"#ArialMT-30\"/>\n       <use xlink:href=\"#ArialMT-2e\" x=\"55.615234\"/>\n       <use xlink:href=\"#ArialMT-32\" x=\"83.398438\"/>\n       <use xlink:href=\"#ArialMT-30\" x=\"139.013672\"/>\n      </g>\n     </g>\n    </g>\n    <g id=\"ytick_6\">\n     <g id=\"text_11\">\n      <!-- 0.25 -->\n      <g style=\"fill: #262626\" transform=\"translate(20.345312 37.457812)scale(0.1 -0.1)\">\n       <use xlink:href=\"#ArialMT-30\"/>\n       <use xlink:href=\"#ArialMT-2e\" x=\"55.615234\"/>\n       <use xlink:href=\"#ArialMT-32\" x=\"83.398438\"/>\n       <use xlink:href=\"#ArialMT-35\" x=\"139.013672\"/>\n      </g>\n     </g>\n    </g>\n    <g id=\"ytick_7\">\n     <g id=\"text_12\">\n      <!-- 0.30 -->\n      <g style=\"fill: #262626\" transform=\"translate(20.345312 14.357812)scale(0.1 -0.1)\">\n       <use xlink:href=\"#ArialMT-30\"/>\n       <use xlink:href=\"#ArialMT-2e\" x=\"55.615234\"/>\n       <use xlink:href=\"#ArialMT-33\" x=\"83.398438\"/>\n       <use xlink:href=\"#ArialMT-30\" x=\"139.013672\"/>\n      </g>\n     </g>\n    </g>\n    <g id=\"text_13\">\n     <!-- loss -->\n     <g style=\"fill: #262626\" transform=\"translate(14.357812 88.970313)rotate(-90)scale(0.1 -0.1)\">\n      <defs>\n       <path id=\"ArialMT-6c\" d=\"M 409 0 \nL 409 4581 \nL 972 4581 \nL 972 0 \nL 409 0 \nz\n\" transform=\"scale(0.015625)\"/>\n       <path id=\"ArialMT-73\" d=\"M 197 991 \nL 753 1078 \nQ 800 744 1014 566 \nQ 1228 388 1613 388 \nQ 2000 388 2187 545 \nQ 2375 703 2375 916 \nQ 2375 1106 2209 1216 \nQ 2094 1291 1634 1406 \nQ 1016 1563 777 1677 \nQ 538 1791 414 1992 \nQ 291 2194 291 2438 \nQ 291 2659 392 2848 \nQ 494 3038 669 3163 \nQ 800 3259 1026 3326 \nQ 1253 3394 1513 3394 \nQ 1903 3394 2198 3281 \nQ 2494 3169 2634 2976 \nQ 2775 2784 2828 2463 \nL 2278 2388 \nQ 2241 2644 2061 2787 \nQ 1881 2931 1553 2931 \nQ 1166 2931 1000 2803 \nQ 834 2675 834 2503 \nQ 834 2394 903 2306 \nQ 972 2216 1119 2156 \nQ 1203 2125 1616 2013 \nQ 2213 1853 2448 1751 \nQ 2684 1650 2818 1456 \nQ 2953 1263 2953 975 \nQ 2953 694 2789 445 \nQ 2625 197 2315 61 \nQ 2006 -75 1616 -75 \nQ 969 -75 630 194 \nQ 291 463 197 991 \nz\n\" transform=\"scale(0.015625)\"/>\n      </defs>\n      <use xlink:href=\"#ArialMT-6c\"/>\n      <use xlink:href=\"#ArialMT-6f\" x=\"22.216797\"/>\n      <use xlink:href=\"#ArialMT-73\" x=\"77.832031\"/>\n      <use xlink:href=\"#ArialMT-73\" x=\"127.832031\"/>\n     </g>\n    </g>\n   </g>\n   <g id=\"line2d_1\">\n    <path d=\"M 51.313556 -1 \nL 51.813942 46.04222 \nL 56.821635 48.416747 \nL 61.829327 49.647655 \nL 66.837019 49.373412 \nL 71.844712 49.674994 \nL 76.852404 51.365524 \nL 81.860096 50.98133 \nL 86.867788 52.487885 \nL 91.875481 53.212623 \nL 96.883173 53.459115 \nL 101.890865 53.523087 \nL 106.898558 53.130042 \nL 111.90625 54.088168 \nL 116.913942 55.41751 \nL 121.921635 53.35627 \nL 126.929327 55.226791 \nL 131.937019 54.421956 \nL 136.944712 54.600799 \nL 141.952404 56.597416 \nL 146.960096 57.123489 \nL 151.967788 56.237296 \nL 156.975481 57.007314 \nL 161.983173 59.141134 \nL 166.990865 58.736983 \nL 171.998558 59.245838 \nL 177.00625 59.8375 \nL 182.013942 60.387959 \nL 187.021635 60.603343 \nL 192.029327 61.173901 \nL 197.037019 60.420345 \nL 202.044712 60.956646 \nL 207.052404 61.591093 \nL 212.060096 61.819752 \nL 217.067788 60.567479 \nL 222.075481 61.99238 \nL 227.083173 61.264483 \nL 232.090865 61.583431 \nL 237.098558 61.589619 \nL 242.10625 62.243593 \n\" clip-path=\"url(#p8709eacb90)\" style=\"fill: none; stroke: #1f77b4; stroke-width: 1.5; stroke-linecap: round\"/>\n   </g>\n   <g id=\"line2d_2\">\n    <path d=\"M 46.80625 45.369143 \nL 51.813942 63.642492 \nL 56.821635 58.747098 \nL 61.829327 57.967261 \nL 66.837019 55.144643 \nL 71.844712 62.877234 \nL 76.852404 60.490486 \nL 81.860096 58.495043 \nL 86.867788 51.579869 \nL 91.875481 59.901092 \nL 96.883173 63.201137 \nL 101.890865 51.929302 \nL 106.898558 58.675891 \nL 111.90625 51.869092 \nL 116.913942 58.601812 \nL 121.921635 54.252487 \nL 126.929327 56.82618 \nL 131.937019 59.669173 \nL 136.944712 44.785351 \nL 141.952404 61.134218 \nL 146.960096 66.601036 \nL 151.967788 52.093222 \nL 156.975481 64.873729 \nL 161.983173 52.591329 \nL 166.990865 60.184558 \nL 171.998558 40.043457 \nL 177.00625 64.836105 \nL 182.013942 62.807068 \nL 187.021635 62.68778 \nL 192.029327 64.819279 \nL 197.037019 56.111955 \nL 202.044712 55.373223 \nL 207.052404 61.394288 \nL 212.060096 63.06908 \nL 217.067788 59.515388 \nL 222.075481 57.823509 \nL 227.083173 56.138247 \nL 232.090865 56.337648 \nL 237.098558 53.902875 \nL 242.10625 48.806235 \n\" clip-path=\"url(#p8709eacb90)\" style=\"fill: none; stroke-dasharray: 5.55,2.4; stroke-dashoffset: 0; stroke: #bf00bf; stroke-width: 1.5\"/>\n   </g>\n   <g id=\"patch_3\">\n    <path d=\"M 46.80625 149.378906 \nL 46.80625 10.778906 \n\" style=\"fill: none; stroke: #ffffff; stroke-width: 0.8; stroke-linejoin: miter; stroke-linecap: square\"/>\n   </g>\n   <g id=\"patch_4\">\n    <path d=\"M 242.10625 149.378906 \nL 242.10625 10.778906 \n\" style=\"fill: none; stroke: #ffffff; stroke-width: 0.8; stroke-linejoin: miter; stroke-linecap: square\"/>\n   </g>\n   <g id=\"patch_5\">\n    <path d=\"M 46.80625 149.378906 \nL 242.10625 149.378906 \n\" style=\"fill: none; stroke: #ffffff; stroke-width: 0.8; stroke-linejoin: miter; stroke-linecap: square\"/>\n   </g>\n   <g id=\"patch_6\">\n    <path d=\"M 46.80625 10.778906 \nL 242.10625 10.778906 \n\" style=\"fill: none; stroke: #ffffff; stroke-width: 0.8; stroke-linejoin: miter; stroke-linecap: square\"/>\n   </g>\n   <g id=\"legend_1\">\n    <g id=\"patch_7\">\n     <path d=\"M 53.80625 144.378906 \nL 128.601562 144.378906 \nQ 130.601562 144.378906 130.601562 142.378906 \nL 130.601562 115.088281 \nQ 130.601562 113.088281 128.601562 113.088281 \nL 53.80625 113.088281 \nQ 51.80625 113.088281 51.80625 115.088281 \nL 51.80625 142.378906 \nQ 51.80625 144.378906 53.80625 144.378906 \nz\n\" style=\"fill: #eaeaf2; opacity: 0.8; stroke: #cccccc; stroke-linejoin: miter\"/>\n    </g>\n    <g id=\"line2d_3\">\n     <path d=\"M 55.80625 120.746094 \nL 65.80625 120.746094 \nL 75.80625 120.746094 \n\" style=\"fill: none; stroke: #1f77b4; stroke-width: 1.5; stroke-linecap: round\"/>\n    </g>\n    <g id=\"text_14\">\n     <!-- train_loss -->\n     <g style=\"fill: #262626\" transform=\"translate(83.80625 124.246094)scale(0.1 -0.1)\">\n      <defs>\n       <path id=\"ArialMT-74\" d=\"M 1650 503 \nL 1731 6 \nQ 1494 -44 1306 -44 \nQ 1000 -44 831 53 \nQ 663 150 594 308 \nQ 525 466 525 972 \nL 525 2881 \nL 113 2881 \nL 113 3319 \nL 525 3319 \nL 525 4141 \nL 1084 4478 \nL 1084 3319 \nL 1650 3319 \nL 1650 2881 \nL 1084 2881 \nL 1084 941 \nQ 1084 700 1114 631 \nQ 1144 563 1211 522 \nQ 1278 481 1403 481 \nQ 1497 481 1650 503 \nz\n\" transform=\"scale(0.015625)\"/>\n       <path id=\"ArialMT-72\" d=\"M 416 0 \nL 416 3319 \nL 922 3319 \nL 922 2816 \nQ 1116 3169 1280 3281 \nQ 1444 3394 1641 3394 \nQ 1925 3394 2219 3213 \nL 2025 2691 \nQ 1819 2813 1613 2813 \nQ 1428 2813 1281 2702 \nQ 1134 2591 1072 2394 \nQ 978 2094 978 1738 \nL 978 0 \nL 416 0 \nz\n\" transform=\"scale(0.015625)\"/>\n       <path id=\"ArialMT-61\" d=\"M 2588 409 \nQ 2275 144 1986 34 \nQ 1697 -75 1366 -75 \nQ 819 -75 525 192 \nQ 231 459 231 875 \nQ 231 1119 342 1320 \nQ 453 1522 633 1644 \nQ 813 1766 1038 1828 \nQ 1203 1872 1538 1913 \nQ 2219 1994 2541 2106 \nQ 2544 2222 2544 2253 \nQ 2544 2597 2384 2738 \nQ 2169 2928 1744 2928 \nQ 1347 2928 1158 2789 \nQ 969 2650 878 2297 \nL 328 2372 \nQ 403 2725 575 2942 \nQ 747 3159 1072 3276 \nQ 1397 3394 1825 3394 \nQ 2250 3394 2515 3294 \nQ 2781 3194 2906 3042 \nQ 3031 2891 3081 2659 \nQ 3109 2516 3109 2141 \nL 3109 1391 \nQ 3109 606 3145 398 \nQ 3181 191 3288 0 \nL 2700 0 \nQ 2613 175 2588 409 \nz\nM 2541 1666 \nQ 2234 1541 1622 1453 \nQ 1275 1403 1131 1340 \nQ 988 1278 909 1158 \nQ 831 1038 831 891 \nQ 831 666 1001 516 \nQ 1172 366 1500 366 \nQ 1825 366 2078 508 \nQ 2331 650 2450 897 \nQ 2541 1088 2541 1459 \nL 2541 1666 \nz\n\" transform=\"scale(0.015625)\"/>\n       <path id=\"ArialMT-69\" d=\"M 425 3934 \nL 425 4581 \nL 988 4581 \nL 988 3934 \nL 425 3934 \nz\nM 425 0 \nL 425 3319 \nL 988 3319 \nL 988 0 \nL 425 0 \nz\n\" transform=\"scale(0.015625)\"/>\n       <path id=\"ArialMT-6e\" d=\"M 422 0 \nL 422 3319 \nL 928 3319 \nL 928 2847 \nQ 1294 3394 1984 3394 \nQ 2284 3394 2536 3286 \nQ 2788 3178 2913 3003 \nQ 3038 2828 3088 2588 \nQ 3119 2431 3119 2041 \nL 3119 0 \nL 2556 0 \nL 2556 2019 \nQ 2556 2363 2490 2533 \nQ 2425 2703 2258 2804 \nQ 2091 2906 1866 2906 \nQ 1506 2906 1245 2678 \nQ 984 2450 984 1813 \nL 984 0 \nL 422 0 \nz\n\" transform=\"scale(0.015625)\"/>\n       <path id=\"ArialMT-5f\" d=\"M -97 -1272 \nL -97 -866 \nL 3631 -866 \nL 3631 -1272 \nL -97 -1272 \nz\n\" transform=\"scale(0.015625)\"/>\n      </defs>\n      <use xlink:href=\"#ArialMT-74\"/>\n      <use xlink:href=\"#ArialMT-72\" x=\"27.783203\"/>\n      <use xlink:href=\"#ArialMT-61\" x=\"61.083984\"/>\n      <use xlink:href=\"#ArialMT-69\" x=\"116.699219\"/>\n      <use xlink:href=\"#ArialMT-6e\" x=\"138.916016\"/>\n      <use xlink:href=\"#ArialMT-5f\" x=\"194.53125\"/>\n      <use xlink:href=\"#ArialMT-6c\" x=\"250.146484\"/>\n      <use xlink:href=\"#ArialMT-6f\" x=\"272.363281\"/>\n      <use xlink:href=\"#ArialMT-73\" x=\"327.978516\"/>\n      <use xlink:href=\"#ArialMT-73\" x=\"377.978516\"/>\n     </g>\n    </g>\n    <g id=\"line2d_4\">\n     <path d=\"M 55.80625 134.891406 \nL 65.80625 134.891406 \nL 75.80625 134.891406 \n\" style=\"fill: none; stroke-dasharray: 5.55,2.4; stroke-dashoffset: 0; stroke: #bf00bf; stroke-width: 1.5\"/>\n    </g>\n    <g id=\"text_15\">\n     <!-- val_loss -->\n     <g style=\"fill: #262626\" transform=\"translate(83.80625 138.391406)scale(0.1 -0.1)\">\n      <defs>\n       <path id=\"ArialMT-76\" d=\"M 1344 0 \nL 81 3319 \nL 675 3319 \nL 1388 1331 \nQ 1503 1009 1600 663 \nQ 1675 925 1809 1294 \nL 2547 3319 \nL 3125 3319 \nL 1869 0 \nL 1344 0 \nz\n\" transform=\"scale(0.015625)\"/>\n      </defs>\n      <use xlink:href=\"#ArialMT-76\"/>\n      <use xlink:href=\"#ArialMT-61\" x=\"50\"/>\n      <use xlink:href=\"#ArialMT-6c\" x=\"105.615234\"/>\n      <use xlink:href=\"#ArialMT-5f\" x=\"127.832031\"/>\n      <use xlink:href=\"#ArialMT-6c\" x=\"183.447266\"/>\n      <use xlink:href=\"#ArialMT-6f\" x=\"205.664062\"/>\n      <use xlink:href=\"#ArialMT-73\" x=\"261.279297\"/>\n      <use xlink:href=\"#ArialMT-73\" x=\"311.279297\"/>\n     </g>\n    </g>\n   </g>\n  </g>\n </g>\n <defs>\n  <clipPath id=\"p8709eacb90\">\n   <rect x=\"46.80625\" y=\"10.778906\" width=\"195.3\" height=\"138.6\"/>\n  </clipPath>\n </defs>\n</svg>\n"
     },
     "metadata": {},
     "output_type": "display_data"
    },
    {
     "data": {
      "text/plain": "<Figure size 350x250 with 1 Axes>",
      "image/svg+xml": "<?xml version=\"1.0\" encoding=\"utf-8\" standalone=\"no\"?>\n<!DOCTYPE svg PUBLIC \"-//W3C//DTD SVG 1.1//EN\"\n  \"http://www.w3.org/Graphics/SVG/1.1/DTD/svg11.dtd\">\n<svg xmlns:xlink=\"http://www.w3.org/1999/xlink\" width=\"254.867188pt\" height=\"185.869531pt\" viewBox=\"0 0 254.867188 185.869531\" xmlns=\"http://www.w3.org/2000/svg\" version=\"1.1\">\n <metadata>\n  <rdf:RDF xmlns:dc=\"http://purl.org/dc/elements/1.1/\" xmlns:cc=\"http://creativecommons.org/ns#\" xmlns:rdf=\"http://www.w3.org/1999/02/22-rdf-syntax-ns#\">\n   <cc:Work>\n    <dc:type rdf:resource=\"http://purl.org/dc/dcmitype/StillImage\"/>\n    <dc:date>2023-04-09T17:43:01.696653</dc:date>\n    <dc:format>image/svg+xml</dc:format>\n    <dc:creator>\n     <cc:Agent>\n      <dc:title>Matplotlib v3.5.1, https://matplotlib.org/</dc:title>\n     </cc:Agent>\n    </dc:creator>\n   </cc:Work>\n  </rdf:RDF>\n </metadata>\n <defs>\n  <style type=\"text/css\">*{stroke-linejoin: round; stroke-linecap: butt}</style>\n </defs>\n <g id=\"figure_1\">\n  <g id=\"patch_1\">\n   <path d=\"M 0 185.869531 \nL 254.867188 185.869531 \nL 254.867188 0 \nL 0 0 \nz\n\" style=\"fill: #ffffff\"/>\n  </g>\n  <g id=\"axes_1\">\n   <g id=\"patch_2\">\n    <path d=\"M 46.80625 149.378906 \nL 242.10625 149.378906 \nL 242.10625 10.778906 \nL 46.80625 10.778906 \nz\n\" style=\"fill: #eaeaf2\"/>\n   </g>\n   <g id=\"matplotlib.axis_1\">\n    <g id=\"xtick_1\">\n     <g id=\"text_1\">\n      <!-- 10 -->\n      <g style=\"fill: #262626\" transform=\"translate(86.314543 163.536719)scale(0.1 -0.1)\">\n       <defs>\n        <path id=\"ArialMT-31\" d=\"M 2384 0 \nL 1822 0 \nL 1822 3584 \nQ 1619 3391 1289 3197 \nQ 959 3003 697 2906 \nL 697 3450 \nQ 1169 3672 1522 3987 \nQ 1875 4303 2022 4600 \nL 2384 4600 \nL 2384 0 \nz\n\" transform=\"scale(0.015625)\"/>\n        <path id=\"ArialMT-30\" d=\"M 266 2259 \nQ 266 3072 433 3567 \nQ 600 4063 929 4331 \nQ 1259 4600 1759 4600 \nQ 2128 4600 2406 4451 \nQ 2684 4303 2865 4023 \nQ 3047 3744 3150 3342 \nQ 3253 2941 3253 2259 \nQ 3253 1453 3087 958 \nQ 2922 463 2592 192 \nQ 2263 -78 1759 -78 \nQ 1097 -78 719 397 \nQ 266 969 266 2259 \nz\nM 844 2259 \nQ 844 1131 1108 757 \nQ 1372 384 1759 384 \nQ 2147 384 2411 759 \nQ 2675 1134 2675 2259 \nQ 2675 3391 2411 3762 \nQ 2147 4134 1753 4134 \nQ 1366 4134 1134 3806 \nQ 844 3388 844 2259 \nz\n\" transform=\"scale(0.015625)\"/>\n       </defs>\n       <use xlink:href=\"#ArialMT-31\"/>\n       <use xlink:href=\"#ArialMT-30\" x=\"55.615234\"/>\n      </g>\n     </g>\n    </g>\n    <g id=\"xtick_2\">\n     <g id=\"text_2\">\n      <!-- 20 -->\n      <g style=\"fill: #262626\" transform=\"translate(136.391466 163.536719)scale(0.1 -0.1)\">\n       <defs>\n        <path id=\"ArialMT-32\" d=\"M 3222 541 \nL 3222 0 \nL 194 0 \nQ 188 203 259 391 \nQ 375 700 629 1000 \nQ 884 1300 1366 1694 \nQ 2113 2306 2375 2664 \nQ 2638 3022 2638 3341 \nQ 2638 3675 2398 3904 \nQ 2159 4134 1775 4134 \nQ 1369 4134 1125 3890 \nQ 881 3647 878 3216 \nL 300 3275 \nQ 359 3922 746 4261 \nQ 1134 4600 1788 4600 \nQ 2447 4600 2831 4234 \nQ 3216 3869 3216 3328 \nQ 3216 3053 3103 2787 \nQ 2991 2522 2730 2228 \nQ 2469 1934 1863 1422 \nQ 1356 997 1212 845 \nQ 1069 694 975 541 \nL 3222 541 \nz\n\" transform=\"scale(0.015625)\"/>\n       </defs>\n       <use xlink:href=\"#ArialMT-32\"/>\n       <use xlink:href=\"#ArialMT-30\" x=\"55.615234\"/>\n      </g>\n     </g>\n    </g>\n    <g id=\"xtick_3\">\n     <g id=\"text_3\">\n      <!-- 30 -->\n      <g style=\"fill: #262626\" transform=\"translate(186.468389 163.536719)scale(0.1 -0.1)\">\n       <defs>\n        <path id=\"ArialMT-33\" d=\"M 269 1209 \nL 831 1284 \nQ 928 806 1161 595 \nQ 1394 384 1728 384 \nQ 2125 384 2398 659 \nQ 2672 934 2672 1341 \nQ 2672 1728 2419 1979 \nQ 2166 2231 1775 2231 \nQ 1616 2231 1378 2169 \nL 1441 2663 \nQ 1497 2656 1531 2656 \nQ 1891 2656 2178 2843 \nQ 2466 3031 2466 3422 \nQ 2466 3731 2256 3934 \nQ 2047 4138 1716 4138 \nQ 1388 4138 1169 3931 \nQ 950 3725 888 3313 \nL 325 3413 \nQ 428 3978 793 4289 \nQ 1159 4600 1703 4600 \nQ 2078 4600 2393 4439 \nQ 2709 4278 2876 4000 \nQ 3044 3722 3044 3409 \nQ 3044 3113 2884 2869 \nQ 2725 2625 2413 2481 \nQ 2819 2388 3044 2092 \nQ 3269 1797 3269 1353 \nQ 3269 753 2831 336 \nQ 2394 -81 1725 -81 \nQ 1122 -81 723 278 \nQ 325 638 269 1209 \nz\n\" transform=\"scale(0.015625)\"/>\n       </defs>\n       <use xlink:href=\"#ArialMT-33\"/>\n       <use xlink:href=\"#ArialMT-30\" x=\"55.615234\"/>\n      </g>\n     </g>\n    </g>\n    <g id=\"xtick_4\">\n     <g id=\"text_4\">\n      <!-- 40 -->\n      <g style=\"fill: #262626\" transform=\"translate(236.545312 163.536719)scale(0.1 -0.1)\">\n       <defs>\n        <path id=\"ArialMT-34\" d=\"M 2069 0 \nL 2069 1097 \nL 81 1097 \nL 81 1613 \nL 2172 4581 \nL 2631 4581 \nL 2631 1613 \nL 3250 1613 \nL 3250 1097 \nL 2631 1097 \nL 2631 0 \nL 2069 0 \nz\nM 2069 1613 \nL 2069 3678 \nL 634 1613 \nL 2069 1613 \nz\n\" transform=\"scale(0.015625)\"/>\n       </defs>\n       <use xlink:href=\"#ArialMT-34\"/>\n       <use xlink:href=\"#ArialMT-30\" x=\"55.615234\"/>\n      </g>\n     </g>\n    </g>\n    <g id=\"text_5\">\n     <!-- epoch -->\n     <g style=\"fill: #262626\" transform=\"translate(130.834375 176.682031)scale(0.1 -0.1)\">\n      <defs>\n       <path id=\"ArialMT-65\" d=\"M 2694 1069 \nL 3275 997 \nQ 3138 488 2766 206 \nQ 2394 -75 1816 -75 \nQ 1088 -75 661 373 \nQ 234 822 234 1631 \nQ 234 2469 665 2931 \nQ 1097 3394 1784 3394 \nQ 2450 3394 2872 2941 \nQ 3294 2488 3294 1666 \nQ 3294 1616 3291 1516 \nL 816 1516 \nQ 847 969 1125 678 \nQ 1403 388 1819 388 \nQ 2128 388 2347 550 \nQ 2566 713 2694 1069 \nz\nM 847 1978 \nL 2700 1978 \nQ 2663 2397 2488 2606 \nQ 2219 2931 1791 2931 \nQ 1403 2931 1139 2672 \nQ 875 2413 847 1978 \nz\n\" transform=\"scale(0.015625)\"/>\n       <path id=\"ArialMT-70\" d=\"M 422 -1272 \nL 422 3319 \nL 934 3319 \nL 934 2888 \nQ 1116 3141 1344 3267 \nQ 1572 3394 1897 3394 \nQ 2322 3394 2647 3175 \nQ 2972 2956 3137 2557 \nQ 3303 2159 3303 1684 \nQ 3303 1175 3120 767 \nQ 2938 359 2589 142 \nQ 2241 -75 1856 -75 \nQ 1575 -75 1351 44 \nQ 1128 163 984 344 \nL 984 -1272 \nL 422 -1272 \nz\nM 931 1641 \nQ 931 1000 1190 694 \nQ 1450 388 1819 388 \nQ 2194 388 2461 705 \nQ 2728 1022 2728 1688 \nQ 2728 2322 2467 2637 \nQ 2206 2953 1844 2953 \nQ 1484 2953 1207 2617 \nQ 931 2281 931 1641 \nz\n\" transform=\"scale(0.015625)\"/>\n       <path id=\"ArialMT-6f\" d=\"M 213 1659 \nQ 213 2581 725 3025 \nQ 1153 3394 1769 3394 \nQ 2453 3394 2887 2945 \nQ 3322 2497 3322 1706 \nQ 3322 1066 3130 698 \nQ 2938 331 2570 128 \nQ 2203 -75 1769 -75 \nQ 1072 -75 642 372 \nQ 213 819 213 1659 \nz\nM 791 1659 \nQ 791 1022 1069 705 \nQ 1347 388 1769 388 \nQ 2188 388 2466 706 \nQ 2744 1025 2744 1678 \nQ 2744 2294 2464 2611 \nQ 2184 2928 1769 2928 \nQ 1347 2928 1069 2612 \nQ 791 2297 791 1659 \nz\n\" transform=\"scale(0.015625)\"/>\n       <path id=\"ArialMT-63\" d=\"M 2588 1216 \nL 3141 1144 \nQ 3050 572 2676 248 \nQ 2303 -75 1759 -75 \nQ 1078 -75 664 370 \nQ 250 816 250 1647 \nQ 250 2184 428 2587 \nQ 606 2991 970 3192 \nQ 1334 3394 1763 3394 \nQ 2303 3394 2647 3120 \nQ 2991 2847 3088 2344 \nL 2541 2259 \nQ 2463 2594 2264 2762 \nQ 2066 2931 1784 2931 \nQ 1359 2931 1093 2626 \nQ 828 2322 828 1663 \nQ 828 994 1084 691 \nQ 1341 388 1753 388 \nQ 2084 388 2306 591 \nQ 2528 794 2588 1216 \nz\n\" transform=\"scale(0.015625)\"/>\n       <path id=\"ArialMT-68\" d=\"M 422 0 \nL 422 4581 \nL 984 4581 \nL 984 2938 \nQ 1378 3394 1978 3394 \nQ 2347 3394 2619 3248 \nQ 2891 3103 3008 2847 \nQ 3125 2591 3125 2103 \nL 3125 0 \nL 2563 0 \nL 2563 2103 \nQ 2563 2525 2380 2717 \nQ 2197 2909 1863 2909 \nQ 1613 2909 1392 2779 \nQ 1172 2650 1078 2428 \nQ 984 2206 984 1816 \nL 984 0 \nL 422 0 \nz\n\" transform=\"scale(0.015625)\"/>\n      </defs>\n      <use xlink:href=\"#ArialMT-65\"/>\n      <use xlink:href=\"#ArialMT-70\" x=\"55.615234\"/>\n      <use xlink:href=\"#ArialMT-6f\" x=\"111.230469\"/>\n      <use xlink:href=\"#ArialMT-63\" x=\"166.845703\"/>\n      <use xlink:href=\"#ArialMT-68\" x=\"216.845703\"/>\n     </g>\n    </g>\n   </g>\n   <g id=\"matplotlib.axis_2\">\n    <g id=\"ytick_1\">\n     <g id=\"text_6\">\n      <!-- 0.00 -->\n      <g style=\"fill: #262626\" transform=\"translate(20.345312 152.957813)scale(0.1 -0.1)\">\n       <defs>\n        <path id=\"ArialMT-2e\" d=\"M 581 0 \nL 581 641 \nL 1222 641 \nL 1222 0 \nL 581 0 \nz\n\" transform=\"scale(0.015625)\"/>\n       </defs>\n       <use xlink:href=\"#ArialMT-30\"/>\n       <use xlink:href=\"#ArialMT-2e\" x=\"55.615234\"/>\n       <use xlink:href=\"#ArialMT-30\" x=\"83.398438\"/>\n       <use xlink:href=\"#ArialMT-30\" x=\"139.013672\"/>\n      </g>\n     </g>\n    </g>\n    <g id=\"ytick_2\">\n     <g id=\"text_7\">\n      <!-- 0.05 -->\n      <g style=\"fill: #262626\" transform=\"translate(20.345312 129.857813)scale(0.1 -0.1)\">\n       <defs>\n        <path id=\"ArialMT-35\" d=\"M 266 1200 \nL 856 1250 \nQ 922 819 1161 601 \nQ 1400 384 1738 384 \nQ 2144 384 2425 690 \nQ 2706 997 2706 1503 \nQ 2706 1984 2436 2262 \nQ 2166 2541 1728 2541 \nQ 1456 2541 1237 2417 \nQ 1019 2294 894 2097 \nL 366 2166 \nL 809 4519 \nL 3088 4519 \nL 3088 3981 \nL 1259 3981 \nL 1013 2750 \nQ 1425 3038 1878 3038 \nQ 2478 3038 2890 2622 \nQ 3303 2206 3303 1553 \nQ 3303 931 2941 478 \nQ 2500 -78 1738 -78 \nQ 1113 -78 717 272 \nQ 322 622 266 1200 \nz\n\" transform=\"scale(0.015625)\"/>\n       </defs>\n       <use xlink:href=\"#ArialMT-30\"/>\n       <use xlink:href=\"#ArialMT-2e\" x=\"55.615234\"/>\n       <use xlink:href=\"#ArialMT-30\" x=\"83.398438\"/>\n       <use xlink:href=\"#ArialMT-35\" x=\"139.013672\"/>\n      </g>\n     </g>\n    </g>\n    <g id=\"ytick_3\">\n     <g id=\"text_8\">\n      <!-- 0.10 -->\n      <g style=\"fill: #262626\" transform=\"translate(20.345312 106.757813)scale(0.1 -0.1)\">\n       <use xlink:href=\"#ArialMT-30\"/>\n       <use xlink:href=\"#ArialMT-2e\" x=\"55.615234\"/>\n       <use xlink:href=\"#ArialMT-31\" x=\"83.398438\"/>\n       <use xlink:href=\"#ArialMT-30\" x=\"139.013672\"/>\n      </g>\n     </g>\n    </g>\n    <g id=\"ytick_4\">\n     <g id=\"text_9\">\n      <!-- 0.15 -->\n      <g style=\"fill: #262626\" transform=\"translate(20.345312 83.657812)scale(0.1 -0.1)\">\n       <use xlink:href=\"#ArialMT-30\"/>\n       <use xlink:href=\"#ArialMT-2e\" x=\"55.615234\"/>\n       <use xlink:href=\"#ArialMT-31\" x=\"83.398438\"/>\n       <use xlink:href=\"#ArialMT-35\" x=\"139.013672\"/>\n      </g>\n     </g>\n    </g>\n    <g id=\"ytick_5\">\n     <g id=\"text_10\">\n      <!-- 0.20 -->\n      <g style=\"fill: #262626\" transform=\"translate(20.345312 60.557812)scale(0.1 -0.1)\">\n       <use xlink:href=\"#ArialMT-30\"/>\n       <use xlink:href=\"#ArialMT-2e\" x=\"55.615234\"/>\n       <use xlink:href=\"#ArialMT-32\" x=\"83.398438\"/>\n       <use xlink:href=\"#ArialMT-30\" x=\"139.013672\"/>\n      </g>\n     </g>\n    </g>\n    <g id=\"ytick_6\">\n     <g id=\"text_11\">\n      <!-- 0.25 -->\n      <g style=\"fill: #262626\" transform=\"translate(20.345312 37.457812)scale(0.1 -0.1)\">\n       <use xlink:href=\"#ArialMT-30\"/>\n       <use xlink:href=\"#ArialMT-2e\" x=\"55.615234\"/>\n       <use xlink:href=\"#ArialMT-32\" x=\"83.398438\"/>\n       <use xlink:href=\"#ArialMT-35\" x=\"139.013672\"/>\n      </g>\n     </g>\n    </g>\n    <g id=\"ytick_7\">\n     <g id=\"text_12\">\n      <!-- 0.30 -->\n      <g style=\"fill: #262626\" transform=\"translate(20.345312 14.357812)scale(0.1 -0.1)\">\n       <use xlink:href=\"#ArialMT-30\"/>\n       <use xlink:href=\"#ArialMT-2e\" x=\"55.615234\"/>\n       <use xlink:href=\"#ArialMT-33\" x=\"83.398438\"/>\n       <use xlink:href=\"#ArialMT-30\" x=\"139.013672\"/>\n      </g>\n     </g>\n    </g>\n    <g id=\"text_13\">\n     <!-- loss -->\n     <g style=\"fill: #262626\" transform=\"translate(14.357812 88.970313)rotate(-90)scale(0.1 -0.1)\">\n      <defs>\n       <path id=\"ArialMT-6c\" d=\"M 409 0 \nL 409 4581 \nL 972 4581 \nL 972 0 \nL 409 0 \nz\n\" transform=\"scale(0.015625)\"/>\n       <path id=\"ArialMT-73\" d=\"M 197 991 \nL 753 1078 \nQ 800 744 1014 566 \nQ 1228 388 1613 388 \nQ 2000 388 2187 545 \nQ 2375 703 2375 916 \nQ 2375 1106 2209 1216 \nQ 2094 1291 1634 1406 \nQ 1016 1563 777 1677 \nQ 538 1791 414 1992 \nQ 291 2194 291 2438 \nQ 291 2659 392 2848 \nQ 494 3038 669 3163 \nQ 800 3259 1026 3326 \nQ 1253 3394 1513 3394 \nQ 1903 3394 2198 3281 \nQ 2494 3169 2634 2976 \nQ 2775 2784 2828 2463 \nL 2278 2388 \nQ 2241 2644 2061 2787 \nQ 1881 2931 1553 2931 \nQ 1166 2931 1000 2803 \nQ 834 2675 834 2503 \nQ 834 2394 903 2306 \nQ 972 2216 1119 2156 \nQ 1203 2125 1616 2013 \nQ 2213 1853 2448 1751 \nQ 2684 1650 2818 1456 \nQ 2953 1263 2953 975 \nQ 2953 694 2789 445 \nQ 2625 197 2315 61 \nQ 2006 -75 1616 -75 \nQ 969 -75 630 194 \nQ 291 463 197 991 \nz\n\" transform=\"scale(0.015625)\"/>\n      </defs>\n      <use xlink:href=\"#ArialMT-6c\"/>\n      <use xlink:href=\"#ArialMT-6f\" x=\"22.216797\"/>\n      <use xlink:href=\"#ArialMT-73\" x=\"77.832031\"/>\n      <use xlink:href=\"#ArialMT-73\" x=\"127.832031\"/>\n     </g>\n    </g>\n   </g>\n   <g id=\"line2d_1\">\n    <path d=\"M 56.802912 -1 \nL 56.821635 19.357005 \nL 61.829327 46.471246 \nL 66.837019 48.854222 \nL 71.844712 47.408119 \nL 76.852404 50.442262 \nL 81.860096 50.672164 \nL 86.867788 51.584806 \nL 91.875481 52.337807 \nL 96.883173 53.37034 \nL 101.890865 52.568803 \nL 106.898558 54.436667 \nL 111.90625 53.622558 \nL 116.913942 54.358966 \nL 121.921635 54.543613 \nL 126.929327 54.590447 \nL 131.937019 55.412473 \nL 136.944712 55.866346 \nL 141.952404 54.653426 \nL 146.960096 56.757372 \nL 151.967788 56.315174 \nL 156.975481 56.214282 \nL 161.983173 56.83069 \nL 166.990865 55.738814 \nL 171.998558 57.586494 \nL 177.00625 56.573712 \nL 182.013942 57.627748 \nL 187.021635 57.85841 \nL 192.029327 58.652946 \nL 197.037019 59.267219 \nL 202.044712 59.216205 \nL 207.052404 58.796323 \nL 212.060096 59.428991 \nL 217.067788 60.979847 \nL 222.075481 60.291634 \nL 227.083173 61.19601 \nL 232.090865 60.296133 \nL 237.098558 61.276179 \nL 242.10625 62.098452 \n\" clip-path=\"url(#pd060f310bd)\" style=\"fill: none; stroke: #1f77b4; stroke-width: 1.5; stroke-linecap: round\"/>\n   </g>\n   <g id=\"line2d_2\">\n    <path d=\"M 55.793014 -1 \nL 56.821635 45.320233 \nL 61.829327 61.382505 \nL 66.837019 64.476948 \nL 71.844712 62.357234 \nL 76.852404 54.10725 \nL 81.860096 57.248026 \nL 86.867788 65.956934 \nL 91.875481 60.07019 \nL 96.883173 60.036373 \nL 101.890865 66.703427 \nL 106.898558 55.831737 \nL 111.90625 58.575315 \nL 116.913942 64.062611 \nL 121.921635 67.952299 \nL 126.929327 63.640537 \nL 131.937019 64.97521 \nL 136.944712 65.224983 \nL 141.952404 65.003288 \nL 146.960096 68.337572 \nL 151.967788 54.07114 \nL 156.975481 59.221588 \nL 161.983173 65.655784 \nL 166.990865 62.301788 \nL 171.998558 68.380826 \nL 177.00625 61.684166 \nL 182.013942 50.905429 \nL 187.021635 56.470044 \nL 192.029327 62.430783 \nL 197.037019 68.177271 \nL 202.044712 67.540227 \nL 207.052404 60.05543 \nL 212.060096 55.233908 \nL 217.067788 60.366386 \nL 222.075481 56.182441 \nL 227.083173 65.810976 \nL 232.090865 62.438796 \nL 237.098558 54.454772 \nL 242.10625 46.17369 \n\" clip-path=\"url(#pd060f310bd)\" style=\"fill: none; stroke-dasharray: 5.55,2.4; stroke-dashoffset: 0; stroke: #bf00bf; stroke-width: 1.5\"/>\n   </g>\n   <g id=\"patch_3\">\n    <path d=\"M 46.80625 149.378906 \nL 46.80625 10.778906 \n\" style=\"fill: none; stroke: #ffffff; stroke-width: 0.8; stroke-linejoin: miter; stroke-linecap: square\"/>\n   </g>\n   <g id=\"patch_4\">\n    <path d=\"M 242.10625 149.378906 \nL 242.10625 10.778906 \n\" style=\"fill: none; stroke: #ffffff; stroke-width: 0.8; stroke-linejoin: miter; stroke-linecap: square\"/>\n   </g>\n   <g id=\"patch_5\">\n    <path d=\"M 46.80625 149.378906 \nL 242.10625 149.378906 \n\" style=\"fill: none; stroke: #ffffff; stroke-width: 0.8; stroke-linejoin: miter; stroke-linecap: square\"/>\n   </g>\n   <g id=\"patch_6\">\n    <path d=\"M 46.80625 10.778906 \nL 242.10625 10.778906 \n\" style=\"fill: none; stroke: #ffffff; stroke-width: 0.8; stroke-linejoin: miter; stroke-linecap: square\"/>\n   </g>\n   <g id=\"legend_1\">\n    <g id=\"patch_7\">\n     <path d=\"M 160.310937 47.069531 \nL 235.10625 47.069531 \nQ 237.10625 47.069531 237.10625 45.069531 \nL 237.10625 17.778906 \nQ 237.10625 15.778906 235.10625 15.778906 \nL 160.310937 15.778906 \nQ 158.310937 15.778906 158.310937 17.778906 \nL 158.310937 45.069531 \nQ 158.310937 47.069531 160.310937 47.069531 \nz\n\" style=\"fill: #eaeaf2; opacity: 0.8; stroke: #cccccc; stroke-linejoin: miter\"/>\n    </g>\n    <g id=\"line2d_3\">\n     <path d=\"M 162.310937 23.436719 \nL 172.310937 23.436719 \nL 182.310937 23.436719 \n\" style=\"fill: none; stroke: #1f77b4; stroke-width: 1.5; stroke-linecap: round\"/>\n    </g>\n    <g id=\"text_14\">\n     <!-- train_loss -->\n     <g style=\"fill: #262626\" transform=\"translate(190.310937 26.936719)scale(0.1 -0.1)\">\n      <defs>\n       <path id=\"ArialMT-74\" d=\"M 1650 503 \nL 1731 6 \nQ 1494 -44 1306 -44 \nQ 1000 -44 831 53 \nQ 663 150 594 308 \nQ 525 466 525 972 \nL 525 2881 \nL 113 2881 \nL 113 3319 \nL 525 3319 \nL 525 4141 \nL 1084 4478 \nL 1084 3319 \nL 1650 3319 \nL 1650 2881 \nL 1084 2881 \nL 1084 941 \nQ 1084 700 1114 631 \nQ 1144 563 1211 522 \nQ 1278 481 1403 481 \nQ 1497 481 1650 503 \nz\n\" transform=\"scale(0.015625)\"/>\n       <path id=\"ArialMT-72\" d=\"M 416 0 \nL 416 3319 \nL 922 3319 \nL 922 2816 \nQ 1116 3169 1280 3281 \nQ 1444 3394 1641 3394 \nQ 1925 3394 2219 3213 \nL 2025 2691 \nQ 1819 2813 1613 2813 \nQ 1428 2813 1281 2702 \nQ 1134 2591 1072 2394 \nQ 978 2094 978 1738 \nL 978 0 \nL 416 0 \nz\n\" transform=\"scale(0.015625)\"/>\n       <path id=\"ArialMT-61\" d=\"M 2588 409 \nQ 2275 144 1986 34 \nQ 1697 -75 1366 -75 \nQ 819 -75 525 192 \nQ 231 459 231 875 \nQ 231 1119 342 1320 \nQ 453 1522 633 1644 \nQ 813 1766 1038 1828 \nQ 1203 1872 1538 1913 \nQ 2219 1994 2541 2106 \nQ 2544 2222 2544 2253 \nQ 2544 2597 2384 2738 \nQ 2169 2928 1744 2928 \nQ 1347 2928 1158 2789 \nQ 969 2650 878 2297 \nL 328 2372 \nQ 403 2725 575 2942 \nQ 747 3159 1072 3276 \nQ 1397 3394 1825 3394 \nQ 2250 3394 2515 3294 \nQ 2781 3194 2906 3042 \nQ 3031 2891 3081 2659 \nQ 3109 2516 3109 2141 \nL 3109 1391 \nQ 3109 606 3145 398 \nQ 3181 191 3288 0 \nL 2700 0 \nQ 2613 175 2588 409 \nz\nM 2541 1666 \nQ 2234 1541 1622 1453 \nQ 1275 1403 1131 1340 \nQ 988 1278 909 1158 \nQ 831 1038 831 891 \nQ 831 666 1001 516 \nQ 1172 366 1500 366 \nQ 1825 366 2078 508 \nQ 2331 650 2450 897 \nQ 2541 1088 2541 1459 \nL 2541 1666 \nz\n\" transform=\"scale(0.015625)\"/>\n       <path id=\"ArialMT-69\" d=\"M 425 3934 \nL 425 4581 \nL 988 4581 \nL 988 3934 \nL 425 3934 \nz\nM 425 0 \nL 425 3319 \nL 988 3319 \nL 988 0 \nL 425 0 \nz\n\" transform=\"scale(0.015625)\"/>\n       <path id=\"ArialMT-6e\" d=\"M 422 0 \nL 422 3319 \nL 928 3319 \nL 928 2847 \nQ 1294 3394 1984 3394 \nQ 2284 3394 2536 3286 \nQ 2788 3178 2913 3003 \nQ 3038 2828 3088 2588 \nQ 3119 2431 3119 2041 \nL 3119 0 \nL 2556 0 \nL 2556 2019 \nQ 2556 2363 2490 2533 \nQ 2425 2703 2258 2804 \nQ 2091 2906 1866 2906 \nQ 1506 2906 1245 2678 \nQ 984 2450 984 1813 \nL 984 0 \nL 422 0 \nz\n\" transform=\"scale(0.015625)\"/>\n       <path id=\"ArialMT-5f\" d=\"M -97 -1272 \nL -97 -866 \nL 3631 -866 \nL 3631 -1272 \nL -97 -1272 \nz\n\" transform=\"scale(0.015625)\"/>\n      </defs>\n      <use xlink:href=\"#ArialMT-74\"/>\n      <use xlink:href=\"#ArialMT-72\" x=\"27.783203\"/>\n      <use xlink:href=\"#ArialMT-61\" x=\"61.083984\"/>\n      <use xlink:href=\"#ArialMT-69\" x=\"116.699219\"/>\n      <use xlink:href=\"#ArialMT-6e\" x=\"138.916016\"/>\n      <use xlink:href=\"#ArialMT-5f\" x=\"194.53125\"/>\n      <use xlink:href=\"#ArialMT-6c\" x=\"250.146484\"/>\n      <use xlink:href=\"#ArialMT-6f\" x=\"272.363281\"/>\n      <use xlink:href=\"#ArialMT-73\" x=\"327.978516\"/>\n      <use xlink:href=\"#ArialMT-73\" x=\"377.978516\"/>\n     </g>\n    </g>\n    <g id=\"line2d_4\">\n     <path d=\"M 162.310937 37.582031 \nL 172.310937 37.582031 \nL 182.310937 37.582031 \n\" style=\"fill: none; stroke-dasharray: 5.55,2.4; stroke-dashoffset: 0; stroke: #bf00bf; stroke-width: 1.5\"/>\n    </g>\n    <g id=\"text_15\">\n     <!-- val_loss -->\n     <g style=\"fill: #262626\" transform=\"translate(190.310937 41.082031)scale(0.1 -0.1)\">\n      <defs>\n       <path id=\"ArialMT-76\" d=\"M 1344 0 \nL 81 3319 \nL 675 3319 \nL 1388 1331 \nQ 1503 1009 1600 663 \nQ 1675 925 1809 1294 \nL 2547 3319 \nL 3125 3319 \nL 1869 0 \nL 1344 0 \nz\n\" transform=\"scale(0.015625)\"/>\n      </defs>\n      <use xlink:href=\"#ArialMT-76\"/>\n      <use xlink:href=\"#ArialMT-61\" x=\"50\"/>\n      <use xlink:href=\"#ArialMT-6c\" x=\"105.615234\"/>\n      <use xlink:href=\"#ArialMT-5f\" x=\"127.832031\"/>\n      <use xlink:href=\"#ArialMT-6c\" x=\"183.447266\"/>\n      <use xlink:href=\"#ArialMT-6f\" x=\"205.664062\"/>\n      <use xlink:href=\"#ArialMT-73\" x=\"261.279297\"/>\n      <use xlink:href=\"#ArialMT-73\" x=\"311.279297\"/>\n     </g>\n    </g>\n   </g>\n  </g>\n </g>\n <defs>\n  <clipPath id=\"pd060f310bd\">\n   <rect x=\"46.80625\" y=\"10.778906\" width=\"195.3\" height=\"138.6\"/>\n  </clipPath>\n </defs>\n</svg>\n"
     },
     "metadata": {},
     "output_type": "display_data"
    }
   ],
   "source": [
    "lr = 1\n",
    "dropout = 0.2\n",
    "in_features = all_features.shape[1]\n",
    "out_features = 1\n",
    "num_epochs = 40\n",
    "num_folds = 4\n",
    "print(in_features)\n",
    "\n",
    "models, val_loss = train_k_fold(train_val_data, num_epochs, num_folds, lr,\n",
    "                      in_features, out_features, dropout)"
   ],
   "metadata": {
    "collapsed": false
   }
  },
  {
   "cell_type": "markdown",
   "source": [
    " # 五、模型推理"
   ],
   "metadata": {
    "collapsed": false
   }
  },
  {
   "cell_type": "code",
   "execution_count": 106,
   "outputs": [],
   "source": [
    "def predict(model, test_iter, test_data):\n",
    "    model.eval()\n",
    "    predicts = []\n",
    "    with torch.no_grad():\n",
    "        for X, in test_iter:\n",
    "            y_hat = model(X).cpu().numpy()\n",
    "            predicts.extend(y_hat.reshape(-1))\n",
    "    test_data['Sold Price'] = pd.Series(predicts)\n",
    "    submission = pd.concat([test_data['Id'], test_data['Sold Price']], axis=1)\n",
    "    submission.to_csv('./submission.csv', index=False)"
   ],
   "metadata": {
    "collapsed": false
   }
  },
  {
   "cell_type": "code",
   "execution_count": 107,
   "outputs": [],
   "source": [
    "predict(models[val_loss.index(min(val_loss))], test_iter, test_data)"
   ],
   "metadata": {
    "collapsed": false
   }
  },
  {
   "cell_type": "code",
   "execution_count": 52,
   "outputs": [],
   "source": [
    "def predict_k_models(models, test_iter, test_data):\n",
    "    for model in models:\n",
    "        model.eval()\n",
    "    predicts = []\n",
    "    with torch.no_grad():\n",
    "        for X, in test_iter:\n",
    "            y_hat = np.zeros((X.shape[0], 1))\n",
    "            for model in models:\n",
    "                y_hat += (model(X).detach().numpy())\n",
    "            predicts.append(y_hat.reshape(-1) / len(models))\n",
    "    predicts = np.concatenate(predicts, axis=0)\n",
    "    test_data['Sold Price'] = pd.Series(predicts)\n",
    "    submission = pd.concat([test_data['Id'], test_data['Sold Price']], axis=1)\n",
    "    submission.to_csv('./submission.csv', index=False)"
   ],
   "metadata": {
    "collapsed": false
   }
  },
  {
   "cell_type": "code",
   "execution_count": 53,
   "outputs": [],
   "source": [
    "predict_k_models(models, test_iter, test_data)"
   ],
   "metadata": {
    "collapsed": false
   }
  },
  {
   "cell_type": "code",
   "execution_count": null,
   "outputs": [],
   "source": [],
   "metadata": {
    "collapsed": false
   }
  }
 ],
 "metadata": {
  "kernelspec": {
   "display_name": "Python 3",
   "language": "python",
   "name": "python3"
  },
  "language_info": {
   "codemirror_mode": {
    "name": "ipython",
    "version": 2
   },
   "file_extension": ".py",
   "mimetype": "text/x-python",
   "name": "python",
   "nbconvert_exporter": "python",
   "pygments_lexer": "ipython2",
   "version": "2.7.6"
  }
 },
 "nbformat": 4,
 "nbformat_minor": 0
}
