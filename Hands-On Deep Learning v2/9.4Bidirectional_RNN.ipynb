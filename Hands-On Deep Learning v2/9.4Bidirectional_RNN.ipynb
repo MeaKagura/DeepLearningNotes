{
 "cells": [
  {
   "cell_type": "code",
   "execution_count": null,
   "metadata": {
    "collapsed": true
   },
   "outputs": [],
   "source": [
    "import math\n",
    "import numpy as np\n",
    "import torch\n",
    "import torch.nn as nn\n",
    "from torch.functional import F\n",
    "import numpy\n",
    "from d2l import torch as d2l"
   ]
  },
  {
   "cell_type": "markdown",
   "source": [
    "# 数据"
   ],
   "metadata": {
    "collapsed": false
   }
  },
  {
   "cell_type": "code",
   "execution_count": null,
   "outputs": [],
   "source": [
    "batch_size = 32\n",
    "num_steps = 35\n",
    "\n",
    "train_iter, vocab = d2l.load_data_time_machine(batch_size, num_steps)"
   ],
   "metadata": {
    "collapsed": false
   }
  },
  {
   "cell_type": "markdown",
   "source": [
    "# 模型"
   ],
   "metadata": {
    "collapsed": false
   }
  },
  {
   "cell_type": "code",
   "execution_count": null,
   "outputs": [],
   "source": [
    "class BidirectionalRNNModel(nn.Module):\n",
    "    def __init__(self, num_inputs, num_hiddens):\n",
    "        super().__init__()\n",
    "        self.num_inputs = num_inputs\n",
    "        self.num_hiddens = num_hiddens\n",
    "        self.rnn = nn.RNN(num_inputs, num_hiddens, bidirectional=True)\n",
    "        self.linear = nn.Linear(2 * num_hiddens, num_inputs)\n",
    "\n",
    "    def forward(self, X, H):\n",
    "        # X: [batch_size, num_steps] -> [num_steps, batch_size, num_inputs]\n",
    "        # H: [num_directions * num_layers, batch_size, num_hiddens]\n",
    "        X = F.one_hot(X.T, self.num_inputs).type(torch.float32)\n",
    "        # Y: [num_steps, batch_size, num_directions * num_hiddens] ->\n",
    "        #    [num_steps * batch_size, num_directions * num_hiddens]\n",
    "        Y, H = self.rnn(X, H)\n",
    "        Y = Y.reshape(-1, 2 * self.num_hiddens)\n",
    "        Y = self.linear(Y)\n",
    "        return Y, H"
   ],
   "metadata": {
    "collapsed": false
   }
  },
  {
   "cell_type": "markdown",
   "source": [
    "# 训练"
   ],
   "metadata": {
    "collapsed": false
   }
  },
  {
   "cell_type": "code",
   "execution_count": null,
   "outputs": [],
   "source": [
    "def grad_clipping(net, theta):\n",
    "    if isinstance(net, nn.Module):\n",
    "        params = [p for p in net.parameters() if p.requires_grad]\n",
    "    else:\n",
    "        params = net.params\n",
    "    norm = math.sqrt(sum(torch.sum((p.grad**2)) for p in params))\n",
    "    if norm > theta:\n",
    "        for param in params:\n",
    "            param.grad[:] *= theta / norm"
   ],
   "metadata": {
    "collapsed": false
   }
  },
  {
   "cell_type": "code",
   "execution_count": null,
   "outputs": [],
   "source": [
    "def train(model, train_iter, loss_fn, optimizer, num_epochs, device):\n",
    "    metric = d2l.Accumulator(2)\n",
    "    timer = d2l.Timer()\n",
    "    animator = d2l.Animator(xlabel=['epoch'], ylabel=['perplexity'],\n",
    "                            legend=['train'], xlim=[1, num_epochs])\n",
    "    model.to(device)\n",
    "    model.train()\n",
    "    for epoch in range(num_epochs):\n",
    "        metric.reset()\n",
    "        timer.start()\n",
    "        for X, Y in train_iter:\n",
    "            # X: [batch_size, num_steps]\n",
    "            # Y: [batch_size, num_steps]\n",
    "            X, Y = X.to(device), Y.to(device)\n",
    "            Y = Y.T.reshape(-1)\n",
    "            H = torch.zeros((2, len(X), model.num_hiddens)).to(device)\n",
    "            Y_hat, _ = model(X, H)\n",
    "            loss = loss_fn(Y_hat, Y)\n",
    "            optimizer.zero_grad()\n",
    "            loss.backward()\n",
    "            grad_clipping(model, 1)\n",
    "            optimizer.step()\n",
    "            metric.add(loss * Y.numel(), Y.numel())\n",
    "        animator.add(epoch + 1, math.exp(metric[0] / metric[1]))\n",
    "        print(f'perplexity: {math.exp(metric[0] / metric[1])}, '\n",
    "              f'speed: {metric[1] / timer.stop()} token(s)/sec')\n"
   ],
   "metadata": {
    "collapsed": false
   }
  },
  {
   "cell_type": "code",
   "execution_count": null,
   "outputs": [],
   "source": [
    "lr = 1\n",
    "num_epochs = 500\n",
    "\n",
    "model = BidirectionalRNNModel(num_inputs=len(vocab), num_hiddens=256)\n",
    "loss_fn = nn.CrossEntropyLoss()\n",
    "optimizer = torch.optim.SGD(model.parameters(), lr)\n",
    "\n",
    "train(model, train_iter, loss_fn, optimizer, num_epochs, d2l.try_gpu())"
   ],
   "metadata": {
    "collapsed": false
   }
  },
  {
   "cell_type": "markdown",
   "source": [
    "# 推理"
   ],
   "metadata": {
    "collapsed": false
   }
  },
  {
   "cell_type": "code",
   "execution_count": null,
   "outputs": [],
   "source": [
    "def predict(model, prefix, num_preds, vocab, device):\n",
    "    model.to(device)\n",
    "    model.eval()\n",
    "    prefix = vocab[list(prefix)]\n",
    "    prefix = [torch.tensor([p]).reshape(1, 1) for p in prefix]\n",
    "    H = torch.zeros((2, 1, model.num_hiddens)).to(device)\n",
    "    for X in prefix:\n",
    "        X = X.to(device)\n",
    "        Y_hat, H = model(X, H)\n",
    "    pred = [torch.argmax(Y_hat, dim=1, keepdim=True)]\n",
    "    for _ in range(num_preds):\n",
    "        Y_hat, H = model(pred[-1], H)\n",
    "        pred.append(torch.argmax(Y_hat, dim=1, keepdim=True))\n",
    "    pred = [vocab.idx_to_token[idx] for idx in pred]\n",
    "    return pred\n"
   ],
   "metadata": {
    "collapsed": false
   }
  },
  {
   "cell_type": "code",
   "execution_count": null,
   "outputs": [],
   "source": [
    "prefix = 'time '\n",
    "pred = ''.join(predict(model, prefix, 50, vocab, d2l.try_gpu()))\n",
    "print(prefix + pred)"
   ],
   "metadata": {
    "collapsed": false
   }
  }
 ],
 "metadata": {
  "kernelspec": {
   "display_name": "Python 3",
   "language": "python",
   "name": "python3"
  },
  "language_info": {
   "codemirror_mode": {
    "name": "ipython",
    "version": 2
   },
   "file_extension": ".py",
   "mimetype": "text/x-python",
   "name": "python",
   "nbconvert_exporter": "python",
   "pygments_lexer": "ipython2",
   "version": "2.7.6"
  }
 },
 "nbformat": 4,
 "nbformat_minor": 0
}
