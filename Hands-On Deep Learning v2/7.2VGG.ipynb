{
 "cells": [
  {
   "cell_type": "code",
   "execution_count": null,
   "metadata": {
    "collapsed": true
   },
   "outputs": [],
   "source": [
    "import torch\n",
    "import torch.nn as nn\n",
    "import d2l.torch as d2l"
   ]
  },
  {
   "cell_type": "markdown",
   "source": [
    "## 加载数据"
   ],
   "metadata": {
    "collapsed": false
   }
  },
  {
   "cell_type": "code",
   "execution_count": null,
   "outputs": [],
   "source": [
    "batch_size = 512\n",
    "train_iter, test_iter = d2l.load_data_fashion_mnist(batch_size, resize=224)"
   ],
   "metadata": {
    "collapsed": false
   }
  },
  {
   "cell_type": "markdown",
   "source": [
    "## 定义模型"
   ],
   "metadata": {
    "collapsed": false
   }
  },
  {
   "cell_type": "code",
   "execution_count": null,
   "outputs": [],
   "source": [
    "class VGGBlock(nn.Module):\n",
    "    def __init__(self, num_convs, in_channels, out_channels):\n",
    "        super().__init__()\n",
    "        layers = []\n",
    "        for i in range(num_convs):\n",
    "            layers.append(nn.Conv2d(in_channels, out_channels, 3, padding=1))\n",
    "            layers.append(nn.ReLU())\n",
    "            in_channels = out_channels\n",
    "        layers.append(nn.MaxPool2d(2, 2))\n",
    "        self.block = nn.Sequential(*layers)\n",
    "\n",
    "    def forward(self, X):\n",
    "        Y = self.block(X)\n",
    "        return Y"
   ],
   "metadata": {
    "collapsed": false
   }
  },
  {
   "cell_type": "code",
   "execution_count": null,
   "outputs": [],
   "source": [
    "conv_arch = ((1, 64), (1, 128), (2, 256), (2, 512), (2, 512))\n",
    "\n",
    "class VGG(nn.Module):\n",
    "    def __init__(self):\n",
    "        super().__init__()\n",
    "        self.block1 = VGGBlock(1, 1, 64)  # [64, 112, 112]\n",
    "        self.block2 = VGGBlock(1, 64, 128)  # [128, 56, 56]\n",
    "        self.block3 = VGGBlock(2, 128, 256)  # [256, 28, 28]\n",
    "        self.block4 = VGGBlock(2, 256, 512)  # [512, 14, 14]\n",
    "        self.block5 = VGGBlock(2, 512, 512)  # [512, 7, 7]\n",
    "        self.linear = nn.Sequential(\n",
    "            nn.Flatten(),  # [512 * 7 * 7]\n",
    "            nn.Linear(512 * 7 * 7, 4096),  # [4096]\n",
    "            nn.Dropout(0.5),\n",
    "            nn.ReLU(),\n",
    "            nn.Linear(4096, 4096),  # [4096]\n",
    "            nn.Dropout(0.5),\n",
    "            nn.ReLU(),\n",
    "            nn.Linear(4096, 10),  # [10]\n",
    "        )\n",
    "\n",
    "    def forward(self, X):\n",
    "        X = X.reshape(-1, 1, 224, 224)\n",
    "        X = self.block1(X)\n",
    "        X = self.block2(X)\n",
    "        X = self.block3(X)\n",
    "        X = self.block4(X)\n",
    "        X = self.block5(X)\n",
    "        y = self.linear(X)\n",
    "        return y"
   ],
   "metadata": {
    "collapsed": false
   }
  },
  {
   "cell_type": "markdown",
   "source": [
    "## 训练"
   ],
   "metadata": {
    "collapsed": false
   }
  },
  {
   "cell_type": "code",
   "execution_count": null,
   "outputs": [],
   "source": [
    "# 模型准确率评估函数\n",
    "def evaluate_accuracy(model, test_iter, device):\n",
    "    metrics = d2l.Accumulator(2)\n",
    "    model.to(device)\n",
    "    model.eval()\n",
    "    for X, y in test_iter:\n",
    "        X, y = X.to(device), y.to(device)\n",
    "        y_hat = model(X)\n",
    "        metrics.add(d2l.accuracy(y_hat, y), y.numel())\n",
    "    return metrics[0] / metrics[1]"
   ],
   "metadata": {
    "collapsed": false
   }
  },
  {
   "cell_type": "code",
   "execution_count": null,
   "outputs": [],
   "source": [
    "# 训练函数\n",
    "def train(model, train_iter, test_iter, loss_fn, optimizer, num_epochs, device):\n",
    "    animator = d2l.Animator(xlabel='epoch', xlim=[1, num_epochs], ylim=[0, 1],\n",
    "                            legend=['train_loss', 'train_acc', 'test_acc'])\n",
    "    metrics = d2l.Accumulator(3)\n",
    "    timer = d2l.Timer()\n",
    "    model.to(device)\n",
    "    model.train()\n",
    "    for epoch in range(num_epochs):\n",
    "        metrics.reset()\n",
    "        timer.start()\n",
    "        for X, y in train_iter:\n",
    "            X, y = X.to(device), y.to(device)\n",
    "            y_hat = model(X)\n",
    "            loss = loss_fn(y_hat, y)\n",
    "            optimizer.zero_grad()\n",
    "            loss.backward()\n",
    "            optimizer.step()\n",
    "            with torch.no_grad():\n",
    "                metrics.add(loss * y.numel(), d2l.accuracy(y_hat, y), y.numel())\n",
    "        timer.stop()\n",
    "        print(f'speed: {metrics[2] / timer.times[-1]:.1f} samples/sec')\n",
    "        test_acc = evaluate_accuracy(model, test_iter, d2l.try_gpu())\n",
    "        print(f'train_acc: {metrics[1] / metrics[2]:.3f}, test_acc: {test_acc}')\n",
    "        animator.add(epoch + 1,\n",
    "                     (metrics[0] / metrics[2], metrics[1] / metrics[2], test_acc))\n",
    "    print(f'speed: {metrics[2] / timer.avg():.1f} samples/sec on {device}.')\n",
    "    print(f'train_acc: {metrics[1] / metrics[2]:.3f}, test_acc: {test_acc}.')"
   ],
   "metadata": {
    "collapsed": false
   }
  },
  {
   "cell_type": "code",
   "execution_count": null,
   "outputs": [],
   "source": [
    "lr = 0.1\n",
    "num_epochs = 10\n",
    "\n",
    "model = VGG()\n",
    "loss_fn = nn.CrossEntropyLoss()\n",
    "optimizer = torch.optim.SGD(model.parameters(), lr)\n",
    "\n",
    "train(model,  train_iter, test_iter, loss_fn, optimizer, num_epochs, d2l.try_gpu())"
   ],
   "metadata": {
    "collapsed": false
   }
  }
 ],
 "metadata": {
  "kernelspec": {
   "display_name": "Python 3",
   "language": "python",
   "name": "python3"
  },
  "language_info": {
   "codemirror_mode": {
    "name": "ipython",
    "version": 2
   },
   "file_extension": ".py",
   "mimetype": "text/x-python",
   "name": "python",
   "nbconvert_exporter": "python",
   "pygments_lexer": "ipython2",
   "version": "2.7.6"
  }
 },
 "nbformat": 4,
 "nbformat_minor": 0
}
